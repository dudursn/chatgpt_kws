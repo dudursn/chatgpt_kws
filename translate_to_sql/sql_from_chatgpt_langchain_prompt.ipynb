{
 "cells": [
  {
   "cell_type": "code",
   "execution_count": 3,
   "id": "897fd8fd-9d78-412c-9d90-229a0dccc9f9",
   "metadata": {
    "tags": []
   },
   "outputs": [
    {
     "data": {
      "text/plain": [
       "True"
      ]
     },
     "execution_count": 3,
     "metadata": {},
     "output_type": "execute_result"
    }
   ],
   "source": [
    "from langchain.sql_database import SQLDatabase\n",
    "from langchain.chat_models import ChatOpenAI\n",
    "from langchain import SQLDatabaseChain\n",
    "from urllib.parse import quote  \n",
    "from sqlalchemy import create_engine, select, Table, MetaData, Column, String\n",
    "from dotenv import load_dotenv\n",
    "import os\n",
    "\n",
    "load_dotenv()"
   ]
  },
  {
   "cell_type": "markdown",
   "id": "23f80335",
   "metadata": {},
   "source": [
    "# Gerando consulta SQL equivalente a da consulta em linguagem natural através do ChatGPT com auxílio do Langchain e um prompt criado manualmente\n",
    "\n",
    "\n",
    "O langchain automatiza o processo de criação de um prompt para um esquema de banco de dados. Para responder consultas sobre um banco de dados SQL, o langchain usa o SQLDatabaseChain, cuja tarefa principal é fornecer à GPT informações de bancos de dados personalizados. Além disso, pode-se personalizar o prompt usado e adicionar mais informações ao GPT\n"
   ]
  },
  {
   "cell_type": "markdown",
   "id": "d3dceba9",
   "metadata": {},
   "source": [
    "### Conectando ao Oracle Database\n",
    "\n",
    "https://analytix.nl/post/querying-complex-database-schemas-with-gpt-and-langchain/\n",
    "https://python.langchain.com/docs/modules/chains/popular/sqlite\n",
    "https://python.langchain.com/docs/modules/agents/toolkits/sql_database\n"
   ]
  },
  {
   "cell_type": "code",
   "execution_count": 17,
   "id": "bfed0447-0ae7-40bf-8884-4f48ce7981e6",
   "metadata": {
    "tags": []
   },
   "outputs": [
    {
     "name": "stdout",
     "output_type": "stream",
     "text": [
      "oracle+oracledb://mondial_sql:mondial_sql@(DESCRIPTION=(ADDRESS=(PROTOCOL=TCP)(HOST=beatriz.tecgraf.puc-rio.br)(PORT=1521))(CONNECT_DATA=(SERVICE_NAME=orcl.tecgraf.puc-rio.br)))\n"
     ]
    }
   ],
   "source": [
    "username = str(os.getenv('DB_USER_NAME'))\n",
    "passwd = str(os.getenv('DB_PASS'))\n",
    "hostname = str(os.getenv('DB_HOST'))\n",
    "port = str(os.getenv('DB_PORT'))\n",
    "database = str(os.getenv('DB_NAME'))\n",
    "sqldriver = str(os.getenv('SQL_DRIVER'))\n",
    "servicename = str(os.getenv('SERVICE_NAME'))\n",
    "\n",
    "# dsn = \"\"\"(DESCRIPTION=(ADDRESS=(PROTOCOL=TCP)(HOST={hostname})\n",
    "#     (PORT={port}))(CONNECT_DATA=(SERVER=DEDICATED)(SERVICE_NAME={servicename})))\"\"\"\n",
    "    \n",
    "import cx_Oracle\n",
    "dsnStr = cx_Oracle.makedsn(host = hostname, port = port, service_name = servicename).replace(\"SID\", \"SERVICE_NAME\")\n",
    "    \n",
    "uri = \"{}://{}:{}@{}\".format(sqldriver, username, quote(passwd), dsnStr)\n",
    "print(uri)\n",
    "db = SQLDatabase.from_uri(uri)"
   ]
  },
  {
   "cell_type": "markdown",
   "id": "b6584a19",
   "metadata": {},
   "source": [
    "Testando a conexão"
   ]
  },
  {
   "cell_type": "code",
   "execution_count": 18,
   "id": "01106c13",
   "metadata": {},
   "outputs": [
    {
     "data": {
      "text/plain": [
       "['airport',\n",
       " 'borders',\n",
       " 'city',\n",
       " 'citylocalname',\n",
       " 'cityothername',\n",
       " 'citypops',\n",
       " 'continent',\n",
       " 'country',\n",
       " 'countrylocalname',\n",
       " 'countryothername',\n",
       " 'countrypops',\n",
       " 'desert',\n",
       " 'dr$i_mondial_tmdc_test$i',\n",
       " 'dr$i_mondial_tmdc_test$k',\n",
       " 'dr$i_mondial_tmdc_test$n',\n",
       " 'dr$i_mondial_tmdc_test$r',\n",
       " 'dr$i_mondial_tmdc_test$u',\n",
       " 'dr$i_mondial_tmdp_test$i',\n",
       " 'dr$i_mondial_tmdp_test$k',\n",
       " 'dr$i_mondial_tmdp_test$n',\n",
       " 'dr$i_mondial_tmdp_test$r',\n",
       " 'dr$i_mondial_tmdp_test$u',\n",
       " 'dr$i_mondial_tpv_test$i',\n",
       " 'dr$i_mondial_tpv_test$k',\n",
       " 'dr$i_mondial_tpv_test$n',\n",
       " 'dr$i_mondial_tpv_test$r',\n",
       " 'dr$i_mondial_tpv_test$u',\n",
       " 'dr$idx_ctx_00d49b9c00d8b7c23$i',\n",
       " 'dr$idx_ctx_00d49b9c00d8b7c23$k',\n",
       " 'dr$idx_ctx_00d49b9c00d8b7c23$n',\n",
       " 'dr$idx_ctx_00d49b9c00d8b7c23$r',\n",
       " 'dr$idx_ctx_00d49b9c00d8b7c23$u',\n",
       " 'dr$idx_ctx_011be7ab6d6a4a465$i',\n",
       " 'dr$idx_ctx_011be7ab6d6a4a465$k',\n",
       " 'dr$idx_ctx_011be7ab6d6a4a465$n',\n",
       " 'dr$idx_ctx_011be7ab6d6a4a465$r',\n",
       " 'dr$idx_ctx_011be7ab6d6a4a465$u',\n",
       " 'dr$idx_ctx_0dea24ec14ddda69e$i',\n",
       " 'dr$idx_ctx_0dea24ec14ddda69e$k',\n",
       " 'dr$idx_ctx_0dea24ec14ddda69e$n',\n",
       " 'dr$idx_ctx_0dea24ec14ddda69e$r',\n",
       " 'dr$idx_ctx_0dea24ec14ddda69e$u',\n",
       " 'dr$idx_ctx_16de3e45ae84da61e$i',\n",
       " 'dr$idx_ctx_16de3e45ae84da61e$k',\n",
       " 'dr$idx_ctx_16de3e45ae84da61e$n',\n",
       " 'dr$idx_ctx_16de3e45ae84da61e$r',\n",
       " 'dr$idx_ctx_16de3e45ae84da61e$u',\n",
       " 'dr$idx_ctx_2a559a3e91ab5d965$i',\n",
       " 'dr$idx_ctx_2a559a3e91ab5d965$k',\n",
       " 'dr$idx_ctx_2a559a3e91ab5d965$n',\n",
       " 'dr$idx_ctx_2a559a3e91ab5d965$r',\n",
       " 'dr$idx_ctx_2a559a3e91ab5d965$u',\n",
       " 'dr$idx_ctx_2eeb2cb726d535942$i',\n",
       " 'dr$idx_ctx_2eeb2cb726d535942$k',\n",
       " 'dr$idx_ctx_2eeb2cb726d535942$n',\n",
       " 'dr$idx_ctx_2eeb2cb726d535942$r',\n",
       " 'dr$idx_ctx_2eeb2cb726d535942$u',\n",
       " 'dr$idx_ctx_306eb6de01f8c7434$i',\n",
       " 'dr$idx_ctx_306eb6de01f8c7434$k',\n",
       " 'dr$idx_ctx_306eb6de01f8c7434$n',\n",
       " 'dr$idx_ctx_306eb6de01f8c7434$r',\n",
       " 'dr$idx_ctx_306eb6de01f8c7434$u',\n",
       " 'dr$idx_ctx_3485bc6623f0f4747$i',\n",
       " 'dr$idx_ctx_3485bc6623f0f4747$k',\n",
       " 'dr$idx_ctx_3485bc6623f0f4747$n',\n",
       " 'dr$idx_ctx_3485bc6623f0f4747$r',\n",
       " 'dr$idx_ctx_3485bc6623f0f4747$u',\n",
       " 'dr$idx_ctx_34a7c8fd5189c2da7$i',\n",
       " 'dr$idx_ctx_34a7c8fd5189c2da7$k',\n",
       " 'dr$idx_ctx_34a7c8fd5189c2da7$n',\n",
       " 'dr$idx_ctx_34a7c8fd5189c2da7$r',\n",
       " 'dr$idx_ctx_34a7c8fd5189c2da7$u',\n",
       " 'dr$idx_ctx_3df65f0889da6f2e2$i',\n",
       " 'dr$idx_ctx_3df65f0889da6f2e2$k',\n",
       " 'dr$idx_ctx_3df65f0889da6f2e2$n',\n",
       " 'dr$idx_ctx_3df65f0889da6f2e2$r',\n",
       " 'dr$idx_ctx_3df65f0889da6f2e2$u',\n",
       " 'dr$idx_ctx_42f66382a61321909$i',\n",
       " 'dr$idx_ctx_42f66382a61321909$k',\n",
       " 'dr$idx_ctx_42f66382a61321909$n',\n",
       " 'dr$idx_ctx_42f66382a61321909$r',\n",
       " 'dr$idx_ctx_42f66382a61321909$u',\n",
       " 'dr$idx_ctx_473edc653a1ab3203$i',\n",
       " 'dr$idx_ctx_473edc653a1ab3203$k',\n",
       " 'dr$idx_ctx_473edc653a1ab3203$n',\n",
       " 'dr$idx_ctx_473edc653a1ab3203$r',\n",
       " 'dr$idx_ctx_473edc653a1ab3203$u',\n",
       " 'dr$idx_ctx_517870205954235ac$i',\n",
       " 'dr$idx_ctx_517870205954235ac$k',\n",
       " 'dr$idx_ctx_517870205954235ac$n',\n",
       " 'dr$idx_ctx_517870205954235ac$r',\n",
       " 'dr$idx_ctx_517870205954235ac$u',\n",
       " 'dr$idx_ctx_552f852ebb54f3aa8$i',\n",
       " 'dr$idx_ctx_552f852ebb54f3aa8$k',\n",
       " 'dr$idx_ctx_552f852ebb54f3aa8$n',\n",
       " 'dr$idx_ctx_552f852ebb54f3aa8$r',\n",
       " 'dr$idx_ctx_552f852ebb54f3aa8$u',\n",
       " 'dr$idx_ctx_61acd2295cf6f7538$i',\n",
       " 'dr$idx_ctx_61acd2295cf6f7538$k',\n",
       " 'dr$idx_ctx_61acd2295cf6f7538$n',\n",
       " 'dr$idx_ctx_61acd2295cf6f7538$r',\n",
       " 'dr$idx_ctx_61acd2295cf6f7538$u',\n",
       " 'dr$idx_ctx_63c649fc0ad8d2845$i',\n",
       " 'dr$idx_ctx_63c649fc0ad8d2845$k',\n",
       " 'dr$idx_ctx_63c649fc0ad8d2845$n',\n",
       " 'dr$idx_ctx_63c649fc0ad8d2845$r',\n",
       " 'dr$idx_ctx_63c649fc0ad8d2845$u',\n",
       " 'dr$idx_ctx_6743aaeb10890870c$i',\n",
       " 'dr$idx_ctx_6743aaeb10890870c$k',\n",
       " 'dr$idx_ctx_6743aaeb10890870c$n',\n",
       " 'dr$idx_ctx_6743aaeb10890870c$r',\n",
       " 'dr$idx_ctx_6743aaeb10890870c$u',\n",
       " 'dr$idx_ctx_71a2614c4461d71b1$i',\n",
       " 'dr$idx_ctx_71a2614c4461d71b1$k',\n",
       " 'dr$idx_ctx_71a2614c4461d71b1$n',\n",
       " 'dr$idx_ctx_71a2614c4461d71b1$r',\n",
       " 'dr$idx_ctx_71a2614c4461d71b1$u',\n",
       " 'dr$idx_ctx_7a85a26004f2d8d36$i',\n",
       " 'dr$idx_ctx_7a85a26004f2d8d36$k',\n",
       " 'dr$idx_ctx_7a85a26004f2d8d36$n',\n",
       " 'dr$idx_ctx_7a85a26004f2d8d36$r',\n",
       " 'dr$idx_ctx_7a85a26004f2d8d36$u',\n",
       " 'dr$idx_ctx_8e614645364f2c024$i',\n",
       " 'dr$idx_ctx_8e614645364f2c024$k',\n",
       " 'dr$idx_ctx_8e614645364f2c024$n',\n",
       " 'dr$idx_ctx_8e614645364f2c024$r',\n",
       " 'dr$idx_ctx_8e614645364f2c024$u',\n",
       " 'dr$idx_ctx_92a036ecb8679e570$i',\n",
       " 'dr$idx_ctx_92a036ecb8679e570$k',\n",
       " 'dr$idx_ctx_92a036ecb8679e570$n',\n",
       " 'dr$idx_ctx_92a036ecb8679e570$r',\n",
       " 'dr$idx_ctx_92a036ecb8679e570$u',\n",
       " 'dr$idx_ctx_a4555f60391389747$i',\n",
       " 'dr$idx_ctx_a4555f60391389747$k',\n",
       " 'dr$idx_ctx_a4555f60391389747$n',\n",
       " 'dr$idx_ctx_a4555f60391389747$r',\n",
       " 'dr$idx_ctx_a4555f60391389747$u',\n",
       " 'dr$idx_ctx_abcaec9523ffddbfb$i',\n",
       " 'dr$idx_ctx_abcaec9523ffddbfb$k',\n",
       " 'dr$idx_ctx_abcaec9523ffddbfb$n',\n",
       " 'dr$idx_ctx_abcaec9523ffddbfb$r',\n",
       " 'dr$idx_ctx_abcaec9523ffddbfb$u',\n",
       " 'dr$idx_ctx_ae3209f7ca8808255$i',\n",
       " 'dr$idx_ctx_ae3209f7ca8808255$k',\n",
       " 'dr$idx_ctx_ae3209f7ca8808255$n',\n",
       " 'dr$idx_ctx_ae3209f7ca8808255$r',\n",
       " 'dr$idx_ctx_ae3209f7ca8808255$u',\n",
       " 'dr$idx_ctx_b7d5ad8e07d2c056d$i',\n",
       " 'dr$idx_ctx_b7d5ad8e07d2c056d$k',\n",
       " 'dr$idx_ctx_b7d5ad8e07d2c056d$n',\n",
       " 'dr$idx_ctx_b7d5ad8e07d2c056d$r',\n",
       " 'dr$idx_ctx_b7d5ad8e07d2c056d$u',\n",
       " 'dr$idx_ctx_bc42eb74b61c92ffd$i',\n",
       " 'dr$idx_ctx_bc42eb74b61c92ffd$k',\n",
       " 'dr$idx_ctx_bc42eb74b61c92ffd$n',\n",
       " 'dr$idx_ctx_bc42eb74b61c92ffd$r',\n",
       " 'dr$idx_ctx_bc42eb74b61c92ffd$u',\n",
       " 'dr$idx_ctx_cbf46eae7a6a2ec38$i',\n",
       " 'dr$idx_ctx_cbf46eae7a6a2ec38$k',\n",
       " 'dr$idx_ctx_cbf46eae7a6a2ec38$n',\n",
       " 'dr$idx_ctx_cbf46eae7a6a2ec38$r',\n",
       " 'dr$idx_ctx_cbf46eae7a6a2ec38$u',\n",
       " 'dr$idx_ctx_cce80a81faeb83e70$i',\n",
       " 'dr$idx_ctx_cce80a81faeb83e70$k',\n",
       " 'dr$idx_ctx_cce80a81faeb83e70$n',\n",
       " 'dr$idx_ctx_cce80a81faeb83e70$r',\n",
       " 'dr$idx_ctx_cce80a81faeb83e70$u',\n",
       " 'dr$idx_ctx_cfc1a7c55a3d49799$i',\n",
       " 'dr$idx_ctx_cfc1a7c55a3d49799$k',\n",
       " 'dr$idx_ctx_cfc1a7c55a3d49799$n',\n",
       " 'dr$idx_ctx_cfc1a7c55a3d49799$r',\n",
       " 'dr$idx_ctx_cfc1a7c55a3d49799$u',\n",
       " 'dr$idx_ctx_d523b7949dc621e85$i',\n",
       " 'dr$idx_ctx_d523b7949dc621e85$k',\n",
       " 'dr$idx_ctx_d523b7949dc621e85$n',\n",
       " 'dr$idx_ctx_d523b7949dc621e85$r',\n",
       " 'dr$idx_ctx_d523b7949dc621e85$u',\n",
       " 'dr$idx_ctx_de87c06551a333119$i',\n",
       " 'dr$idx_ctx_de87c06551a333119$k',\n",
       " 'dr$idx_ctx_de87c06551a333119$n',\n",
       " 'dr$idx_ctx_de87c06551a333119$r',\n",
       " 'dr$idx_ctx_de87c06551a333119$u',\n",
       " 'dr$idx_ctx_e5f9ea73d2060cc06$i',\n",
       " 'dr$idx_ctx_e5f9ea73d2060cc06$k',\n",
       " 'dr$idx_ctx_e5f9ea73d2060cc06$n',\n",
       " 'dr$idx_ctx_e5f9ea73d2060cc06$r',\n",
       " 'dr$idx_ctx_e5f9ea73d2060cc06$u',\n",
       " 'dr$idx_ctx_f07f212d2749b3dc7$i',\n",
       " 'dr$idx_ctx_f07f212d2749b3dc7$k',\n",
       " 'dr$idx_ctx_f07f212d2749b3dc7$n',\n",
       " 'dr$idx_ctx_f07f212d2749b3dc7$r',\n",
       " 'dr$idx_ctx_f07f212d2749b3dc7$u',\n",
       " 'dr$idx_ctx_fad1477a6e3ef9913$i',\n",
       " 'dr$idx_ctx_fad1477a6e3ef9913$k',\n",
       " 'dr$idx_ctx_fad1477a6e3ef9913$n',\n",
       " 'dr$idx_ctx_fad1477a6e3ef9913$r',\n",
       " 'dr$idx_ctx_fad1477a6e3ef9913$u',\n",
       " 'economy',\n",
       " 'encompasses',\n",
       " 'ethnicgroup',\n",
       " 'geo_desert',\n",
       " 'geo_estuary',\n",
       " 'geo_island',\n",
       " 'geo_lake',\n",
       " 'geo_mountain',\n",
       " 'geo_river',\n",
       " 'geo_sea',\n",
       " 'geo_source',\n",
       " 'island',\n",
       " 'islandin',\n",
       " 'ismember',\n",
       " 'lake',\n",
       " 'lakeonisland',\n",
       " 'language',\n",
       " 'located',\n",
       " 'locatedon',\n",
       " 'mdrt_3d0a5$',\n",
       " 'mdxt_434ca$',\n",
       " 'mergeswith',\n",
       " 'mondial_action_log',\n",
       " 'mondial_airport',\n",
       " 'mondial_borders',\n",
       " 'mondial_city',\n",
       " 'mondial_cityothername',\n",
       " 'mondial_citypops',\n",
       " 'mondial_continent',\n",
       " 'mondial_country',\n",
       " 'mondial_countrypops',\n",
       " 'mondial_desert',\n",
       " 'mondial_economy',\n",
       " 'mondial_encompasses',\n",
       " 'mondial_ethnicgroup',\n",
       " 'mondial_geo_desert',\n",
       " 'mondial_geo_mountain',\n",
       " 'mondial_island',\n",
       " 'mondial_islandin',\n",
       " 'mondial_ismember',\n",
       " 'mondial_lake',\n",
       " 'mondial_language',\n",
       " 'mondial_located',\n",
       " 'mondial_locatedon',\n",
       " 'mondial_log',\n",
       " 'mondial_mergeswith',\n",
       " 'mondial_mountain',\n",
       " 'mondial_mountainonisland',\n",
       " 'mondial_organization',\n",
       " 'mondial_politics',\n",
       " 'mondial_province',\n",
       " 'mondial_provinceothername',\n",
       " 'mondial_provpops',\n",
       " 'mondial_religion',\n",
       " 'mondial_river',\n",
       " 'mondial_riverthrough',\n",
       " 'mondial_sea',\n",
       " 'mondial_search_log',\n",
       " 'mondial_tgeom',\n",
       " 'mondial_tmcmap',\n",
       " 'mondial_tmdc',\n",
       " 'mondial_tmdc_test',\n",
       " 'mondial_tmdcmap_test',\n",
       " 'mondial_tmdco',\n",
       " 'mondial_tmdej',\n",
       " 'mondial_tmdej_test',\n",
       " 'mondial_tmdg',\n",
       " 'mondial_tmdp',\n",
       " 'mondial_tmdp_test',\n",
       " 'mondial_tmdpmap_test',\n",
       " 'mondial_tmjmap',\n",
       " 'mondial_tmjmap_test',\n",
       " 'mondial_tmpmap',\n",
       " 'mondial_tpv',\n",
       " 'mondial_tpv_test',\n",
       " 'mountain',\n",
       " 'mountainonisland',\n",
       " 'organization',\n",
       " 'politics',\n",
       " 'population',\n",
       " 'province',\n",
       " 'provincelocalname',\n",
       " 'provinceothername',\n",
       " 'provpops',\n",
       " 'religion',\n",
       " 'river',\n",
       " 'riveronisland',\n",
       " 'riverthrough',\n",
       " 'sea',\n",
       " 'sublanguage']"
      ]
     },
     "execution_count": 18,
     "metadata": {},
     "output_type": "execute_result"
    }
   ],
   "source": [
    "db.get_table_names()"
   ]
  },
  {
   "cell_type": "markdown",
   "id": "7700d45e",
   "metadata": {},
   "source": [
    "Após importar e rodar localmente, gerou erros,\n",
    "- o SQLAlchemy não sabia que tipo era GEOCOORD\n",
    "\n",
    "- o número de tokens enviados ao modelo referente a informações do banco de dados foi maior que o limite máximo de tokens(4097).\n"
   ]
  },
  {
   "cell_type": "markdown",
   "id": "a8e08feb",
   "metadata": {},
   "source": [
    "Então a próxima abordagem foi diminuir o tamanho da base de dados, adicionando \n",
    "2 linhas de exemplos para cada tabela"
   ]
  },
  {
   "cell_type": "code",
   "execution_count": 19,
   "id": "c2bae8c0",
   "metadata": {},
   "outputs": [
    {
     "data": {
      "text/plain": [
       "['airport',\n",
       " 'borders',\n",
       " 'city',\n",
       " 'citylocalname',\n",
       " 'cityothername',\n",
       " 'citypops',\n",
       " 'continent',\n",
       " 'country',\n",
       " 'countrylocalname',\n",
       " 'countryothername',\n",
       " 'countrypops',\n",
       " 'economy',\n",
       " 'encompasses',\n",
       " 'ethnicgroup',\n",
       " 'organization',\n",
       " 'politics',\n",
       " 'population',\n",
       " 'province',\n",
       " 'provincelocalname',\n",
       " 'provinceothername',\n",
       " 'provpops',\n",
       " 'religion']"
      ]
     },
     "execution_count": 19,
     "metadata": {},
     "output_type": "execute_result"
    }
   ],
   "source": [
    "include_tables = [\"airport\", \"borders\", \"city\", \"citylocalname\", \"cityothername\", \"citypops\", \"continent\", \"country\", \n",
    "                  \"countrylocalname\", \"countryothername\", \"countrypops\", \"economy\", \"encompasses\", \"ethnicgroup\", \"organization\", \n",
    "                  \"politics\", \"population\", \"province\", \"provincelocalname\", \"provinceothername\", \"provpops\", \"religion\"]\n",
    "\n",
    "db = SQLDatabase.from_uri(uri, include_tables=include_tables, sample_rows_in_table_info=2)\n",
    "\n",
    "db.get_table_names()"
   ]
  },
  {
   "cell_type": "markdown",
   "id": "2ab7c8f0",
   "metadata": {},
   "source": [
    "Verificando o prompt que o langchain passa para o GPT"
   ]
  },
  {
   "cell_type": "code",
   "execution_count": 20,
   "id": "7b4d8429",
   "metadata": {},
   "outputs": [
    {
     "name": "stdout",
     "output_type": "stream",
     "text": [
      "\n",
      "CREATE TABLE airport (\n",
      "\tiatacode VARCHAR(3 CHAR) NOT NULL, \n",
      "\tname VARCHAR(100 CHAR), \n",
      "\tcountry VARCHAR(4 CHAR), \n",
      "\tcity VARCHAR(50 CHAR), \n",
      "\tprovince VARCHAR(50 CHAR), \n",
      "\tisland VARCHAR(50 CHAR), \n",
      "\tlatitude NUMBER, \n",
      "\tlongitude NUMBER, \n",
      "\televation NUMBER, \n",
      "\tgmtoffset NUMBER, \n",
      "\tCONSTRAINT sys_c00114043 PRIMARY KEY (iatacode), \n",
      "\tCONSTRAINT airplat CHECK ((Latitude >= -90) AND (Latitude <= 90)), \n",
      "\tCONSTRAINT airplon CHECK ((Longitude >= -180) AND (Longitude <= 180))\n",
      ")\n",
      "\n",
      "/*\n",
      "2 rows from airport table:\n",
      "iatacode\tname\tcountry\tcity\tprovince\tisland\tlatitude\tlongitude\televation\tgmtoffset\n",
      "KMG\tWujiaba\tCN\tKunming\tYunnan\tNone\t24.992364\t102.743536\t1895.0\t8.0\n",
      "TSN\tBinhai\tCN\tTianjin\tTianjin\tNone\t39.124353\t117.346183\t3.0\t8.0\n",
      "*/\n",
      "\n",
      "\n",
      "CREATE TABLE borders (\n",
      "\tcountry1 VARCHAR(4 CHAR) NOT NULL, \n",
      "\tcountry2 VARCHAR(4 CHAR) NOT NULL, \n",
      "\tlength NUMBER, \n",
      "\tCONSTRAINT borderkey PRIMARY KEY (country1, country2), \n",
      "\tCONSTRAINT sys_c00113990 CHECK (Length > 0)\n",
      ")\n",
      "\n",
      "/*\n",
      "2 rows from borders table:\n",
      "country1\tcountry2\tlength\n",
      "AL\tGR\t282.0\n",
      "AL\tMK\t151.0\n",
      "*/\n",
      "\n",
      "\n",
      "CREATE TABLE city (\n",
      "\tname VARCHAR(50 CHAR) NOT NULL, \n",
      "\tcountry VARCHAR(4 CHAR) NOT NULL, \n",
      "\tprovince VARCHAR(50 CHAR) NOT NULL, \n",
      "\tpopulation NUMBER, \n",
      "\tlatitude NUMBER, \n",
      "\tlongitude NUMBER, \n",
      "\televation NUMBER, \n",
      "\tCONSTRAINT citykey PRIMARY KEY (name, country, province), \n",
      "\tCONSTRAINT citylat CHECK ((Latitude >= -90) AND (Latitude <= 90)), \n",
      "\tCONSTRAINT citylon CHECK ((Longitude >= -180) AND (Longitude <= 180)), \n",
      "\tCONSTRAINT citypop CHECK (Population >= 0)\n",
      ")\n",
      "\n",
      "/*\n",
      "2 rows from city table:\n",
      "name\tcountry\tprovince\tpopulation\tlatitude\tlongitude\televation\n",
      "TÃ¡ranto\tI\tPuglia\t200154.0\t40.47\t17.23\t15.0\n",
      "Potenza\tI\tBasilicata\t66777.0\t40.63\t15.8\t819.0\n",
      "*/\n",
      "\n",
      "\n",
      "CREATE TABLE citylocalname (\n",
      "\tcity VARCHAR(50 CHAR) NOT NULL, \n",
      "\tcountry VARCHAR(4 CHAR) NOT NULL, \n",
      "\tprovince VARCHAR(50 CHAR) NOT NULL, \n",
      "\tlocalname VARCHAR(300 CHAR), \n",
      "\tCONSTRAINT citylocalnamekey PRIMARY KEY (country, province, city)\n",
      ")\n",
      "\n",
      "/*\n",
      "2 rows from citylocalname table:\n",
      "city\tcountry\tprovince\tlocalname\n",
      "Ningbo\tCN\tZhejiang\tå®¿æ³¢å¸‚\n",
      "Wenzhou\tCN\tZhejiang\tæ¸©å·žå¸‚\n",
      "*/\n",
      "\n",
      "\n",
      "CREATE TABLE cityothername (\n",
      "\tcity VARCHAR(50 CHAR) NOT NULL, \n",
      "\tcountry VARCHAR(4 CHAR) NOT NULL, \n",
      "\tprovince VARCHAR(50 CHAR) NOT NULL, \n",
      "\tothername VARCHAR(50 CHAR) NOT NULL, \n",
      "\tCONSTRAINT cityothernamekey PRIMARY KEY (country, province, city, othername)\n",
      ")\n",
      "\n",
      "/*\n",
      "2 rows from cityothername table:\n",
      "city\tcountry\tprovince\tothername\n",
      "Wien\tA\tWien\tVienna\n",
      "Tirana\tAL\tAlbania\tTirane\n",
      "*/\n",
      "\n",
      "\n",
      "CREATE TABLE citypops (\n",
      "\tcity VARCHAR(50 CHAR) NOT NULL, \n",
      "\tcountry VARCHAR(4 CHAR) NOT NULL, \n",
      "\tprovince VARCHAR(50 CHAR) NOT NULL, \n",
      "\tyear NUMBER NOT NULL, \n",
      "\tpopulation NUMBER, \n",
      "\tCONSTRAINT citypopkey PRIMARY KEY (country, province, city, year), \n",
      "\tCONSTRAINT citypopspop CHECK (Population >= 0), \n",
      "\tCONSTRAINT citypopsyear CHECK (Year >= 0)\n",
      ")\n",
      "\n",
      "/*\n",
      "2 rows from citypops table:\n",
      "city\tcountry\tprovince\tyear\tpopulation\n",
      "Jerez de la Frontera\tE\tAndalucÃ­a\t2001.0\t183273.0\n",
      "Jerez de la Frontera\tE\tAndalucÃ­a\t2011.0\t211784.0\n",
      "*/\n",
      "\n",
      "\n",
      "CREATE TABLE continent (\n",
      "\tname VARCHAR(20 CHAR) NOT NULL, \n",
      "\tarea NUMBER(10, 0), \n",
      "\tCONSTRAINT continentkey PRIMARY KEY (name)\n",
      ")\n",
      "\n",
      "/*\n",
      "2 rows from continent table:\n",
      "name\tarea\n",
      "Europe\t10523000\n",
      "Asia\t44614500\n",
      "*/\n",
      "\n",
      "\n",
      "CREATE TABLE country (\n",
      "\tname VARCHAR(50 CHAR) NOT NULL, \n",
      "\tcode VARCHAR(4 CHAR) NOT NULL, \n",
      "\tcapital VARCHAR(50 CHAR), \n",
      "\tprovince VARCHAR(50 CHAR), \n",
      "\tarea NUMBER, \n",
      "\tpopulation NUMBER, \n",
      "\tCONSTRAINT countrykey PRIMARY KEY (code), \n",
      "\tCONSTRAINT countryarea CHECK (Area >= 0), \n",
      "\tCONSTRAINT countrypop CHECK (Population >= 0)\n",
      ")\n",
      "\n",
      "/*\n",
      "2 rows from country table:\n",
      "name\tcode\tcapital\tprovince\tarea\tpopulation\n",
      "Albania\tAL\tTirana\tAlbania\t28750.0\t2821977.0\n",
      "Greece\tGR\tAthina\tAttikis\t131940.0\t10816286.0\n",
      "*/\n",
      "\n",
      "\n",
      "CREATE TABLE countrylocalname (\n",
      "\tcountry VARCHAR(4 CHAR) NOT NULL, \n",
      "\tlocalname VARCHAR(300 CHAR), \n",
      "\tCONSTRAINT countrylocalnamekey PRIMARY KEY (country)\n",
      ")\n",
      "\n",
      "/*\n",
      "2 rows from countrylocalname table:\n",
      "country\tlocalname\n",
      "AL\tShqipÃ«ri\n",
      "GR\tÎ•Î»Î»Î·Î½Î¹ÎºÎ® Î”Î·Î¼Î¿ÎºÏ¿Î±Ï„Î¯Î±\n",
      "*/\n",
      "\n",
      "\n",
      "CREATE TABLE countryothername (\n",
      "\tcountry VARCHAR(4 CHAR) NOT NULL, \n",
      "\tothername VARCHAR(50 CHAR) NOT NULL, \n",
      "\tCONSTRAINT countryothernamekey PRIMARY KEY (country, othername)\n",
      ")\n",
      "\n",
      "/*\n",
      "2 rows from countryothername table:\n",
      "country\tothername\n",
      "CZ\tCzechia\n",
      "MYA\tBurma\n",
      "*/\n",
      "\n",
      "\n",
      "CREATE TABLE countrypops (\n",
      "\tcountry VARCHAR(4 CHAR) NOT NULL, \n",
      "\tyear NUMBER NOT NULL, \n",
      "\tpopulation NUMBER, \n",
      "\tCONSTRAINT countrypopskey PRIMARY KEY (country, year), \n",
      "\tCONSTRAINT countrypopspop CHECK (Population >= 0), \n",
      "\tCONSTRAINT countrypopsyear CHECK (Year >= 0)\n",
      ")\n",
      "\n",
      "/*\n",
      "2 rows from countrypops table:\n",
      "country\tyear\tpopulation\n",
      "BHT\t1960.0\t224155.0\n",
      "BHT\t1970.0\t291555.0\n",
      "*/\n",
      "\n",
      "\n",
      "CREATE TABLE economy (\n",
      "\tcountry VARCHAR(4 CHAR) NOT NULL, \n",
      "\tgdp NUMBER, \n",
      "\tagriculture NUMBER, \n",
      "\tservice NUMBER, \n",
      "\tindustry NUMBER, \n",
      "\tinflation NUMBER, \n",
      "\tunemployment NUMBER, \n",
      "\tCONSTRAINT economykey PRIMARY KEY (country), \n",
      "\tCONSTRAINT economygdp CHECK (GDP >= 0)\n",
      ")\n",
      "\n",
      "/*\n",
      "2 rows from economy table:\n",
      "country\tgdp\tagriculture\tservice\tindustry\tinflation\tunemployment\n",
      "AL\t12800.0\t19.5\t68.5\t12.0\t1.7\t16.9\n",
      "GR\t243300.0\t3.5\t80.5\t16.0\t-0.8\t27.9\n",
      "*/\n",
      "\n",
      "\n",
      "CREATE TABLE encompasses (\n",
      "\tcountry VARCHAR(4 CHAR) NOT NULL, \n",
      "\tcontinent VARCHAR(20 CHAR) NOT NULL, \n",
      "\tpercentage NUMBER, \n",
      "\tCONSTRAINT encompasseskey PRIMARY KEY (country, continent), \n",
      "\tCONSTRAINT sys_c00113992 CHECK ((Percentage > 0) AND (Percentage <= 100))\n",
      ")\n",
      "\n",
      "/*\n",
      "2 rows from encompasses table:\n",
      "country\tcontinent\tpercentage\n",
      "AL\tEurope\t100.0\n",
      "GR\tEurope\t100.0\n",
      "*/\n",
      "\n",
      "\n",
      "CREATE TABLE ethnicgroup (\n",
      "\tcountry VARCHAR(4 CHAR) NOT NULL, \n",
      "\tname VARCHAR(50 CHAR) NOT NULL, \n",
      "\tpercentage NUMBER, \n",
      "\tCONSTRAINT ethnickey PRIMARY KEY (name, country), \n",
      "\tCONSTRAINT ethnicpercent CHECK ((Percentage > 0) AND (Percentage <= 100))\n",
      ")\n",
      "\n",
      "/*\n",
      "2 rows from ethnicgroup table:\n",
      "country\tname\tpercentage\n",
      "WF\tPolynesian\t99.0\n",
      "FJI\tMelanesian-Polynesian\t58.0\n",
      "*/\n",
      "\n",
      "\n",
      "CREATE TABLE organization (\n",
      "\tabbreviation VARCHAR(12 CHAR) NOT NULL, \n",
      "\tname VARCHAR(100 CHAR) NOT NULL, \n",
      "\tcity VARCHAR(50 CHAR), \n",
      "\tcountry VARCHAR(4 CHAR), \n",
      "\tprovince VARCHAR(50 CHAR), \n",
      "\testablished DATE, \n",
      "\tCONSTRAINT orgkey PRIMARY KEY (abbreviation)\n",
      ")\n",
      "\n",
      "/*\n",
      "2 rows from organization table:\n",
      "abbreviation\tname\tcity\tcountry\tprovince\testablished\n",
      "AfDB\tAfrican Development Bank Group\tAbidjan\tCI\tAbidjan\t1964-09-09 00:00:00\n",
      "AU\tAfrican Union\tAddis Ababa\tETH\tAddis Ababa\t1963-05-25 00:00:00\n",
      "*/\n",
      "\n",
      "\n",
      "CREATE TABLE politics (\n",
      "\tcountry VARCHAR(4 CHAR) NOT NULL, \n",
      "\tindependence DATE, \n",
      "\twasdependent VARCHAR(50 CHAR), \n",
      "\tdependent VARCHAR(4 CHAR), \n",
      "\tgovernment VARCHAR(120 CHAR), \n",
      "\tCONSTRAINT politicskey PRIMARY KEY (country)\n",
      ")\n",
      "\n",
      "/*\n",
      "2 rows from politics table:\n",
      "country\tindependence\twasdependent\tdependent\tgovernment\n",
      "AL\t1912-11-28 00:00:00\tOttoman Empire\tNone\tparliamentary democracy\n",
      "GR\t1829-01-01 00:00:00\tOttoman Empire\tNone\tparliamentary republic\n",
      "*/\n",
      "\n",
      "\n",
      "CREATE TABLE population (\n",
      "\tcountry VARCHAR(4 CHAR) NOT NULL, \n",
      "\tpopulation_growth NUMBER, \n",
      "\tinfant_mortality NUMBER, \n",
      "\tCONSTRAINT popkey PRIMARY KEY (country)\n",
      ")\n",
      "\n",
      "/*\n",
      "2 rows from population table:\n",
      "country\tpopulation_growth\tinfant_mortality\n",
      "AL\t0.3\t13.19\n",
      "GR\t0.01\t4.78\n",
      "*/\n",
      "\n",
      "\n",
      "CREATE TABLE province (\n",
      "\tname VARCHAR(50 CHAR) NOT NULL, \n",
      "\tcountry VARCHAR(4 CHAR) NOT NULL, \n",
      "\tpopulation NUMBER, \n",
      "\tarea NUMBER, \n",
      "\tcapital VARCHAR(50 CHAR), \n",
      "\tcapprov VARCHAR(50 CHAR), \n",
      "\tCONSTRAINT prkey PRIMARY KEY (name, country), \n",
      "\tCONSTRAINT prar CHECK (Area >= 0), \n",
      "\tCONSTRAINT prpop CHECK (Population >= 0)\n",
      ")\n",
      "\n",
      "/*\n",
      "2 rows from province table:\n",
      "name\tcountry\tpopulation\tarea\tcapital\tcapprov\n",
      "Primorskiy\tR\t1938516.0\t165900.0\tVladivostok\tPrimorskiy\n",
      "Khabarovskiy\tR\t1339912.0\t752600.0\tKhabarovsk\tKhabarovskiy\n",
      "*/\n",
      "\n",
      "\n",
      "CREATE TABLE provincelocalname (\n",
      "\tprovince VARCHAR(50 CHAR) NOT NULL, \n",
      "\tcountry VARCHAR(4 CHAR) NOT NULL, \n",
      "\tlocalname VARCHAR(300 CHAR), \n",
      "\tCONSTRAINT provlocalnamekey PRIMARY KEY (country, province)\n",
      ")\n",
      "\n",
      "/*\n",
      "2 rows from provincelocalname table:\n",
      "province\tcountry\tlocalname\n",
      "Anatolikis Makedonias kai Thrakis\tGR\tÎ‘Î½Î±Ï„Î¿Î»Î¹ÎºÎ®Ï‚ ÎœÎ±ÎºÎµÎ´Î¿Î½Î¯Î±Ï‚ ÎºÎ±Î¹ Î˜Ï¿Î¬ÎºÎ·Ï‚\n",
      "Attikis\tGR\tÎ‘Ï„Ï„Î¹ÎºÎ®Ï‚\n",
      "*/\n",
      "\n",
      "\n",
      "CREATE TABLE provinceothername (\n",
      "\tprovince VARCHAR(50 CHAR) NOT NULL, \n",
      "\tcountry VARCHAR(4 CHAR) NOT NULL, \n",
      "\tothername VARCHAR(50 CHAR) NOT NULL, \n",
      "\tCONSTRAINT provothernamekey PRIMARY KEY (country, province, othername)\n",
      ")\n",
      "\n",
      "/*\n",
      "2 rows from provinceothername table:\n",
      "province\tcountry\tothername\n",
      "LiÃ¨ge\tB\tLuik\n",
      "Kongo Central\tCGO\tBas-Congo\n",
      "*/\n",
      "\n",
      "\n",
      "CREATE TABLE provpops (\n",
      "\tprovince VARCHAR(50 CHAR) NOT NULL, \n",
      "\tcountry VARCHAR(4 CHAR) NOT NULL, \n",
      "\tyear NUMBER NOT NULL, \n",
      "\tpopulation NUMBER, \n",
      "\tCONSTRAINT provpopkey PRIMARY KEY (country, province, year), \n",
      "\tCONSTRAINT provpopspop CHECK (Population >= 0), \n",
      "\tCONSTRAINT provpopsyear CHECK (Year >= 0)\n",
      ")\n",
      "\n",
      "/*\n",
      "2 rows from provpops table:\n",
      "province\tcountry\tyear\tpopulation\n",
      "Uri\tCH\t2009.0\t35335.0\n",
      "Uri\tCH\t2013.0\t35865.0\n",
      "*/\n",
      "\n",
      "\n",
      "CREATE TABLE religion (\n",
      "\tcountry VARCHAR(4 CHAR) NOT NULL, \n",
      "\tname VARCHAR(50 CHAR) NOT NULL, \n",
      "\tpercentage NUMBER, \n",
      "\tCONSTRAINT religionkey PRIMARY KEY (name, country), \n",
      "\tCONSTRAINT religionpercent CHECK ((Percentage > 0) AND (Percentage <= 100))\n",
      ")\n",
      "\n",
      "/*\n",
      "2 rows from religion table:\n",
      "country\tname\tpercentage\n",
      "EAK\tHindu\t0.7\n",
      "EAK\tQuaker\t0.2\n",
      "*/\n"
     ]
    }
   ],
   "source": [
    "print(db.table_info)\n",
    "f = open(\"prompt_personalizado.txt\", \"w\")\n",
    "f.write(db.table_info)\n",
    "f.close()\n"
   ]
  },
  {
   "cell_type": "markdown",
   "id": "228a885f",
   "metadata": {},
   "source": [
    "Customizando um prompt"
   ]
  },
  {
   "cell_type": "code",
   "execution_count": 22,
   "id": "3ab5c2a5",
   "metadata": {},
   "outputs": [],
   "source": [
    "from langchain.prompts.prompt import PromptTemplate\n",
    "\n",
    "_DEFAULT_TEMPLATE = \"\"\"Given an input question, first create a syntactically correct {dialect} query to run,\n",
    "In the syntax, column and table names must be in uppercase and Don't use quotes for column names.\n",
    "We use oracle database.\n",
    "\n",
    "Then, look at the results of the query and return the answer. Use the following format:\n",
    "\n",
    "Question: \"Question here\"\n",
    "SQLQuery: \"SQL Query to run\"\n",
    "SQLResult: \"Result of the SQLQuery\"\n",
    "Answer: \"Final answer here\"\n",
    "\n",
    "Only use the following tables:\n",
    "{table_info}\n",
    "\n",
    "\n",
    "\n",
    "Question: {input}\"\"\"\n",
    "PROMPT = PromptTemplate(\n",
    "    input_variables=[\"input\", \"table_info\", \"dialect\"], template=_DEFAULT_TEMPLATE\n",
    ")"
   ]
  },
  {
   "cell_type": "markdown",
   "id": "5c210eb0",
   "metadata": {},
   "source": [
    "Criando o modelo"
   ]
  },
  {
   "cell_type": "code",
   "execution_count": 23,
   "id": "7c5c9694-4c5d-4d91-a6e3-190df2d91bd3",
   "metadata": {
    "tags": []
   },
   "outputs": [
    {
     "name": "stderr",
     "output_type": "stream",
     "text": [
      "c:\\Users\\wendyzv\\AppData\\Local\\Programs\\Python\\Python310\\lib\\site-packages\\langchain\\chains\\sql_database\\base.py:63: UserWarning: Directly instantiating an SQLDatabaseChain with an llm is deprecated. Please instantiate with llm_chain argument or using the from_llm class method.\n",
      "  warnings.warn(\n"
     ]
    }
   ],
   "source": [
    "db_chain = SQLDatabaseChain(llm=ChatOpenAI(temperature=0, model_name='gpt-3.5-turbo'), database=db, prompt=PROMPT, verbose=True)"
   ]
  },
  {
   "cell_type": "code",
   "execution_count": 24,
   "id": "9dafe6f2",
   "metadata": {},
   "outputs": [],
   "source": [
    "def execute_query(query):\n",
    "    try:\n",
    "        db_chain.run(query)\n",
    "    except:\n",
    "        print(\"\\n Consulta SQL gerada, mas houve erro ao executá-la\")"
   ]
  },
  {
   "cell_type": "code",
   "execution_count": 25,
   "id": "8b5c3d1e-6e7d-4203-bb7e-8fda50974e07",
   "metadata": {
    "tags": []
   },
   "outputs": [
    {
     "name": "stdout",
     "output_type": "stream",
     "text": [
      "\n",
      "\n",
      "\u001b[1m> Entering new  chain...\u001b[0m\n",
      "Country limit 10\n",
      "SQLQuery:\u001b[32;1m\u001b[1;3mSELECT * FROM country LIMIT 10\u001b[0m\n",
      " Consulta SQL gerada, mas houve erro ao executá-la\n"
     ]
    }
   ],
   "source": [
    "execute_query(\"Country limit 10\")"
   ]
  },
  {
   "cell_type": "markdown",
   "id": "1e6d59f4",
   "metadata": {},
   "source": [
    "Sintaticamente está correta, mas deu erro, como o banco é oracle e não usa o LIMIT"
   ]
  },
  {
   "cell_type": "code",
   "execution_count": 41,
   "id": "b4b7d076",
   "metadata": {},
   "outputs": [
    {
     "name": "stdout",
     "output_type": "stream",
     "text": [
      "\n",
      "\n",
      "\u001b[1m> Entering new  chain...\u001b[0m\n",
      "Country with largest area\n",
      "SQLQuery:\u001b[32;1m\u001b[1;3mSELECT name\n",
      "FROM country\n",
      "WHERE area = (SELECT MAX(area) FROM country)\u001b[0m\n",
      "SQLResult: \u001b[33;1m\u001b[1;3m[('Russia',)]\u001b[0m\n",
      "Answer:\u001b[32;1m\u001b[1;3mCountry with largest area: Russia\u001b[0m\n",
      "\u001b[1m> Finished chain.\u001b[0m\n"
     ]
    }
   ],
   "source": [
    "execute_query(\"Country with largest area\")"
   ]
  },
  {
   "cell_type": "code",
   "execution_count": 42,
   "id": "58ee1244",
   "metadata": {},
   "outputs": [
    {
     "name": "stdout",
     "output_type": "stream",
     "text": [
      "\n",
      "\n",
      "\u001b[1m> Entering new  chain...\u001b[0m\n",
      "What province is the city of Bandar Seri Begawan in?\n",
      "SQLQuery:\u001b[32;1m\u001b[1;3mSELECT province\n",
      "FROM city\n",
      "WHERE name = 'Bandar Seri Begawan';\u001b[0m\n",
      " Consulta SQL gerada, mas houve erro ao executá-la\n"
     ]
    }
   ],
   "source": [
    "execute_query(\"What province is the city of Bandar Seri Begawan in?\")"
   ]
  },
  {
   "cell_type": "code",
   "execution_count": 30,
   "id": "fefba00e",
   "metadata": {},
   "outputs": [
    {
     "name": "stdout",
     "output_type": "stream",
     "text": [
      "\n",
      "\n",
      "\u001b[1m> Entering new  chain...\u001b[0m\n",
      "What is relationship between India and Mauritius Island?\n",
      "SQLQuery:\u001b[32;1m\u001b[1;3mSELECT * FROM borders WHERE (country1 = 'IN' AND country2 = 'MUS') OR (country1 = 'MUS' AND country2 = 'IN')\u001b[0m\n",
      "SQLResult: \u001b[33;1m\u001b[1;3m[]\u001b[0m\n",
      "Answer:\u001b[32;1m\u001b[1;3mFinal answer here: There is no direct border relationship between India and Mauritius Island.\u001b[0m\n",
      "\u001b[1m> Finished chain.\u001b[0m\n"
     ]
    }
   ],
   "source": [
    "execute_query(\"What is relationship between India and Mauritius Island?\")\n"
   ]
  },
  {
   "cell_type": "code",
   "execution_count": 32,
   "id": "bbb010de",
   "metadata": {},
   "outputs": [
    {
     "name": "stdout",
     "output_type": "stream",
     "text": [
      "\n",
      "\n",
      "\u001b[1m> Entering new  chain...\u001b[0m\n",
      "What percentage of religious people are hindu in India?\n",
      "SQLQuery:\u001b[32;1m\u001b[1;3mSELECT Percentage\n",
      "FROM religion\n",
      "WHERE country = 'IND' AND name = 'Hindu'\u001b[0m\n",
      "SQLResult: \u001b[33;1m\u001b[1;3m[(Decimal('79.8'),)]\u001b[0m\n",
      "Answer:\u001b[32;1m\u001b[1;3mFinal answer here: 79.8%\u001b[0m\n",
      "\u001b[1m> Finished chain.\u001b[0m\n"
     ]
    }
   ],
   "source": [
    "execute_query(\"What percentage of religious people are hindu in India?\")"
   ]
  },
  {
   "cell_type": "code",
   "execution_count": 31,
   "id": "45905ecc",
   "metadata": {},
   "outputs": [
    {
     "name": "stdout",
     "output_type": "stream",
     "text": [
      "\n",
      "\n",
      "\u001b[1m> Entering new  chain...\u001b[0m\n",
      "Tell me five brazilians cities\n",
      "SQLQuery:\u001b[32;1m\u001b[1;3mSELECT name\n",
      "FROM city\n",
      "WHERE country = 'BR'\n",
      "FETCH FIRST 5 ROWS ONLY;\u001b[0m\n",
      " Consulta SQL gerada, mas houve erro ao executá-la\n"
     ]
    }
   ],
   "source": [
    "execute_query(\"Tell me five brazilians cities\")"
   ]
  },
  {
   "cell_type": "code",
   "execution_count": 28,
   "id": "be77c607",
   "metadata": {},
   "outputs": [
    {
     "name": "stdout",
     "output_type": "stream",
     "text": [
      "\n",
      "\n",
      "\u001b[1m> Entering new  chain...\u001b[0m\n",
      "tell me percentage of religious by religion in india\n",
      "SQLQuery:\u001b[32;1m\u001b[1;3mSELECT name, percentage\n",
      "FROM religion\n",
      "WHERE country = 'INDIA'\u001b[0m\n",
      "SQLResult: \u001b[33;1m\u001b[1;3m[]\u001b[0m\n",
      "Answer:\u001b[32;1m\u001b[1;3mFinal answer here: There are no records in the religion table for the country 'INDIA'.\u001b[0m\n",
      "\u001b[1m> Finished chain.\u001b[0m\n"
     ]
    }
   ],
   "source": [
    "\n",
    "execute_query(\"tell me percentage of religious by religion in india\")"
   ]
  },
  {
   "cell_type": "code",
   "execution_count": 34,
   "id": "ac1751c7",
   "metadata": {},
   "outputs": [
    {
     "name": "stdout",
     "output_type": "stream",
     "text": [
      "\n",
      "\n",
      "\u001b[1m> Entering new  chain...\u001b[0m\n",
      "tell me total percentage of religious people who are Hindu by continent\n",
      "SQLQuery:\u001b[32;1m\u001b[1;3mSELECT c.name, SUM(r.percentage) AS total_percentage\n",
      "FROM continent c\n",
      "JOIN encompasses e ON c.name = e.continent\n",
      "JOIN country co ON e.country = co.code\n",
      "JOIN religion r ON co.code = r.country\n",
      "WHERE r.name = 'Hindu'\n",
      "GROUP BY c.name\u001b[0m\n",
      "SQLResult: \u001b[33;1m\u001b[1;3m[('Asia', Decimal('261.5')), ('Europe', Decimal('6.6')), ('Australia/Oceania', Decimal('33.4')), ('Africa', Decimal('59.7')), ('South America', Decimal('47.1')), ('North America', Decimal('33.4'))]\u001b[0m\n",
      "Answer:\u001b[32;1m\u001b[1;3mTotal percentage of religious people who are Hindu by continent is as follows:\n",
      "- Asia: 261.5%\n",
      "- Europe: 6.6%\n",
      "- Australia/Oceania: 33.4%\n",
      "- Africa: 59.7%\n",
      "- South America: 47.1%\n",
      "- North America: 33.4%\u001b[0m\n",
      "\u001b[1m> Finished chain.\u001b[0m\n"
     ]
    }
   ],
   "source": [
    "execute_query(\"tell me total percentage of religious people who are Hindu by continent\")"
   ]
  },
  {
   "cell_type": "code",
   "execution_count": 29,
   "id": "97296166",
   "metadata": {},
   "outputs": [
    {
     "name": "stdout",
     "output_type": "stream",
     "text": [
      "\n",
      "\n",
      "\u001b[1m> Entering new  chain...\u001b[0m\n",
      "tell me airports with elevation more than 1000\n",
      "SQLQuery:\u001b[32;1m\u001b[1;3mSELECT iatacode, name, elevation\n",
      "FROM airport\n",
      "WHERE elevation > 1000\u001b[0m\n",
      "SQLResult: \u001b[33;1m\u001b[1;3m[('KMG', 'Wujiaba', 1895), ('BAV', 'Baotou Airport', 1013), ('LXA', 'Lhasa-Gonggar', 4005), ('KWE', 'Longdongbao', 1139), ('XNN', 'Xining Caojiabao Airport', 2170), ('YUS', 'Yushu Batang', 3963), ('KHG', 'Kashi', 1381), ('AKU', 'Aksu Airport', 1163), ('DAT', 'Datong Airport', 1049), ('BOG', 'Eldorado Intl', 2549), ('AXM', 'El Eden', 1216), ('MZL', 'La Nubia', 2095), ('PEI', 'Matecana', 1346), ('BGA', 'Palonegro', 1188), ('EOH', 'Olaya Herrera', 1506), ('FBM', 'Lubumbashi Intl', 1309), ('SYQ', 'Tobias Bolanos International Airport', 1002), ('GUA', 'La Aurora', 1510), ('TGU', 'Toncontin Intl', 1004), ('SXR', 'Srinagar', 1655), ('UIO', 'Mariscal Sucre Intl', 2813), ('CUE', 'Mariscal Lamar', 2532), ('ASM', 'Asmara Intl', 2336), ('GDQ', 'Gondar', 1994), ('DIR', 'Dire Dawa Intl', 1167), ('ADD', 'Bole Intl', 2334), ('KBL', 'Kabul Intl', 1792), ('TMR', 'Tamanrasset', 1377), ('QSF', 'Ain Arnat Airport', 1024), ('VPE', 'Ondjiva Pereira Airport', 1087), ('SDD', 'Lubango', 1762), ('SPP', 'Menongue', 1363), ('NOV', 'Huambo', 1703), ('SLA', 'Salta', 1246), ('PBH', 'Paro', 2235), ('LPB', 'El Alto Intl', 4063), ('SRE', 'Juana Azurduy De Padilla', 2905), ('TJA', 'Capitan Oriel Lea Plaza', 1855), ('CBB', 'Jorge Wilsterman', 2549), ('GBE', 'Sir Seretse Khama Intl', 1006), ('BSB', 'Presidente Juscelino Kubitschek', 1061), ('YYC', 'Calgary Intl', 1084), ('XIC', 'Qingshan', 1559), ('HET', 'Baita Airport', 1084), ('INC', 'Yinchuan', 1098), ('LHW', 'Lanzhou Airport', 1948), ('KGL', 'Kigali Intl', 1481), ('TIF', 'Taif', 1478), ('HAS', 'Hail', 1016), ('HLA', 'Lanseria', 1377), ('BFN', 'Bloemfontein Intl', 1359), ('KIM', 'Kimberley', 1204), ('PTG', 'Pietersburg', 1327), ('JNB', 'Johannesburg Intl', 1695), ('MWZ', 'Mwanza', 1147), ('ARK', 'Arusha', 1387), ('KSY', 'Kars Airport', 1795), ('KYA', 'Konya', 1031), ('VAN', 'Van', 1671), ('VAS', 'Sivas', 1596), ('ERZ', 'Erzurum', 1757), ('ERC', 'Erzincan', 1153), ('ASR', 'Erkilet', 1056), ('AJI', 'Agri Airport', 1665), ('MSR', 'Mus Airport', 1267), ('EBB', 'Entebbe Intl', 1153), ('ELP', 'El Paso Intl', 1207), ('COS', 'City Of Colorado Springs Muni', 1886), ('AMA', 'Rick Husband Amarillo Intl', 1100), ('CYS', 'Cheyenne Rgnl Jerry Olson Fld', 1877), ('SLC', 'Salt Lake City Intl', 1289), ('LBB', 'Lubbock Preston Smith Intl', 1001), ('DEN', 'Denver Intl', 1656), ('BIL', 'Billings Logan International Airport', 1113), ('RNO', 'Reno Tahoe Intl', 1346), ('ABQ', 'Albuquerque International Sunport', 1633), ('HLN', 'Helena Rgnl', 1182), ('SAF', 'Santa Fe Muni', 1935), ('SAH', 'Sanaa Intl', 2200), ('TAI', 'Taiz Intl', 1475), ('LVI', 'Livingstone', 1007), ('NLA', 'Ndola', 1270), ('LUN', 'Lusaka Intl', 1152), ('BUQ', 'J M Nkomo Intl', 1329), ('HRE', 'Harare Intl', 1490), ('SYZ', 'Shiraz Shahid Dastghaib Intl', 1500), ('IFN', 'Esfahan Shahid Beheshti Intl', 1542), ('IKA', 'Imam Khomeini', 1008), ('TBZ', 'Tabriz Intl', 1359), ('NBO', 'Jomo Kenyatta International', 1624), ('WIL', 'Nairobi Wilson', 1691), ('KIS', 'Kisumu', 1157), ('EDL', 'Eldoret Intl', 2116), ('MSU', 'Moshoeshoe I Intl', 1630), ('TNR', 'Ivato', 1280), ('LLW', 'Kamuzu Intl', 1230), ('UPN', 'Licenciado Y Gen Ignacio Lopez Rayon', 1603), ('PBC', 'Hermanos Serdan Intl', 2244), ('ZCL', 'General Leobardo C Ruiz Intl', 2177), ('QRO', 'Queretaro Intercontinental', 1920), ('TLC', 'Licenciado Adolfo Lopez Mateos Intl', 2581), ('SLP', 'Ponciano Arriaga Intl', 1840), ('MLM', 'General Francisco J Mujica Intl', 1839), ('DGO', 'Durango Intl', 1861), ('GDL', 'Don Miguel Hidalgo Y Costilla Intl', 1529), ('OAX', 'Xoxocotlan Intl', 1521), ('MEX', 'Licenciado Benito Juarez Intl', 2230), ('CUU', 'General R Fierro Villalobos Intl', 1360), ('SLW', 'Plan De Guadalupe Intl', 1457), ('AGU', 'Jesus Teran Intl', 1863), ('TRC', 'Torreon Intl', 1124), ('ULN', 'Chinggis Khaan Intl', 1330), ('VXC', 'Lichinga', 1373), ('WDH', 'Windhoek Hosea Kutako International Airport', 1720), ('KTM', 'Tribhuvan Intl', 1338), ('JOS', 'Yakubu Gowon', 1290), ('UET', 'Quetta', 1606), ('HUU', 'Alferez Fap David Figueroa Fernandini Airport', 1851), ('AYP', 'Coronel Fap Alfredo Mendivil Duarte', 2719), ('CJA', 'Mayor General FAP Armando Revoredo Iglesias Airport', 2677), ('AQP', 'Rodriguez Ballon', 2563), ('JUL', 'Juliaca', 3827), ('CUZ', 'Teniente Alejandro Velasco Astete Intl', 3311)]\u001b[0m\n",
      "Answer:\n",
      " Consulta SQL gerada, mas houve erro ao executá-la\n"
     ]
    }
   ],
   "source": [
    "#Essa consulta funcionou no software cliente do oracle, mas não funcionou aqui\n",
    "execute_query(\"tell me airports with elevation more than 1000\")"
   ]
  },
  {
   "cell_type": "markdown",
   "id": "69ad71f4",
   "metadata": {},
   "source": [
    "## Conclusões \n",
    "\n",
    "Tive problemas com tipos de colunas customizadas do banco, no caso o Geocoord, pois o SqlAlchemy não o reconhece. Pode ser contornado nesse [link](https://docs.sqlalchemy.org/en/20/core/custom_types.html#sqlalchemy.types.UserDefinedType), mas não consegui implementar. \n",
    "\n",
    "Então importei o banco para o local e alterei as colunas com tipo Geocoord para Varchar(50) e assim, consegui contrornar. Ao criar o SQLDatabaseChain e executar uma consulta tive erro pois o prompt gerado pelo langchain passava  do limite máximo de tokens. \n",
    "\n",
    "Em sua documentação, o langchain oferece a possibilidade de incluir e excluir quais tabelas queremos. Então, retornei e fiz a comunicação com o banco \"mondial_sql\" do servidor e fiz as consultas. Gerava o SQL, mas dava DatabaseError e não retornava os resultados. E para verificar e validar se o SQL gerado trazia resultados, a consulta gerada pelo GPT era passada diretamente em um software cliente SGBD  para ser executada.\n",
    "\n",
    "Algumas consultas SQL geradas estavam retornando as colunas com aspas e dava erro na execução da consulta, tanto aqui quanto no software cliente.\n",
    "```\n",
    "SELECT \"name\" \n",
    "FROM country \n",
    "ORDER BY area DESC \n",
    "FETCH FIRST 1 ROWS ONLY;\n",
    "```\n",
    "Quando removi elas, a consulta foi executada corretamente no software cliente.\n",
    "\n",
    "As consultas SQL geradas que não possuiam aspas em algumas das colunas executavam normalmente no software cliente, mas aqui estava dando erro.\n",
    "\n",
    "Nessa consulta \"What is relationship between India and Mauritius Island?\" o sql gerado buscou uma relação entre esses dois lugares pela coluna island da tabela airport (na abordagem passando o prompt foi por Borders). Mas não houve resultados.\n",
    "\n",
    "Interessante, que nessa consulta \"tell me total percentage of religious people who are Hindu by continent\" trouxe resultados corretos onde envolvia 3 joins e agregação. O danke não respondeu correto para as seguintes palavras chaves:\n",
    "- \"percentage total hindu continent\" \"total percentage hindu continent\"\n",
    "- \"percentage sum hindu continent\" \"sum total hindu continent\""
   ]
  },
  {
   "cell_type": "code",
   "execution_count": 30,
   "id": "cf1f41c4",
   "metadata": {},
   "outputs": [
    {
     "name": "stdout",
     "output_type": "stream",
     "text": [
      "\n",
      "\n",
      "\u001b[1m> Entering new  chain...\u001b[0m\n",
      "What are the provinces with an area greater than 1000?\n",
      "SQLQuery:\u001b[32;1m\u001b[1;3mSELECT name\n",
      "FROM province\n",
      "WHERE area > 1000\u001b[0m\n",
      "SQLResult: \u001b[33;1m\u001b[1;3m[('Primorskiy',), ('Khabarovskiy',), ('Amurskaya',), ('Kamchatka',), ('Magadanskaya',), ('Sakhalin',), ('Khanty Mansi ao',), ('Yamalo Nenets ao',), ('Antwerpen',), ('Oost-Vlaanderen',), ('Hainaut',), ('LiÃ¨ge',), ('Limburg',), ('Luxembourg',), ('Namur',), ('West-Vlaanderen',), ('Brabant Wallon',), ('Vlaams-Brabant',), ('Luxembourg',), ('Groningen',), ('Friesland',), ('Drenthe',), ('Overijssel',), ('Flevoland',), ('Gelderland',), ('Utrecht',), ('Noord-Holland',), ('Zuid-Holland',), ('Zeeland',), ('Noord-Brabant',), ('Limburg',), ('Slovenia',), ('Croatia',), ('Federacija Bosne i Hercegovine',), ('Republika Srpska',), ('Bulgaria',), ('Alba',), ('Arad',), ('ArgeÅŸ',), ('BacÄƒu',), ('Bihor',), ('BistriÅ£a-NÄƒsÄƒud',), ('BotoÅŸani',), ('BrÄƒila',), ('BraÅŸov',), ('BuzÄƒu',), ('CÄƒlÄƒraÅŸi',), ('CaraÅŸ-Severin',), ('Cluj',), ('ConstanÅ£a',), ('Covasna',), ('DÃ¢mboviÅ£a',), ('Dolj',), ('GalaÅ£i',), ('Giurgiu',), ('Gorj',), ('Harghita',), ('Hunedoara',), ('IalomiÅ£a',), ('IaÅŸi',), ('MaramureÅŸ',), ('MehedinÅ£i',), ('MureÅŸ',), ('NeamÅ£',), ('Olt',), ('Prahova',), ('SÄƒlaj',), ('Satu-Mare',), ('Sibiu',), ('Suceava',), ('Teleorman',), ('TimiÅŸ',), ('Tulcea',), ('Vaslui',), ('VÃ¢lcea',), ('Vrancea',), ('Ilfov',), ('Nordjylland',), ('Midtjylland',), ('Syddanmark',), ('Hovedstaden',), ('SjÃ¦lland',), ('Iceland',), ('Faroe Islands',), ('Ireland',), ('Ã…land',), ('Kanta-HÃ¤me',), ('PÃ¤ijÃ¤t-HÃ¤me',), ('Pirkanmaa',), ('Pohjois-Savo',), ('EtelÃ¤-Karjala',), ('Kymenlaakso',), ('Lappia',), ('EtelÃ¤-Savo',), ('Keski-Suomi',), ('Pohjols-Karjala',), ('Pohjois-Pohjanmaa',), ('Kainuu',), ('Satakunta',), ('Varsinais-Suomi',), ('Uusimaa',), ('Pohjanmaa',), ('EtelÃ¤-Pohjanmaa',), ('Keski-Pohjanmaa',), ('Akershus',), ('Ã˜stfold',), ('Hedmark',), ('Oppland',), ('Buskerud',), ('Vestfold',), ('Telemark',), ('Aust-Agder',), ('Vest-Agder',), ('Rogaland',), ('Hordaland',), ('Sogn og Fjordane',), ('MÃ¸re og Romsdal',), ('SÃ¸r-TrÃ¸ndelag',), ('Nord-TrÃ¸ndelag',), ('Nordland',), ('Troms',), ('Finnmark',), ('VÃ¤stra GÃ¶taland',), ('Blekinge',), ('GÃ¤vleborg',), ('Gotland',), ('Halland',), ('JÃ¤mtland',), ('JÃ¶nkÃ¶ping',), ('Kalmar',), ('Dalarna',), ('SkÃ¥ne',), ('Kronoberg',), ('Norrbotten',), ('Ã–rebro',), ('Ã–stergÃ¶tland',), ('SÃ¶dermanland',), ('Stockholm',), ('Uppsala',), ('VÃ¤rmland',), ('VÃ¤sterbotten',), ('VÃ¤sternorrland',), ('VÃ¤stmanland',), ('Moldova',), ('Aveiro',), ('Thi Qar',), ('Diala',), ('Kerbela',), ('Maysan',), ('al-Muthanna',), ('al-Najaf',), ('Nineveh',), ('al-Qadisiya',), ('Salah al-Deen',), ('Kirkuk',), ('Wasit',), ('Duhouk',), ('Erbil',), ('As Sulaymaniyah',), ('West Azarbayejan',), ('East Azarbayejan',), ('Kermanshah',), ('Kohgiluyeh and Boyer-Ahmad',), ('Bushehr',), ('Chaharmahal and Bakhtiyari',), ('Esfahan',), ('Fars',), ('Gilan',), ('Hamedan',), ('Hormozgan',), ('Ilam',), ('Kerman',), ('Khorasan-e-Razavi',), ('Khuzestan',), ('Kurdestan',), ('Lorestan',), ('Markazi',), ('Mazandaran',), ('Semnan',), ('Sistan and Baluchestan',), ('Tehran',), ('Yazd',), ('Zanjan',), ('Ardebil',), ('Golestan',), ('Alborz',), ('Qom',), ('Qazvin',), ('North Khorasan',), ('South Khorasan',), ('Afghanistan',), ('Akhal',), ('Balkan',), ('Dashhowuz',), ('Lebap',), ('Mary',), ('Andijon',), ('Buxoro',), ('FargÊ»ona',), ('Jizzax',), ('Xorazm',), ('Namangan',), ('Navoiy',), ('Qasqadaryo',), ('Samarqand',), ('Sirdaryo',), ('Surkhandarya',), ('Toshkent',), ('QoraqalpogÊ»iston',), ('Regions of Republican Subordination',), ('Sughd',), ('Khatlon',), ('Gorno-Badakhshan',), ('Kyrgyzstan',), ('Almaty',), ('Akmola',), ('Aktobe',), ('Atyrau',), ('West Kazakhstan',), ('Mangistau',), ('South-Kazakhstan',), ('Pavlodar',), ('Karaganda',), ('Kostanai',), ('Kyzylorda',), ('East-Kazakhstan',), ('North-Kazakhstan',), ('Zhambyl',), ('Mongolia',), ('Azad Jammu and Kashmir',), ('Balochistan',), ('FATA',), ('Gilgit-Baltistan',), ('Khyber Pakhtunkhwa',), ('Punjab',), ('Sindh',), ('Andhra Pradesh',), ('Arunachal Pradesh',), ('Assam',), ('Bihar',), ('Goa',), ('Gujarat',), ('Haryana',), ('Himachal Pradesh',), ('Jammu and Kashmir',), ('Karnataka',), ('Kerala',), ('Madhya Pradesh',), ('Maharashtra',), ('Manipur',), ('Meghalaya',), ('Mizoram',), ('Nagaland',), ('Odisha',), ('Punjab',), ('Rajasthan',), ('Sikkim',), ('Tamil Nadu',), ('Tripura',), ('Uttar Pradesh',), ('West Bengal',), ('Andaman and Nicobar Islands',), ('Delhi',), ('Chhattisgarh',), ('Jharkhand',), ('Telangana',), ('Uttarakhand',), ('Nepal',), ('Bhutan',), ('Barisal',), ('Chittagong',), ('Dhaka',), ('Khulna',), ('Rajshahi',), ('Rangpur',), ('Sylhet',), ('Mymensingh',), ('Ayeyarwady',), ('Magwe',), ('Mandalay',), ('Bago',), ('Yangon',), ('Sagaing',), ('Beja',), ('Braga',), ('Braganca',), ('Castelo Branco',), ('Coimbra',), ('Evora',), ('Algarve',), ('Guarda',), ('Leiria',), ('Lisboa',), ('Portalegre',), ('Porto',), ('Santarem',), ('Setubal',), ('Viana do Castelo',), ('Vila Real',), ('Viseu',), ('Azores',), ('Svalbard',), ('North East',), ('North West',), ('Yorkshire and the Humber',), ('East Midlands',), ('West Midlands',), ('East of England',), ('London',), ('South East',), ('South West',), ('Scotland',), ('Wales',), ('Northern Ireland',), ('Armenia',), ('Georgia',), ('Azerbaijan',), ('Adana',), ('AdÄ±yaman',), ('Afyonkarahisar',), ('AÄŸrÄ±',), ('Aksaray',), ('Amasya',), ('Ankara',), ('Antalya',), ('Artvin',), ('AydÄ±n',), ('BalÄ±kesir',), ('Batman',), ('Bayburt',), ('Bilecik',), ('BingÃ¶l',), ('Bitlis',), ('Bolu',), ('Burdur',), ('Bursa',), ('Ã‡anakkale',), ('Ã‡ankÄ±rÄ±',), ('Ã‡orum',), ('Denizli',), ('DiyarbakÄ±r',), ('Edirne',), ('ElazÄ±ÄŸ',), ('Erzincan',), ('Erzurum',), ('EskiÅŸehir',), ('Gaziantep',), ('Giresun',), ('GÃ¼mÃ¼ÅŸhane',), ('Hakkari',), ('Hatay',), ('Mersin',), ('Isparta',), ('Ä°stanbul',), ('Ä°zmir',), ('Karaman',), ('KahramanmaraÅŸ',), ('Kars',), ('Kastamonu',), ('Kayseri',), ('KÄ±rÄ±kkale',), ('KÄ±rklareli',), ('KÄ±rÅŸehir',), ('Kocaeli',), ('Konya',), ('KÃ¼tahya',), ('Malatya',), ('Manisa',), ('Mardin',), ('MuÄŸla',), ('MuÅŸ',), ('NevÅŸehir',), ('NiÄŸde',), ('Ordu',), ('Rize',), ('Sakarya',), ('Samsun',), ('ÅžanlÄ±urfa',), ('Siirt',), ('Sinop',), ('ÅžÄ±rnak',), ('Sivas',), ('TekirdaÄŸ',), ('Tokat',), ('Trabzon',), ('Tunceli',), ('UÅŸak',), ('Van',), ('Yozgat',), ('Zonguldak',), ('BartÄ±n',), ('KarabÃ¼k',), ('Ardahan',), ('IÄŸdÄ±r',), ('Kilis',), ('DÃ¼zce',), ('Osmaniye',), ('Lebanon',), ('West Bank',), ('HaMerkaz',), ('HaZafon',), ('HaDarom',), ('Al Hasakah',), ('Al Ladhiqiyah',), ('Al Qunaytirah',), ('Ar Raqqah',), ('As Suwayda',), ('Daraa',), ('Dayr az Zawr',), ('Halab',), ('Hamah',), ('Hims',), ('Idlib',), ('Rif Dimashq',), ('Tartus',), ('Jordan',), ('Al-Hudud ash Shamaliyah',), ('Al-Baha',), ('Al-Jouf',), ('Al-Madinah Al-Monawarah',), ('Al-Qaseem',), ('Al-Riyadh',), ('Aseer',), ('Ash Sharqiyah',), ('Hail',), ('Jazan',), ('Makkah Al-Mokarramah',), ('Najran',), ('Tabouk',), ('Qatar',), ('United Arab Emirates',), ('Oman',), ('Yemen',), ('Kuwait',), ('al-Anbar',), ('Babylon',), ('Baghdad',), ('Basrah',), ('Albania',), ('Anatolikis Makedonias kai Thrakis',), ('Attikis',), ('Dytikis Elladas',), ('Dytikis Makedonias',), ('Ionion Nison',), ('Ipeiroy',), ('Kentrikis Makedonias',), ('Kritis',), ('Notioy Aigaioy',), ('Peloponnisos',), ('Stereas Elladas',), ('Thessalias',), ('Boreioy Aigaioy',), ('Cyprus',), ('North Macedonia',), ('Serbia',), ('Montenegro',), ('Kosovo',), ('ÃŽle-de-France',), ('Auvergne-RhÃ´ne-Alpes',), ('Nouvelle-Aquitaine',), ('Hauts-de-France',), (\"Provence-Alpes-CÃ´te d'Azur\",), ('Bretagne',), ('Centre-Val de Loire',), ('Pays de la Loire',), ('Grand Est',), ('Normandie',), ('Bourgogne-Franche-ComtÃ©',), ('Occitanie',), ('Corse',), ('AndalucÃ\\xada',), ('AragÃ³n',), ('Asturias',), ('Illes Balears',), ('Euskadi',), ('Canarias',), ('Cantabria',), ('Castilla y LeÃ³n',), ('Castilla-La Mancha',), ('Catalunya',), ('Extremadura',), ('Galicia',), ('Madrid',), ('Murcia',), ('Navarra',), ('La Rioja',), ('Valenciana',), ('JihoÄ¿eskÃ½',), ('JihomoravskÃ½',), ('KarlovarskÃ½',), ('VysoÄ¿ina',), ('KrÃ¡lovÃ©hradeckÃ½',), ('LibereckÃ½',), ('MoravskoslezskÃ½',), ('OlomouckÃ½',), ('PardubickÃ½',), ('PlzeÅˆskÃ½',), ('StÅ™edoÄ¿eskÃ½',), ('ÃšsteckÃ½',), ('ZlÃ\\xadnskÃ½',), ('BratislavskÃ½',), ('BanskobystrickÃ½',), ('Å½ilinskÃ½',), ('KoÅ¡ickÃ½',), ('PreÅ¡ovskÃ½',), ('Nitriansky',), ('TrenÄ¿iansky',), ('TrnavskÃ½',), ('Baden-WÃ¼rttemberg',), ('Bayern',), ('Brandenburg',), ('Hessen',), ('Mecklenburg-Vorpommern',), ('Niedersachsen',), ('Nordrhein-Westfalen',), ('Rheinland-Pfalz',), ('Saarland',), ('Sachsen',), ('Sachsen-Anhalt',), ('Schleswig-Holstein',), ('ThÃ¼ringen',), ('Baranya',), ('BÃ¡cs-Kiskun',), ('BÃ©kÃ©s',), ('Borsod-AbaÃºj-ZemplÃ©n',), ('CsongrÃ¡d',), ('FejÃ©r',), ('GyÅ‘r-Moson-Sopron',), ('HajdÃº-Bihar',), ('Heves',), ('KomÃ¡rom-Esztergom',), ('NÃ³grÃ¡d',), ('Pest',), ('Somogy',), ('Szabolcs-SzatmÃ¡r-Bereg',), ('JÃ¡sz-Nagykun-Szolnok',), ('Tolna',), ('Vas',), ('VeszprÃ©m',), ('Zala',), ('Piemonte',), (\"Valle d'Aosta\",), ('Lombardia',), ('Trentino-Alto Adige',), ('Veneto',), ('Friuli-Venezia Giulia',), ('Liguria',), ('Emilia-Romagna',), ('Toscana',), ('Umbria',), ('Marche',), ('Lazio',), ('Abruzzo',), ('Molise',), ('Campania',), ('Puglia',), ('Basilicata',), ('Calabria',), ('Sicilia',), ('Sardegna',), ('Aargau',), ('Bern',), ('Fribourg',), ('GraubÃ¼nden',), ('Luzern',), ('Sankt Gallen',), ('Ticino',), ('Uri',), ('Valais',), ('Vaud',), ('ZÃ¼rich',), ('Burgenland',), ('KÃ¤rnten',), ('Vorarlberg',), ('OberÃ¶sterreich',), ('Tirol',), ('Steiermark',), ('Salzburg',), ('NiederÃ¶sterreich',), ('Estonia',), ('Latvia',), ('Lithuania',), ('Brest',), ('Vitebsk',), ('Gomel',), ('Grodno',), ('Mogilev',), ('Minsk',), ('DolnoÅ›lÄ…skie',), ('Kujawsko-Pomorskie',), ('Lubelskie',), ('Lubuskie',), ('Å¿Ã³dzkie',), ('MaÅ‚opolskie',), ('Mazowieckie',), ('Opolskie',), ('Podkarpackie',), ('Podlaskie',), ('Pomorskie',), ('ÅšlÄ…skie',), ('ÅšwiÄ™tokrzyskie',), ('WarmiÅ„sko-Mazurskie',), ('Wielkopolskie',), ('Zachodniopomorskie',), ('Cherkaska',), ('Chernihivska',), ('Chernivetska',), ('Dnipropetrovska',), ('Donetska',), ('Ivano-Frankivska',), ('Kharkivska',), ('Khersonska',), ('Khmelnytska',), ('KyÃ¯vska',), ('Kirovohradska',), ('Luhanska',), ('Lvivska',), ('MykolaÃ¯vska',), ('Odeska',), ('Poltavska',), ('Rivnenska',), ('Sumska',), ('Ternopilska',), ('Vinnytska',), ('Volynska',), ('Zakarpatska',), ('Zaporizka',), ('Zhytomyrska',), ('Krym',), ('Karelia',), ('Komi',), ('Arkhangelskaya',), ('Vologodskaya',), ('Murmanskaya',), ('Kaliningradskaya',), ('Sankt-Peterburg',), ('Leningradskaya',), ('Novgorodskaya',), ('Pskovskaya',), ('Bryanskaya',), ('Vladimirskaya',), ('Ivanovskaya',), ('Kaluzhskaya',), ('Kostromskaya',), ('Moscow',), ('Moskovskaya',), ('Orlovskaya',), ('Ryazanskaya',), ('Smolenskaya',), ('Tverskaya',), ('Tulskaya',), ('Yaroslavskaya',), ('Mariy-El',), ('Mordoviya',), ('Chuvashia',), ('Kirovskaya',), ('Nizhnii Novgorodskaya',), ('Belgorodskaya',), ('Voronezhskaya',), ('Kurskaya',), ('Lipetskaya',), ('Tambovskaya',), ('Kalmykiya',), ('Tatarstan',), ('Astrakhanskaya',), ('Volgogradskaya',), ('Penzenskaya',), ('Samarskaya',), ('Saratovskaya',), ('Ulyanovskaya',), ('Rostovskaya',), ('Bashkortostan',), ('Udmurtskaya',), ('Orenburgskaya',), ('Permskij',), ('Adygeya',), ('Dagestan',), ('Ingushskaya',), ('Kabardino-Balkarskaya',), ('Karachayevo-Cherkesskaya',), ('North Ossetia-Alania',), ('Chechenskaya',), ('Krasnodarskiy',), ('Stavropolskiy',), ('Kurganskaya',), ('Sverdlovskaya',), ('Chelyabinskaya',), ('Altay',), ('Altayskiy',), ('Kemerovskaya',), ('Novosibirskaya',), ('Omskaya',), ('Tomskaya',), ('Tyumenskaya',), ('Buryatiya',), ('Tyva',), ('Khakasiya',), ('Krasnoyarsk',), ('Irkutskaya',), ('Zabaykalskiy',), ('Sakha',), ('Jewish Autonomous Oblast',), ('Chukotka',), ('Pwani',), ('Dar es Salaam',), ('Lindi',), ('Mtwara',), ('Ruvuma',), ('Iringa',), ('Mbeya',), ('Singida',), ('Tabora',), ('Rukwa',), ('Kigoma',), ('Shinyanga',), ('Kagera',), ('Mwanza',), ('Mara',), ('Manyara',), ('Njombe',), ('Katavi',), ('Simiyu',), ('Geita',), ('Burundi',), ('Rwanda',), ('Central',), ('Eastern',), ('Northern',), ('Western',), ('Kenya',), ('Somalia',), ('Djibouti',), ('Afar',), ('Amhara',), ('Benishangul-Gumuz',), ('Dire Dawa',), ('Gambella',), ('Oromia',), ('Somali',), ('Tigray',), ('YeDebub Biheroch Bihereseboch na Hizboch',), ('Eritrea',), ('Cape Verde',), ('Sao Tome and Principe',), ('Comoros',), ('Madagascar',), ('Mauritius',), ('Reunion',), ('Greenland',), ('Alberta',), ('British Columbia',), ('Manitoba',), ('New Brunswick',), ('Newfoundland and Labrador',), ('Northwest Territories',), ('Nova Scotia',), ('Ontario',), ('Prince Edward Island',), ('Quebec',), ('Saskatchewan',), ('Yukon',), ('Nunavut',), ('Alabama',), ('Alaska',), ('Arizona',), ('Arkansas',), ('California',), ('Colorado',), ('Connecticut',), ('Delaware',), ('Florida',), ('Georgia',), ('Hawaii',), ('Idaho',), ('Illinois',), ('Indiana',), ('Iowa',), ('Kansas',), ('Kentucky',), ('Louisiana',), ('Maine',), ('Maryland',), ('Massachusetts',), ('Michigan',), ('Minnesota',), ('Mississippi',), ('Missouri',), ('Montana',), ('Nebraska',), ('Nevada',), ('New Hampshire',), ('New Jersey',), ('New Mexico',), ('New York',), ('North Carolina',), ('North Dakota',), ('Ohio',), ('Oklahoma',), ('Oregon',), ('Pennsylvania',), ('Rhode Island',), ('South Carolina',), ('South Dakota',), ('Tennessee',), ('Texas',), ('Utah',), ('Vermont',), ('Virginia',), ('Washington',), ('West Virginia',), ('Wisconsin',), ('Wyoming',), ('Aguascalientes',), ('Baja California',), ('Baja California Sur',), ('Campeche',), ('Chiapas',), ('Chihuahua',), ('Coahuila',), ('Colima',), ('Durango',), ('Guanajuato',), ('Guerrero',), ('Hidalgo',), ('Jalisco',), ('MÃ©xico, Estado de',), ('MichoacÃ¡n',), ('Morelos',), ('Nayarit',), ('Nuevo LÃ©on',), ('Oaxaca',), ('Puebla',), ('QuerÃ©taro',), ('Quintana Roo',), ('San Luis PotosÃ\\xad',), ('Sinaloa',), ('Sonora',), ('Tabasco',), ('Tamaulipas',), ('Tlaxcala',), ('Veracruz',), ('YucatÃ¡n',), ('Zacatecas',), ('Distrito Federal',), ('Belize',), ('Guatemala',), ('El Salvador',), ('AtlÃ¡ntida',), ('ColÃ³n',), ('Comayagua',), ('CopÃ¡n',), ('CortÃ©s',), ('Choluteca',), ('El ParaÃ\\xadso',), ('Francisco MorazÃ¡n',), ('Gracias a Dios',), ('IntibucÃ¡',), ('La Paz',), ('Lempira',), ('Ocotepeque',), ('Olancho',), ('Santa BÃ¡rbara',), ('Valle',), ('Yoro',), ('Nicaragua',), ('San JosÃ©',), ('Alajuela',), ('Cartago',), ('Heredia',), ('Guanacaste',), ('Puntarenas',), ('LimÃ³n',), ('Bocas del Toro',), ('CoclÃ©',), ('ColÃ³n',), ('Kuna Yala',), ('ChiriquÃ\\xad',), ('DariÃ©n',), ('Herrera',), ('Los Santos',), ('PanamÃ¡',), ('Veraguas',), ('EmberÃ¡',), ('NgÃ¶be BuglÃ©',), ('Bahamas',), ('CamagÃ¼ey',), ('Ciego de Ã¿vila',), ('Cienfuegos',), ('Granma',), ('GuantÃ¡namo',), ('HolguÃ\\xadn',), ('Las Tunas',), ('Matanzas',), ('Pinar del RÃ\\xado',), ('Sancti SpÃ\\xadritus',), ('Santiago de Cuba',), ('Villa Clara',), ('Isla de la Juventud',), ('Artemisa',), ('Mayabeque',), ('Jamaica',), ('Haiti',), ('Dominican Republic',), ('Puerto Rico',), ('Guadeloupe',), ('Martinique',), ('Trinidad and Tobago',), ('Amazonas',), ('AnzoÃ¡tegui',), ('Apure',), ('Aragua',), ('Barinas',), ('BolÃ\\xadvar',), ('Carabobo',), ('Cojedes',), ('Delta Amacuro',), ('FalcÃ³n',), ('GuÃ¡rico',), ('Lara',), ('MÃ©rida',), ('Miranda',), ('Monagas',), ('Nueva Esparta',), ('Portuguesa',), ('Sucre',), ('TÃ¡chira',), ('Trujillo',), ('Yaracuy',), ('Zulia',), ('Vargas',), ('Guyana',), ('Suriname',), ('French Guiana',), ('Amazonas',), ('Antioquia',), ('Arauca',), ('AtlÃ¡ntico',), ('BolÃ\\xadvar',), ('BoyacÃ¡',), ('Caldas',), ('CaquetÃ¡',), ('Casanare',), ('Cauca',), ('Cesar',), ('ChocÃ³',), ('CÃ³rdoba',), ('Cundinamarca',), ('GuainÃ\\xada',), ('La Guajira',), ('Guaviare',), ('Huila',), ('Magdalena',), ('Meta',), ('NariÃ±o',), ('Norte de Santander',), ('Putumayo',), ('QuindÃ\\xado',), ('Risaralda',), ('Santa Fe de BogotÃ¡',), ('Santander',), ('Sucre',), ('Tolima',), ('Valle de Cauca',), ('VaupÃ©s',), ('Vichada',), ('Ecuador',), ('Amazonas',), ('Ancash',), ('ApurÃ\\xadmac',), ('Arequipa',), ('Ayacucho',), ('Cajamarca',), ('Cusco',), ('Huancavelica',), ('HuÃ¡nuco',), ('Ica',), ('JunÃ\\xadn',), ('La Libertad',), ('Lambayeque',), ('Lima',), ('Lima City',), ('Loreto',), ('Madre de Dios',), ('Moquegua',), ('Pasco',), ('Piura',), ('Puno',), ('San MartÃ\\xadn',), ('Tacna',), ('Tumbes',), ('Ucayali',), ('La Paz',), ('Oruro',), ('PotosÃ\\xad',), ('Santa Cruz',), ('Beni',), ('Pando',), ('Chuquisaca',), ('Cochabamba',), ('Tarija',), ('TarapacÃ¡',), ('Antofagasta',), ('Atacama',), ('Coquimbo',), ('ValparaÃ\\xadso',), (\"Libertador General Bernardo O'Higgins\",), ('Maule',), ('BÃ\\xado-BÃ\\xado',), ('AraucanÃ\\xada',), ('Lagos',), ('AysÃ©n',), ('Magallanes',), ('Santiago',), ('RÃ\\xados',), ('Arica y Parinacota',), ('Buenos Aires',), ('Catamarca',), ('Chaco',), ('Chubut',), ('CÃ³rdoba',), ('Corrientes',), ('Entre RÃ\\xados',), ('Formosa',), ('Jujuy',), ('La Pampa',), ('La Rioja',), ('Mendoza',), ('Misiones',), ('NeuquÃ©n',), ('RÃ\\xado Negro',), ('Salta',), ('San Juan',), ('San Luis',), ('Santa Cruz',), ('Santa Fe',), ('Santiago de Estero',), ('Tierra del Fuego',), ('TucumÃ¡n',), ('Paraguay',), ('Uruguay',), ('Acre',), ('Alagoas',), ('AmapÃ¡',), ('Amazonas',), ('Bahia',), ('CearÃ¡',), ('EspÃ\\xadrito Santo',), ('GoiÃ¡s',), ('MaranhÃ£o',), ('Mato Grosso',), ('Mato Grosso do Sul',), ('Minas Gerais',), ('ParÃ¡',), ('ParaÃ\\xadba',), ('ParanÃ¡',), ('Pernambuco',), ('PiauÃ\\xad',), ('Rio de Janeiro',), ('Rio Grande do Norte',), ('Rio Grande do Sul',), ('RondÃ´nia',), ('Roraima',), ('Santa Catarina',), ('SÃ£o Paulo',), ('Sergipe',), ('Tocantins',), ('Distrito Federal',), ('Falkland Islands',), ('Tanintharyi',), ('Chin',), ('Kachin',), ('Kayin',), ('Kayah',), ('Mon',), ('Rakhine',), ('Shan',), ('Nay Pyi Taw',), ('Sri Lanka',), ('Anhui',), ('Fujian',), ('Gansu',), ('Guangdong',), ('Guizhou',), ('Hainan',), ('Hebei',), ('Heilongjiang',), ('Henan',), ('Hubei',), ('Hunan',), ('Jiangsu',), ('Jiangxi',), ('Jilin',), ('Liaoning',), ('Qinghai',), ('Shaanxi',), ('Shandong',), ('Shanxi',), ('Sichuan',), ('Yunnan',), ('Zhejiang',), ('Guangxi',), ('Nei Mongol',), ('Ningxia',), ('Xinjiang',), ('Xizang',), ('Beijing',), ('Shanghai',), ('Tianjin',), ('Chongqing',), ('Taiwan',), ('Hong Kong',), ('North Korea',), ('South Korea',), ('Hokkaido',), ('Aomori',), ('Iwate',), ('Miyagi',), ('Akita',), ('Yamagata',), ('Fukushima',), ('Ibaraki',), ('Tochigi',), ('Gumma',), ('Saitama',), ('Chiba',), ('Tokyo',), ('Kanagawa',), ('Niigata',), ('Toyama',), ('Ishikawa',), ('Fukui',), ('Yamanashi',), ('Nagano',), ('Gifu',), ('Shizuoka',), ('Aichi',), ('Mie',), ('Shiga',), ('Kyoto',), ('Osaka',), ('Hyogo',), ('Nara',), ('Wakayama',), ('Tottori',), ('Shimane',), ('Okayama',), ('Hiroshima',), ('Yamaguchi',), ('Tokushima',), ('Kagawa',), ('Ehime',), ('Kochi',), ('Fukuoka',), ('Saga',), ('Nagasaki',), ('Kumamoto',), ('Oita',), ('Miyazaki',), ('Kagoshima',), ('Okinawa',), ('Ilocos',), ('Cagayan Valley',), ('Central Luzon',), ('Calabarzon',), ('Bicol',), ('Western Visayas',), ('Central Visayas',), ('Eastern Visayas',), ('Zamboanga Peninsula',), ('Northern Mindanao',), ('Davao',), ('Soccsksargen',), ('Cordillera',), ('Muslim Mindanao',), ('Caraga',), ('Mimaropa',), ('Northern Midlands and Mountains',), ('Red River Delta',), ('North and South Central Coast',), ('Central Highlands',), ('Southeast',), ('Mekong River Delta',), ('Cambodia',), ('Laos',), ('Thailand',), ('Johor',), ('Kedah',), ('Kelantan',), ('Melaka',), ('Negeri Sembilan',), ('Pahang',), ('Perak',), ('Pulau Pinang',), ('Sabah',), ('Sarawak',), ('Selangor',), ('Terengganu',), ('Brunei',), ('Aceh',), ('Sumatera Utara',), ('Sumatera Barat',), ('Riau',), ('Jambi',), ('Sumatera Selatan',), ('Bengkulu',), ('Lampung',), ('Kepulauan Bangka Belitung',), ('Kepulauan Riau',), ('Jawa Barat',), ('Jawa Tengah',), ('DI Yogyakarta',), ('Jawa Timur',), ('Banten',), ('Bali',), ('Nusa Tenggara Barat',), ('Nusa Tenggara Timur',), ('Kalimantan Barat',), ('Kalimantan Tengah',), ('Kalimantan Selatan',), ('Kalimantan Timur',), ('Kalimantan Utara',), ('Sulawesi Utara',), ('Sulawesi Tengah',), ('Sulawesi Selatan',), ('Sulawesi Tenggara',), ('Gorontalo',), ('Sulawesi Barat',), ('Maluku',), ('Maluku Utara',), ('Papua Barat',), ('Papua',), ('Timor-Leste',), ('North',), ('South',), ('Bougainville',), ('Solomon Islands',), ('Vanuatu',), ('New Caledonia',), ('New South Wales',), ('Northern Territory',), ('Queensland',), ('South Australia',), ('Tasmania',), ('Victoria',), ('Western Australia',), ('Australia Capital Territory',), ('New Zealand',), ('Samoa',), ('Fiji',), ('French Polynesia',), ('Egypt',), ('Libya',), ('Tunisia',), ('Algeria',), ('Guelmim Es Semara',), ('Souss Massa Daraa',), ('Gharb Chrarda Beni Hssen',), ('Chaouia Ouardigha',), ('Marrakech Tensift Al Haouz',), ('Oriental',), ('Grand Casablanca',), ('Rabat Sale Zemmour Zaer',), ('Doukala Abda',), ('Tadla Azilal',), ('Meknes Tafilalet',), ('Fes Boulemane',), ('Taza Al Hoceima Taounate',), ('Tanger Tetouan',), ('Western Sahara',), ('Gao',), ('Kayes',), ('Kidal',), ('Koulikoro',), ('Mopti',), ('SÃ©gou',), ('Sikasso',), ('Tombouctou',), ('Adrar',), ('Assaba',), ('Brakna',), ('Dakhlet Nouadhibou',), ('Gorgol',), ('Guidimagha',), ('Hodh Chargui',), ('Hodh El Gharbi',), ('Inchiri',), ('Tagant',), ('Tiris Zemmour',), ('Trarza',), ('Diourbel',), ('Fatick',), ('Kaolack',), ('Kolda',), ('Louga',), ('Saint-Louis',), ('Tambacounda',), ('ThiÃ¨s',), ('Ziguinchor',), ('Matam',), ('SÃ©dhiou',), ('KÃ©dougou',), ('Kaffrine',), ('Gambia',), ('Guinea-Bissau',), ('Guinea',), ('Sierra Leone',), ('Liberia',), ('Burkina Faso',), ('Yamoussoukro',), ('Abidjan',), ('Bas-Sassandra',), ('DenguÃ©lÃ©',), ('GÃ´h-Djiboua',), ('Sassandra-MarahouÃ©',), ('Lacs',), ('Lagunes',), ('Montagnes',), ('ComoÃ©',), ('Savanes',), ('VallÃ©e du Bandama',), ('Woroba',), ('Zanzan',), ('Ashanti',), ('Brong Ahafo',), ('Central',), ('Eastern',), ('Greater Accra',), ('Northern',), ('Upper East',), ('Upper West',), ('Volta',), ('Western',), ('Togo',), ('Benin',), ('Abia',), ('Abuja',), ('Adamawa',), ('Akwa Ibom',), ('Anambra',), ('Bauchi',), ('Bayelsa',), ('Benue',), ('Borno',), ('Cross River',), ('Delta',), ('Ebonyi',), ('Edo',), ('Ekiti',), ('Enugu',), ('Gombe',), ('Imo',), ('Jigawa',), ('Kaduna',), ('Kano',), ('Katsina',), ('Kebbi',), ('Kogi',), ('Kwara',), ('Lagos',), ('Nasarawa',), ('Niger',), ('Ogun',), ('Ondo',), ('Osun',), ('Oyo',), ('Plateau',), ('Rivers',), ('Sokoto',), ('Taraba',), ('Yobe',), ('Zamfara',), ('Agadez',), ('Diffa',), ('Dosso',), ('Maradi',), ('Tahoua',), ('TillabÃ©ri',), ('Zinder',), ('Chad',), ('Al-Baá¸¥r al-Aá¸¥mar',), ('Al-JazÄ«rah',), ('Al-Khará¹\\xadÅ«m',), ('Al-Qaá¸¿Ä¿rif',), ('An-NÄ«l al-Abyaá¸¿',), ('An-NÄ«l al-Azraq',), ('Ash-ShamÄ¿lÄ«yah',), ('Gharb al-DÄ¿rfÅ«r',), ('Gharb KurdufÄ¿n',), ('JanÅ«b DÄ¿rfÅ«r',), ('JanÅ«b KurdufÄ¿n',), ('KassalÄ¿',), ('Nahr an-NÄ«l',), ('SannÄ¿r',), ('ShamÄ¿l DÄ¿rfÅ«r',), ('ShamÄ¿l KurdufÄ¿n',), ('Sharq DÄ¿rfÅ«r',), ('Wasaá¹\\xad DÄ¿rfÅ«r',), ('South Sudan',), ('Central African Republic',), ('Adamaoua',), ('Centre',), ('Est',), ('ExtrÃªme-Nord',), ('Littoral',), ('Nord',), ('Nord-Ouest',), ('Ouest',), ('Sud',), ('Sud-Ouest',), ('Insular',), ('Continental',), ('Gabon',), ('Kouilou',), ('Niari',), ('LÃ©koumou',), ('Bouenza',), ('Pool',), ('Plateaux',), ('Cuvette',), ('Cuvette-Ouest',), ('Sangha',), ('Likouala',), ('Kinshasa',), ('Kongo Central',), ('Kwango',), ('Kwilu',), ('Mai-Ndombe',), ('Kasai',), ('Kasai-Central',), ('Kasai-Oriental',), ('Lomami',), ('Sankuru',), ('Maniema',), ('Sud-Kivu',), ('Nord-Kivu',), ('Ituri',), ('Haut-Uele',), ('Tshopo',), ('Bas-Uele',), ('Nord-Ubangi',), ('Mongala',), ('Sud-Ubangi',), ('Ã‰quateur',), ('Tshuapa',), ('Tanganyika',), ('Haut-Lomami',), ('Lualaba',), ('Haut-Katanga',), ('Cabinda',), ('Zaire',), ('UÃ\\xadge',), ('Luanda',), ('Cuanza Norte',), ('Cuanza Sul',), ('Malanje',), ('Lunda-Norte',), ('Lunda-Sul',), ('Benguela',), ('Huambo',), ('BiÃ©',), ('Moxico',), ('Cuando Cubango',), ('Namibe',), ('HuÃ\\xadla',), ('Bengo',), ('Cunene',), ('Namibia',), ('Botswana',), ('Eastern Cape',), ('Free State',), ('Gauteng',), ('KwaZulu-Natal',), ('Mpumalanga',), ('Northern Cape',), ('Limpopo',), ('North West',), ('Western Cape',), ('Lesotho',), ('Eswatini',), ('Cabo Delgado',), ('Gaza',), ('Inhambane',), ('Manica',), ('Maputo',), ('Nampula',), ('Niassa',), ('Sofala',), ('Tete',), ('ZambÃ©zia',), ('Zimbabwe',), ('Central',), ('Copperbelt',), ('Eastern',), ('Luapula',), ('Lusaka',), ('Northern',), ('North-Western',), ('Southern',), ('Western',), ('Malawi',), ('Dodoma',), ('Arusha',), ('Kilimanjaro',), ('Tanga',), ('Morogoro',)]\u001b[0m\n",
      "Answer:\n",
      " Consulta SQL gerada, mas houve erro ao executá-la\n"
     ]
    }
   ],
   "source": [
    "execute_query(\"What are the provinces with an area greater than 1000?\")"
   ]
  },
  {
   "cell_type": "code",
   "execution_count": 40,
   "id": "22e844b7",
   "metadata": {},
   "outputs": [
    {
     "name": "stdout",
     "output_type": "stream",
     "text": [
      "\n",
      "\n",
      "\u001b[1m> Entering new  chain...\u001b[0m\n",
      "What are the provinces with an area more than 1000?\n",
      "SQLQuery:\u001b[32;1m\u001b[1;3mSELECT name\n",
      "FROM province\n",
      "WHERE area > 1000\u001b[0m\n",
      "SQLResult: \u001b[33;1m\u001b[1;3m[('Primorskiy',), ('Khabarovskiy',), ('Amurskaya',), ('Kamchatka',), ('Magadanskaya',), ('Sakhalin',), ('Khanty Mansi ao',), ('Yamalo Nenets ao',), ('Antwerpen',), ('Oost-Vlaanderen',), ('Hainaut',), ('LiÃ¨ge',), ('Limburg',), ('Luxembourg',), ('Namur',), ('West-Vlaanderen',), ('Brabant Wallon',), ('Vlaams-Brabant',), ('Luxembourg',), ('Groningen',), ('Friesland',), ('Drenthe',), ('Overijssel',), ('Flevoland',), ('Gelderland',), ('Utrecht',), ('Noord-Holland',), ('Zuid-Holland',), ('Zeeland',), ('Noord-Brabant',), ('Limburg',), ('Slovenia',), ('Croatia',), ('Federacija Bosne i Hercegovine',), ('Republika Srpska',), ('Bulgaria',), ('Alba',), ('Arad',), ('ArgeÅŸ',), ('BacÄƒu',), ('Bihor',), ('BistriÅ£a-NÄƒsÄƒud',), ('BotoÅŸani',), ('BrÄƒila',), ('BraÅŸov',), ('BuzÄƒu',), ('CÄƒlÄƒraÅŸi',), ('CaraÅŸ-Severin',), ('Cluj',), ('ConstanÅ£a',), ('Covasna',), ('DÃ¢mboviÅ£a',), ('Dolj',), ('GalaÅ£i',), ('Giurgiu',), ('Gorj',), ('Harghita',), ('Hunedoara',), ('IalomiÅ£a',), ('IaÅŸi',), ('MaramureÅŸ',), ('MehedinÅ£i',), ('MureÅŸ',), ('NeamÅ£',), ('Olt',), ('Prahova',), ('SÄƒlaj',), ('Satu-Mare',), ('Sibiu',), ('Suceava',), ('Teleorman',), ('TimiÅŸ',), ('Tulcea',), ('Vaslui',), ('VÃ¢lcea',), ('Vrancea',), ('Ilfov',), ('Nordjylland',), ('Midtjylland',), ('Syddanmark',), ('Hovedstaden',), ('SjÃ¦lland',), ('Iceland',), ('Faroe Islands',), ('Ireland',), ('Ã…land',), ('Kanta-HÃ¤me',), ('PÃ¤ijÃ¤t-HÃ¤me',), ('Pirkanmaa',), ('Pohjois-Savo',), ('EtelÃ¤-Karjala',), ('Kymenlaakso',), ('Lappia',), ('EtelÃ¤-Savo',), ('Keski-Suomi',), ('Pohjols-Karjala',), ('Pohjois-Pohjanmaa',), ('Kainuu',), ('Satakunta',), ('Varsinais-Suomi',), ('Uusimaa',), ('Pohjanmaa',), ('EtelÃ¤-Pohjanmaa',), ('Keski-Pohjanmaa',), ('Akershus',), ('Ã˜stfold',), ('Hedmark',), ('Oppland',), ('Buskerud',), ('Vestfold',), ('Telemark',), ('Aust-Agder',), ('Vest-Agder',), ('Rogaland',), ('Hordaland',), ('Sogn og Fjordane',), ('MÃ¸re og Romsdal',), ('SÃ¸r-TrÃ¸ndelag',), ('Nord-TrÃ¸ndelag',), ('Nordland',), ('Troms',), ('Finnmark',), ('VÃ¤stra GÃ¶taland',), ('Blekinge',), ('GÃ¤vleborg',), ('Gotland',), ('Halland',), ('JÃ¤mtland',), ('JÃ¶nkÃ¶ping',), ('Kalmar',), ('Dalarna',), ('SkÃ¥ne',), ('Kronoberg',), ('Norrbotten',), ('Ã–rebro',), ('Ã–stergÃ¶tland',), ('SÃ¶dermanland',), ('Stockholm',), ('Uppsala',), ('VÃ¤rmland',), ('VÃ¤sterbotten',), ('VÃ¤sternorrland',), ('VÃ¤stmanland',), ('Moldova',), ('Aveiro',), ('Thi Qar',), ('Diala',), ('Kerbela',), ('Maysan',), ('al-Muthanna',), ('al-Najaf',), ('Nineveh',), ('al-Qadisiya',), ('Salah al-Deen',), ('Kirkuk',), ('Wasit',), ('Duhouk',), ('Erbil',), ('As Sulaymaniyah',), ('West Azarbayejan',), ('East Azarbayejan',), ('Kermanshah',), ('Kohgiluyeh and Boyer-Ahmad',), ('Bushehr',), ('Chaharmahal and Bakhtiyari',), ('Esfahan',), ('Fars',), ('Gilan',), ('Hamedan',), ('Hormozgan',), ('Ilam',), ('Kerman',), ('Khorasan-e-Razavi',), ('Khuzestan',), ('Kurdestan',), ('Lorestan',), ('Markazi',), ('Mazandaran',), ('Semnan',), ('Sistan and Baluchestan',), ('Tehran',), ('Yazd',), ('Zanjan',), ('Ardebil',), ('Golestan',), ('Alborz',), ('Qom',), ('Qazvin',), ('North Khorasan',), ('South Khorasan',), ('Afghanistan',), ('Akhal',), ('Balkan',), ('Dashhowuz',), ('Lebap',), ('Mary',), ('Andijon',), ('Buxoro',), ('FargÊ»ona',), ('Jizzax',), ('Xorazm',), ('Namangan',), ('Navoiy',), ('Qasqadaryo',), ('Samarqand',), ('Sirdaryo',), ('Surkhandarya',), ('Toshkent',), ('QoraqalpogÊ»iston',), ('Regions of Republican Subordination',), ('Sughd',), ('Khatlon',), ('Gorno-Badakhshan',), ('Kyrgyzstan',), ('Almaty',), ('Akmola',), ('Aktobe',), ('Atyrau',), ('West Kazakhstan',), ('Mangistau',), ('South-Kazakhstan',), ('Pavlodar',), ('Karaganda',), ('Kostanai',), ('Kyzylorda',), ('East-Kazakhstan',), ('North-Kazakhstan',), ('Zhambyl',), ('Mongolia',), ('Azad Jammu and Kashmir',), ('Balochistan',), ('FATA',), ('Gilgit-Baltistan',), ('Khyber Pakhtunkhwa',), ('Punjab',), ('Sindh',), ('Andhra Pradesh',), ('Arunachal Pradesh',), ('Assam',), ('Bihar',), ('Goa',), ('Gujarat',), ('Haryana',), ('Himachal Pradesh',), ('Jammu and Kashmir',), ('Karnataka',), ('Kerala',), ('Madhya Pradesh',), ('Maharashtra',), ('Manipur',), ('Meghalaya',), ('Mizoram',), ('Nagaland',), ('Odisha',), ('Punjab',), ('Rajasthan',), ('Sikkim',), ('Tamil Nadu',), ('Tripura',), ('Uttar Pradesh',), ('West Bengal',), ('Andaman and Nicobar Islands',), ('Delhi',), ('Chhattisgarh',), ('Jharkhand',), ('Telangana',), ('Uttarakhand',), ('Nepal',), ('Bhutan',), ('Barisal',), ('Chittagong',), ('Dhaka',), ('Khulna',), ('Rajshahi',), ('Rangpur',), ('Sylhet',), ('Mymensingh',), ('Ayeyarwady',), ('Magwe',), ('Mandalay',), ('Bago',), ('Yangon',), ('Sagaing',), ('Beja',), ('Braga',), ('Braganca',), ('Castelo Branco',), ('Coimbra',), ('Evora',), ('Algarve',), ('Guarda',), ('Leiria',), ('Lisboa',), ('Portalegre',), ('Porto',), ('Santarem',), ('Setubal',), ('Viana do Castelo',), ('Vila Real',), ('Viseu',), ('Azores',), ('Svalbard',), ('North East',), ('North West',), ('Yorkshire and the Humber',), ('East Midlands',), ('West Midlands',), ('East of England',), ('London',), ('South East',), ('South West',), ('Scotland',), ('Wales',), ('Northern Ireland',), ('Armenia',), ('Georgia',), ('Azerbaijan',), ('Adana',), ('AdÄ±yaman',), ('Afyonkarahisar',), ('AÄŸrÄ±',), ('Aksaray',), ('Amasya',), ('Ankara',), ('Antalya',), ('Artvin',), ('AydÄ±n',), ('BalÄ±kesir',), ('Batman',), ('Bayburt',), ('Bilecik',), ('BingÃ¶l',), ('Bitlis',), ('Bolu',), ('Burdur',), ('Bursa',), ('Ã‡anakkale',), ('Ã‡ankÄ±rÄ±',), ('Ã‡orum',), ('Denizli',), ('DiyarbakÄ±r',), ('Edirne',), ('ElazÄ±ÄŸ',), ('Erzincan',), ('Erzurum',), ('EskiÅŸehir',), ('Gaziantep',), ('Giresun',), ('GÃ¼mÃ¼ÅŸhane',), ('Hakkari',), ('Hatay',), ('Mersin',), ('Isparta',), ('Ä°stanbul',), ('Ä°zmir',), ('Karaman',), ('KahramanmaraÅŸ',), ('Kars',), ('Kastamonu',), ('Kayseri',), ('KÄ±rÄ±kkale',), ('KÄ±rklareli',), ('KÄ±rÅŸehir',), ('Kocaeli',), ('Konya',), ('KÃ¼tahya',), ('Malatya',), ('Manisa',), ('Mardin',), ('MuÄŸla',), ('MuÅŸ',), ('NevÅŸehir',), ('NiÄŸde',), ('Ordu',), ('Rize',), ('Sakarya',), ('Samsun',), ('ÅžanlÄ±urfa',), ('Siirt',), ('Sinop',), ('ÅžÄ±rnak',), ('Sivas',), ('TekirdaÄŸ',), ('Tokat',), ('Trabzon',), ('Tunceli',), ('UÅŸak',), ('Van',), ('Yozgat',), ('Zonguldak',), ('BartÄ±n',), ('KarabÃ¼k',), ('Ardahan',), ('IÄŸdÄ±r',), ('Kilis',), ('DÃ¼zce',), ('Osmaniye',), ('Lebanon',), ('West Bank',), ('HaMerkaz',), ('HaZafon',), ('HaDarom',), ('Al Hasakah',), ('Al Ladhiqiyah',), ('Al Qunaytirah',), ('Ar Raqqah',), ('As Suwayda',), ('Daraa',), ('Dayr az Zawr',), ('Halab',), ('Hamah',), ('Hims',), ('Idlib',), ('Rif Dimashq',), ('Tartus',), ('Jordan',), ('Al-Hudud ash Shamaliyah',), ('Al-Baha',), ('Al-Jouf',), ('Al-Madinah Al-Monawarah',), ('Al-Qaseem',), ('Al-Riyadh',), ('Aseer',), ('Ash Sharqiyah',), ('Hail',), ('Jazan',), ('Makkah Al-Mokarramah',), ('Najran',), ('Tabouk',), ('Qatar',), ('United Arab Emirates',), ('Oman',), ('Yemen',), ('Kuwait',), ('al-Anbar',), ('Babylon',), ('Baghdad',), ('Basrah',), ('Albania',), ('Anatolikis Makedonias kai Thrakis',), ('Attikis',), ('Dytikis Elladas',), ('Dytikis Makedonias',), ('Ionion Nison',), ('Ipeiroy',), ('Kentrikis Makedonias',), ('Kritis',), ('Notioy Aigaioy',), ('Peloponnisos',), ('Stereas Elladas',), ('Thessalias',), ('Boreioy Aigaioy',), ('Cyprus',), ('North Macedonia',), ('Serbia',), ('Montenegro',), ('Kosovo',), ('ÃŽle-de-France',), ('Auvergne-RhÃ´ne-Alpes',), ('Nouvelle-Aquitaine',), ('Hauts-de-France',), (\"Provence-Alpes-CÃ´te d'Azur\",), ('Bretagne',), ('Centre-Val de Loire',), ('Pays de la Loire',), ('Grand Est',), ('Normandie',), ('Bourgogne-Franche-ComtÃ©',), ('Occitanie',), ('Corse',), ('AndalucÃ\\xada',), ('AragÃ³n',), ('Asturias',), ('Illes Balears',), ('Euskadi',), ('Canarias',), ('Cantabria',), ('Castilla y LeÃ³n',), ('Castilla-La Mancha',), ('Catalunya',), ('Extremadura',), ('Galicia',), ('Madrid',), ('Murcia',), ('Navarra',), ('La Rioja',), ('Valenciana',), ('JihoÄ¿eskÃ½',), ('JihomoravskÃ½',), ('KarlovarskÃ½',), ('VysoÄ¿ina',), ('KrÃ¡lovÃ©hradeckÃ½',), ('LibereckÃ½',), ('MoravskoslezskÃ½',), ('OlomouckÃ½',), ('PardubickÃ½',), ('PlzeÅˆskÃ½',), ('StÅ™edoÄ¿eskÃ½',), ('ÃšsteckÃ½',), ('ZlÃ\\xadnskÃ½',), ('BratislavskÃ½',), ('BanskobystrickÃ½',), ('Å½ilinskÃ½',), ('KoÅ¡ickÃ½',), ('PreÅ¡ovskÃ½',), ('Nitriansky',), ('TrenÄ¿iansky',), ('TrnavskÃ½',), ('Baden-WÃ¼rttemberg',), ('Bayern',), ('Brandenburg',), ('Hessen',), ('Mecklenburg-Vorpommern',), ('Niedersachsen',), ('Nordrhein-Westfalen',), ('Rheinland-Pfalz',), ('Saarland',), ('Sachsen',), ('Sachsen-Anhalt',), ('Schleswig-Holstein',), ('ThÃ¼ringen',), ('Baranya',), ('BÃ¡cs-Kiskun',), ('BÃ©kÃ©s',), ('Borsod-AbaÃºj-ZemplÃ©n',), ('CsongrÃ¡d',), ('FejÃ©r',), ('GyÅ‘r-Moson-Sopron',), ('HajdÃº-Bihar',), ('Heves',), ('KomÃ¡rom-Esztergom',), ('NÃ³grÃ¡d',), ('Pest',), ('Somogy',), ('Szabolcs-SzatmÃ¡r-Bereg',), ('JÃ¡sz-Nagykun-Szolnok',), ('Tolna',), ('Vas',), ('VeszprÃ©m',), ('Zala',), ('Piemonte',), (\"Valle d'Aosta\",), ('Lombardia',), ('Trentino-Alto Adige',), ('Veneto',), ('Friuli-Venezia Giulia',), ('Liguria',), ('Emilia-Romagna',), ('Toscana',), ('Umbria',), ('Marche',), ('Lazio',), ('Abruzzo',), ('Molise',), ('Campania',), ('Puglia',), ('Basilicata',), ('Calabria',), ('Sicilia',), ('Sardegna',), ('Aargau',), ('Bern',), ('Fribourg',), ('GraubÃ¼nden',), ('Luzern',), ('Sankt Gallen',), ('Ticino',), ('Uri',), ('Valais',), ('Vaud',), ('ZÃ¼rich',), ('Burgenland',), ('KÃ¤rnten',), ('Vorarlberg',), ('OberÃ¶sterreich',), ('Tirol',), ('Steiermark',), ('Salzburg',), ('NiederÃ¶sterreich',), ('Estonia',), ('Latvia',), ('Lithuania',), ('Brest',), ('Vitebsk',), ('Gomel',), ('Grodno',), ('Mogilev',), ('Minsk',), ('DolnoÅ›lÄ…skie',), ('Kujawsko-Pomorskie',), ('Lubelskie',), ('Lubuskie',), ('Å¿Ã³dzkie',), ('MaÅ‚opolskie',), ('Mazowieckie',), ('Opolskie',), ('Podkarpackie',), ('Podlaskie',), ('Pomorskie',), ('ÅšlÄ…skie',), ('ÅšwiÄ™tokrzyskie',), ('WarmiÅ„sko-Mazurskie',), ('Wielkopolskie',), ('Zachodniopomorskie',), ('Cherkaska',), ('Chernihivska',), ('Chernivetska',), ('Dnipropetrovska',), ('Donetska',), ('Ivano-Frankivska',), ('Kharkivska',), ('Khersonska',), ('Khmelnytska',), ('KyÃ¯vska',), ('Kirovohradska',), ('Luhanska',), ('Lvivska',), ('MykolaÃ¯vska',), ('Odeska',), ('Poltavska',), ('Rivnenska',), ('Sumska',), ('Ternopilska',), ('Vinnytska',), ('Volynska',), ('Zakarpatska',), ('Zaporizka',), ('Zhytomyrska',), ('Krym',), ('Karelia',), ('Komi',), ('Arkhangelskaya',), ('Vologodskaya',), ('Murmanskaya',), ('Kaliningradskaya',), ('Sankt-Peterburg',), ('Leningradskaya',), ('Novgorodskaya',), ('Pskovskaya',), ('Bryanskaya',), ('Vladimirskaya',), ('Ivanovskaya',), ('Kaluzhskaya',), ('Kostromskaya',), ('Moscow',), ('Moskovskaya',), ('Orlovskaya',), ('Ryazanskaya',), ('Smolenskaya',), ('Tverskaya',), ('Tulskaya',), ('Yaroslavskaya',), ('Mariy-El',), ('Mordoviya',), ('Chuvashia',), ('Kirovskaya',), ('Nizhnii Novgorodskaya',), ('Belgorodskaya',), ('Voronezhskaya',), ('Kurskaya',), ('Lipetskaya',), ('Tambovskaya',), ('Kalmykiya',), ('Tatarstan',), ('Astrakhanskaya',), ('Volgogradskaya',), ('Penzenskaya',), ('Samarskaya',), ('Saratovskaya',), ('Ulyanovskaya',), ('Rostovskaya',), ('Bashkortostan',), ('Udmurtskaya',), ('Orenburgskaya',), ('Permskij',), ('Adygeya',), ('Dagestan',), ('Ingushskaya',), ('Kabardino-Balkarskaya',), ('Karachayevo-Cherkesskaya',), ('North Ossetia-Alania',), ('Chechenskaya',), ('Krasnodarskiy',), ('Stavropolskiy',), ('Kurganskaya',), ('Sverdlovskaya',), ('Chelyabinskaya',), ('Altay',), ('Altayskiy',), ('Kemerovskaya',), ('Novosibirskaya',), ('Omskaya',), ('Tomskaya',), ('Tyumenskaya',), ('Buryatiya',), ('Tyva',), ('Khakasiya',), ('Krasnoyarsk',), ('Irkutskaya',), ('Zabaykalskiy',), ('Sakha',), ('Jewish Autonomous Oblast',), ('Chukotka',), ('Pwani',), ('Dar es Salaam',), ('Lindi',), ('Mtwara',), ('Ruvuma',), ('Iringa',), ('Mbeya',), ('Singida',), ('Tabora',), ('Rukwa',), ('Kigoma',), ('Shinyanga',), ('Kagera',), ('Mwanza',), ('Mara',), ('Manyara',), ('Njombe',), ('Katavi',), ('Simiyu',), ('Geita',), ('Burundi',), ('Rwanda',), ('Central',), ('Eastern',), ('Northern',), ('Western',), ('Kenya',), ('Somalia',), ('Djibouti',), ('Afar',), ('Amhara',), ('Benishangul-Gumuz',), ('Dire Dawa',), ('Gambella',), ('Oromia',), ('Somali',), ('Tigray',), ('YeDebub Biheroch Bihereseboch na Hizboch',), ('Eritrea',), ('Cape Verde',), ('Sao Tome and Principe',), ('Comoros',), ('Madagascar',), ('Mauritius',), ('Reunion',), ('Greenland',), ('Alberta',), ('British Columbia',), ('Manitoba',), ('New Brunswick',), ('Newfoundland and Labrador',), ('Northwest Territories',), ('Nova Scotia',), ('Ontario',), ('Prince Edward Island',), ('Quebec',), ('Saskatchewan',), ('Yukon',), ('Nunavut',), ('Alabama',), ('Alaska',), ('Arizona',), ('Arkansas',), ('California',), ('Colorado',), ('Connecticut',), ('Delaware',), ('Florida',), ('Georgia',), ('Hawaii',), ('Idaho',), ('Illinois',), ('Indiana',), ('Iowa',), ('Kansas',), ('Kentucky',), ('Louisiana',), ('Maine',), ('Maryland',), ('Massachusetts',), ('Michigan',), ('Minnesota',), ('Mississippi',), ('Missouri',), ('Montana',), ('Nebraska',), ('Nevada',), ('New Hampshire',), ('New Jersey',), ('New Mexico',), ('New York',), ('North Carolina',), ('North Dakota',), ('Ohio',), ('Oklahoma',), ('Oregon',), ('Pennsylvania',), ('Rhode Island',), ('South Carolina',), ('South Dakota',), ('Tennessee',), ('Texas',), ('Utah',), ('Vermont',), ('Virginia',), ('Washington',), ('West Virginia',), ('Wisconsin',), ('Wyoming',), ('Aguascalientes',), ('Baja California',), ('Baja California Sur',), ('Campeche',), ('Chiapas',), ('Chihuahua',), ('Coahuila',), ('Colima',), ('Durango',), ('Guanajuato',), ('Guerrero',), ('Hidalgo',), ('Jalisco',), ('MÃ©xico, Estado de',), ('MichoacÃ¡n',), ('Morelos',), ('Nayarit',), ('Nuevo LÃ©on',), ('Oaxaca',), ('Puebla',), ('QuerÃ©taro',), ('Quintana Roo',), ('San Luis PotosÃ\\xad',), ('Sinaloa',), ('Sonora',), ('Tabasco',), ('Tamaulipas',), ('Tlaxcala',), ('Veracruz',), ('YucatÃ¡n',), ('Zacatecas',), ('Distrito Federal',), ('Belize',), ('Guatemala',), ('El Salvador',), ('AtlÃ¡ntida',), ('ColÃ³n',), ('Comayagua',), ('CopÃ¡n',), ('CortÃ©s',), ('Choluteca',), ('El ParaÃ\\xadso',), ('Francisco MorazÃ¡n',), ('Gracias a Dios',), ('IntibucÃ¡',), ('La Paz',), ('Lempira',), ('Ocotepeque',), ('Olancho',), ('Santa BÃ¡rbara',), ('Valle',), ('Yoro',), ('Nicaragua',), ('San JosÃ©',), ('Alajuela',), ('Cartago',), ('Heredia',), ('Guanacaste',), ('Puntarenas',), ('LimÃ³n',), ('Bocas del Toro',), ('CoclÃ©',), ('ColÃ³n',), ('Kuna Yala',), ('ChiriquÃ\\xad',), ('DariÃ©n',), ('Herrera',), ('Los Santos',), ('PanamÃ¡',), ('Veraguas',), ('EmberÃ¡',), ('NgÃ¶be BuglÃ©',), ('Bahamas',), ('CamagÃ¼ey',), ('Ciego de Ã¿vila',), ('Cienfuegos',), ('Granma',), ('GuantÃ¡namo',), ('HolguÃ\\xadn',), ('Las Tunas',), ('Matanzas',), ('Pinar del RÃ\\xado',), ('Sancti SpÃ\\xadritus',), ('Santiago de Cuba',), ('Villa Clara',), ('Isla de la Juventud',), ('Artemisa',), ('Mayabeque',), ('Jamaica',), ('Haiti',), ('Dominican Republic',), ('Puerto Rico',), ('Guadeloupe',), ('Martinique',), ('Trinidad and Tobago',), ('Amazonas',), ('AnzoÃ¡tegui',), ('Apure',), ('Aragua',), ('Barinas',), ('BolÃ\\xadvar',), ('Carabobo',), ('Cojedes',), ('Delta Amacuro',), ('FalcÃ³n',), ('GuÃ¡rico',), ('Lara',), ('MÃ©rida',), ('Miranda',), ('Monagas',), ('Nueva Esparta',), ('Portuguesa',), ('Sucre',), ('TÃ¡chira',), ('Trujillo',), ('Yaracuy',), ('Zulia',), ('Vargas',), ('Guyana',), ('Suriname',), ('French Guiana',), ('Amazonas',), ('Antioquia',), ('Arauca',), ('AtlÃ¡ntico',), ('BolÃ\\xadvar',), ('BoyacÃ¡',), ('Caldas',), ('CaquetÃ¡',), ('Casanare',), ('Cauca',), ('Cesar',), ('ChocÃ³',), ('CÃ³rdoba',), ('Cundinamarca',), ('GuainÃ\\xada',), ('La Guajira',), ('Guaviare',), ('Huila',), ('Magdalena',), ('Meta',), ('NariÃ±o',), ('Norte de Santander',), ('Putumayo',), ('QuindÃ\\xado',), ('Risaralda',), ('Santa Fe de BogotÃ¡',), ('Santander',), ('Sucre',), ('Tolima',), ('Valle de Cauca',), ('VaupÃ©s',), ('Vichada',), ('Ecuador',), ('Amazonas',), ('Ancash',), ('ApurÃ\\xadmac',), ('Arequipa',), ('Ayacucho',), ('Cajamarca',), ('Cusco',), ('Huancavelica',), ('HuÃ¡nuco',), ('Ica',), ('JunÃ\\xadn',), ('La Libertad',), ('Lambayeque',), ('Lima',), ('Lima City',), ('Loreto',), ('Madre de Dios',), ('Moquegua',), ('Pasco',), ('Piura',), ('Puno',), ('San MartÃ\\xadn',), ('Tacna',), ('Tumbes',), ('Ucayali',), ('La Paz',), ('Oruro',), ('PotosÃ\\xad',), ('Santa Cruz',), ('Beni',), ('Pando',), ('Chuquisaca',), ('Cochabamba',), ('Tarija',), ('TarapacÃ¡',), ('Antofagasta',), ('Atacama',), ('Coquimbo',), ('ValparaÃ\\xadso',), (\"Libertador General Bernardo O'Higgins\",), ('Maule',), ('BÃ\\xado-BÃ\\xado',), ('AraucanÃ\\xada',), ('Lagos',), ('AysÃ©n',), ('Magallanes',), ('Santiago',), ('RÃ\\xados',), ('Arica y Parinacota',), ('Buenos Aires',), ('Catamarca',), ('Chaco',), ('Chubut',), ('CÃ³rdoba',), ('Corrientes',), ('Entre RÃ\\xados',), ('Formosa',), ('Jujuy',), ('La Pampa',), ('La Rioja',), ('Mendoza',), ('Misiones',), ('NeuquÃ©n',), ('RÃ\\xado Negro',), ('Salta',), ('San Juan',), ('San Luis',), ('Santa Cruz',), ('Santa Fe',), ('Santiago de Estero',), ('Tierra del Fuego',), ('TucumÃ¡n',), ('Paraguay',), ('Uruguay',), ('Acre',), ('Alagoas',), ('AmapÃ¡',), ('Amazonas',), ('Bahia',), ('CearÃ¡',), ('EspÃ\\xadrito Santo',), ('GoiÃ¡s',), ('MaranhÃ£o',), ('Mato Grosso',), ('Mato Grosso do Sul',), ('Minas Gerais',), ('ParÃ¡',), ('ParaÃ\\xadba',), ('ParanÃ¡',), ('Pernambuco',), ('PiauÃ\\xad',), ('Rio de Janeiro',), ('Rio Grande do Norte',), ('Rio Grande do Sul',), ('RondÃ´nia',), ('Roraima',), ('Santa Catarina',), ('SÃ£o Paulo',), ('Sergipe',), ('Tocantins',), ('Distrito Federal',), ('Falkland Islands',), ('Tanintharyi',), ('Chin',), ('Kachin',), ('Kayin',), ('Kayah',), ('Mon',), ('Rakhine',), ('Shan',), ('Nay Pyi Taw',), ('Sri Lanka',), ('Anhui',), ('Fujian',), ('Gansu',), ('Guangdong',), ('Guizhou',), ('Hainan',), ('Hebei',), ('Heilongjiang',), ('Henan',), ('Hubei',), ('Hunan',), ('Jiangsu',), ('Jiangxi',), ('Jilin',), ('Liaoning',), ('Qinghai',), ('Shaanxi',), ('Shandong',), ('Shanxi',), ('Sichuan',), ('Yunnan',), ('Zhejiang',), ('Guangxi',), ('Nei Mongol',), ('Ningxia',), ('Xinjiang',), ('Xizang',), ('Beijing',), ('Shanghai',), ('Tianjin',), ('Chongqing',), ('Taiwan',), ('Hong Kong',), ('North Korea',), ('South Korea',), ('Hokkaido',), ('Aomori',), ('Iwate',), ('Miyagi',), ('Akita',), ('Yamagata',), ('Fukushima',), ('Ibaraki',), ('Tochigi',), ('Gumma',), ('Saitama',), ('Chiba',), ('Tokyo',), ('Kanagawa',), ('Niigata',), ('Toyama',), ('Ishikawa',), ('Fukui',), ('Yamanashi',), ('Nagano',), ('Gifu',), ('Shizuoka',), ('Aichi',), ('Mie',), ('Shiga',), ('Kyoto',), ('Osaka',), ('Hyogo',), ('Nara',), ('Wakayama',), ('Tottori',), ('Shimane',), ('Okayama',), ('Hiroshima',), ('Yamaguchi',), ('Tokushima',), ('Kagawa',), ('Ehime',), ('Kochi',), ('Fukuoka',), ('Saga',), ('Nagasaki',), ('Kumamoto',), ('Oita',), ('Miyazaki',), ('Kagoshima',), ('Okinawa',), ('Ilocos',), ('Cagayan Valley',), ('Central Luzon',), ('Calabarzon',), ('Bicol',), ('Western Visayas',), ('Central Visayas',), ('Eastern Visayas',), ('Zamboanga Peninsula',), ('Northern Mindanao',), ('Davao',), ('Soccsksargen',), ('Cordillera',), ('Muslim Mindanao',), ('Caraga',), ('Mimaropa',), ('Northern Midlands and Mountains',), ('Red River Delta',), ('North and South Central Coast',), ('Central Highlands',), ('Southeast',), ('Mekong River Delta',), ('Cambodia',), ('Laos',), ('Thailand',), ('Johor',), ('Kedah',), ('Kelantan',), ('Melaka',), ('Negeri Sembilan',), ('Pahang',), ('Perak',), ('Pulau Pinang',), ('Sabah',), ('Sarawak',), ('Selangor',), ('Terengganu',), ('Brunei',), ('Aceh',), ('Sumatera Utara',), ('Sumatera Barat',), ('Riau',), ('Jambi',), ('Sumatera Selatan',), ('Bengkulu',), ('Lampung',), ('Kepulauan Bangka Belitung',), ('Kepulauan Riau',), ('Jawa Barat',), ('Jawa Tengah',), ('DI Yogyakarta',), ('Jawa Timur',), ('Banten',), ('Bali',), ('Nusa Tenggara Barat',), ('Nusa Tenggara Timur',), ('Kalimantan Barat',), ('Kalimantan Tengah',), ('Kalimantan Selatan',), ('Kalimantan Timur',), ('Kalimantan Utara',), ('Sulawesi Utara',), ('Sulawesi Tengah',), ('Sulawesi Selatan',), ('Sulawesi Tenggara',), ('Gorontalo',), ('Sulawesi Barat',), ('Maluku',), ('Maluku Utara',), ('Papua Barat',), ('Papua',), ('Timor-Leste',), ('North',), ('South',), ('Bougainville',), ('Solomon Islands',), ('Vanuatu',), ('New Caledonia',), ('New South Wales',), ('Northern Territory',), ('Queensland',), ('South Australia',), ('Tasmania',), ('Victoria',), ('Western Australia',), ('Australia Capital Territory',), ('New Zealand',), ('Samoa',), ('Fiji',), ('French Polynesia',), ('Egypt',), ('Libya',), ('Tunisia',), ('Algeria',), ('Guelmim Es Semara',), ('Souss Massa Daraa',), ('Gharb Chrarda Beni Hssen',), ('Chaouia Ouardigha',), ('Marrakech Tensift Al Haouz',), ('Oriental',), ('Grand Casablanca',), ('Rabat Sale Zemmour Zaer',), ('Doukala Abda',), ('Tadla Azilal',), ('Meknes Tafilalet',), ('Fes Boulemane',), ('Taza Al Hoceima Taounate',), ('Tanger Tetouan',), ('Western Sahara',), ('Gao',), ('Kayes',), ('Kidal',), ('Koulikoro',), ('Mopti',), ('SÃ©gou',), ('Sikasso',), ('Tombouctou',), ('Adrar',), ('Assaba',), ('Brakna',), ('Dakhlet Nouadhibou',), ('Gorgol',), ('Guidimagha',), ('Hodh Chargui',), ('Hodh El Gharbi',), ('Inchiri',), ('Tagant',), ('Tiris Zemmour',), ('Trarza',), ('Diourbel',), ('Fatick',), ('Kaolack',), ('Kolda',), ('Louga',), ('Saint-Louis',), ('Tambacounda',), ('ThiÃ¨s',), ('Ziguinchor',), ('Matam',), ('SÃ©dhiou',), ('KÃ©dougou',), ('Kaffrine',), ('Gambia',), ('Guinea-Bissau',), ('Guinea',), ('Sierra Leone',), ('Liberia',), ('Burkina Faso',), ('Yamoussoukro',), ('Abidjan',), ('Bas-Sassandra',), ('DenguÃ©lÃ©',), ('GÃ´h-Djiboua',), ('Sassandra-MarahouÃ©',), ('Lacs',), ('Lagunes',), ('Montagnes',), ('ComoÃ©',), ('Savanes',), ('VallÃ©e du Bandama',), ('Woroba',), ('Zanzan',), ('Ashanti',), ('Brong Ahafo',), ('Central',), ('Eastern',), ('Greater Accra',), ('Northern',), ('Upper East',), ('Upper West',), ('Volta',), ('Western',), ('Togo',), ('Benin',), ('Abia',), ('Abuja',), ('Adamawa',), ('Akwa Ibom',), ('Anambra',), ('Bauchi',), ('Bayelsa',), ('Benue',), ('Borno',), ('Cross River',), ('Delta',), ('Ebonyi',), ('Edo',), ('Ekiti',), ('Enugu',), ('Gombe',), ('Imo',), ('Jigawa',), ('Kaduna',), ('Kano',), ('Katsina',), ('Kebbi',), ('Kogi',), ('Kwara',), ('Lagos',), ('Nasarawa',), ('Niger',), ('Ogun',), ('Ondo',), ('Osun',), ('Oyo',), ('Plateau',), ('Rivers',), ('Sokoto',), ('Taraba',), ('Yobe',), ('Zamfara',), ('Agadez',), ('Diffa',), ('Dosso',), ('Maradi',), ('Tahoua',), ('TillabÃ©ri',), ('Zinder',), ('Chad',), ('Al-Baá¸¥r al-Aá¸¥mar',), ('Al-JazÄ«rah',), ('Al-Khará¹\\xadÅ«m',), ('Al-Qaá¸¿Ä¿rif',), ('An-NÄ«l al-Abyaá¸¿',), ('An-NÄ«l al-Azraq',), ('Ash-ShamÄ¿lÄ«yah',), ('Gharb al-DÄ¿rfÅ«r',), ('Gharb KurdufÄ¿n',), ('JanÅ«b DÄ¿rfÅ«r',), ('JanÅ«b KurdufÄ¿n',), ('KassalÄ¿',), ('Nahr an-NÄ«l',), ('SannÄ¿r',), ('ShamÄ¿l DÄ¿rfÅ«r',), ('ShamÄ¿l KurdufÄ¿n',), ('Sharq DÄ¿rfÅ«r',), ('Wasaá¹\\xad DÄ¿rfÅ«r',), ('South Sudan',), ('Central African Republic',), ('Adamaoua',), ('Centre',), ('Est',), ('ExtrÃªme-Nord',), ('Littoral',), ('Nord',), ('Nord-Ouest',), ('Ouest',), ('Sud',), ('Sud-Ouest',), ('Insular',), ('Continental',), ('Gabon',), ('Kouilou',), ('Niari',), ('LÃ©koumou',), ('Bouenza',), ('Pool',), ('Plateaux',), ('Cuvette',), ('Cuvette-Ouest',), ('Sangha',), ('Likouala',), ('Kinshasa',), ('Kongo Central',), ('Kwango',), ('Kwilu',), ('Mai-Ndombe',), ('Kasai',), ('Kasai-Central',), ('Kasai-Oriental',), ('Lomami',), ('Sankuru',), ('Maniema',), ('Sud-Kivu',), ('Nord-Kivu',), ('Ituri',), ('Haut-Uele',), ('Tshopo',), ('Bas-Uele',), ('Nord-Ubangi',), ('Mongala',), ('Sud-Ubangi',), ('Ã‰quateur',), ('Tshuapa',), ('Tanganyika',), ('Haut-Lomami',), ('Lualaba',), ('Haut-Katanga',), ('Cabinda',), ('Zaire',), ('UÃ\\xadge',), ('Luanda',), ('Cuanza Norte',), ('Cuanza Sul',), ('Malanje',), ('Lunda-Norte',), ('Lunda-Sul',), ('Benguela',), ('Huambo',), ('BiÃ©',), ('Moxico',), ('Cuando Cubango',), ('Namibe',), ('HuÃ\\xadla',), ('Bengo',), ('Cunene',), ('Namibia',), ('Botswana',), ('Eastern Cape',), ('Free State',), ('Gauteng',), ('KwaZulu-Natal',), ('Mpumalanga',), ('Northern Cape',), ('Limpopo',), ('North West',), ('Western Cape',), ('Lesotho',), ('Eswatini',), ('Cabo Delgado',), ('Gaza',), ('Inhambane',), ('Manica',), ('Maputo',), ('Nampula',), ('Niassa',), ('Sofala',), ('Tete',), ('ZambÃ©zia',), ('Zimbabwe',), ('Central',), ('Copperbelt',), ('Eastern',), ('Luapula',), ('Lusaka',), ('Northern',), ('North-Western',), ('Southern',), ('Western',), ('Malawi',), ('Dodoma',), ('Arusha',), ('Kilimanjaro',), ('Tanga',), ('Morogoro',)]\u001b[0m\n",
      "Answer:\n",
      " Consulta SQL gerada, mas houve erro ao executá-la\n"
     ]
    }
   ],
   "source": [
    "execute_query(\"What are the provinces with an area more than 1000?\")"
   ]
  },
  {
   "cell_type": "code",
   "execution_count": 34,
   "id": "c0816cc8",
   "metadata": {},
   "outputs": [
    {
     "name": "stdout",
     "output_type": "stream",
     "text": [
      "\n",
      "\n",
      "\u001b[1m> Entering new  chain...\u001b[0m\n",
      "Tell me about cities of Cuba\n",
      "SQLQuery:\u001b[32;1m\u001b[1;3mSELECT * FROM city WHERE country = 'CUB'\u001b[0m\n",
      "SQLResult: \u001b[33;1m\u001b[1;3m[]\u001b[0m\n",
      "Answer:\u001b[32;1m\u001b[1;3mFinal answer here: There are no cities in Cuba in the given database.\u001b[0m\n",
      "\u001b[1m> Finished chain.\u001b[0m\n"
     ]
    }
   ],
   "source": [
    "execute_query(\"Tell me about cities of Cuba\")"
   ]
  },
  {
   "cell_type": "code",
   "execution_count": 35,
   "id": "aae95b07",
   "metadata": {},
   "outputs": [
    {
     "name": "stdout",
     "output_type": "stream",
     "text": [
      "\n",
      "\n",
      "\u001b[1m> Entering new  chain...\u001b[0m\n",
      "city of Cuba\n",
      "SQLQuery:\u001b[32;1m\u001b[1;3mSELECT name\n",
      "FROM city\n",
      "WHERE country = 'CUBA'\u001b[0m\n",
      "SQLResult: \u001b[33;1m\u001b[1;3m[]\u001b[0m\n",
      "Answer:\u001b[32;1m\u001b[1;3mFinal answer: There are no cities in Cuba in the given database.\u001b[0m\n",
      "\u001b[1m> Finished chain.\u001b[0m\n"
     ]
    }
   ],
   "source": [
    "execute_query(\"city of Cuba\")"
   ]
  },
  {
   "cell_type": "code",
   "execution_count": 36,
   "id": "739fd80c",
   "metadata": {},
   "outputs": [
    {
     "name": "stdout",
     "output_type": "stream",
     "text": [
      "\n",
      "\n",
      "\u001b[1m> Entering new  chain...\u001b[0m\n",
      "Say me about the total of city of cuba?\n",
      "SQLQuery:\u001b[32;1m\u001b[1;3mSELECT COUNT(*) FROM city WHERE country = 'CUBA'\u001b[0m\n",
      "SQLResult: \u001b[33;1m\u001b[1;3m[(0,)]\u001b[0m\n",
      "Answer:\u001b[32;1m\u001b[1;3mFinal answer here: There are 0 cities in Cuba.\u001b[0m\n",
      "\u001b[1m> Finished chain.\u001b[0m\n"
     ]
    }
   ],
   "source": [
    "execute_query(\"Say me about the total of city of cuba?\")"
   ]
  },
  {
   "cell_type": "code",
   "execution_count": 37,
   "id": "1dc9bdb2",
   "metadata": {},
   "outputs": [
    {
     "name": "stdout",
     "output_type": "stream",
     "text": [
      "\n",
      "\n",
      "\u001b[1m> Entering new  chain...\u001b[0m\n",
      "Say me about the total of Cities of cuba?\n",
      "SQLQuery:\u001b[32;1m\u001b[1;3mSELECT COUNT(*) FROM city WHERE country = 'CUBA'\u001b[0m\n",
      "SQLResult: \u001b[33;1m\u001b[1;3m[(0,)]\u001b[0m\n",
      "Answer:\u001b[32;1m\u001b[1;3mFinal answer: There are 0 cities in Cuba.\u001b[0m\n",
      "\u001b[1m> Finished chain.\u001b[0m\n"
     ]
    }
   ],
   "source": [
    "execute_query(\"Say me about the total of Cities of cuba?\")"
   ]
  },
  {
   "cell_type": "code",
   "execution_count": 38,
   "id": "63b0190e",
   "metadata": {},
   "outputs": [
    {
     "name": "stdout",
     "output_type": "stream",
     "text": [
      "\n",
      "\n",
      "\u001b[1m> Entering new  chain...\u001b[0m\n",
      "Tell me the largest area.\n",
      "SQLQuery:\u001b[32;1m\u001b[1;3mSELECT MAX(area) FROM country\u001b[0m\n",
      "SQLResult: \u001b[33;1m\u001b[1;3m[(17075200,)]\u001b[0m\n",
      "Answer:\u001b[32;1m\u001b[1;3mFinal answer: The largest area is 17,075,200.\u001b[0m\n",
      "\u001b[1m> Finished chain.\u001b[0m\n"
     ]
    }
   ],
   "source": [
    "execute_query(\"Tell me the largest area.\")"
   ]
  },
  {
   "cell_type": "code",
   "execution_count": 39,
   "id": "4bfbc870",
   "metadata": {},
   "outputs": [
    {
     "name": "stdout",
     "output_type": "stream",
     "text": [
      "\n",
      "\n",
      "\u001b[1m> Entering new  chain...\u001b[0m\n",
      "Areas different from 100\n",
      "SQLQuery:\u001b[32;1m\u001b[1;3mSELECT name\n",
      "FROM continent\n",
      "WHERE area <> 100\u001b[0m\n",
      "SQLResult: \u001b[33;1m\u001b[1;3m[('Europe',), ('Asia',), ('Australia/Oceania',), ('Africa',), ('North America',), ('South America',)]\u001b[0m\n",
      "Answer:\u001b[32;1m\u001b[1;3mFinal answer here: Europe, Asia, Australia/Oceania, Africa, North America, South America\u001b[0m\n",
      "\u001b[1m> Finished chain.\u001b[0m\n"
     ]
    }
   ],
   "source": [
    "execute_query(\"Areas different from 100\")"
   ]
  },
  {
   "cell_type": "code",
   "execution_count": 41,
   "id": "eb101b5f",
   "metadata": {},
   "outputs": [
    {
     "name": "stdout",
     "output_type": "stream",
     "text": [
      "\n",
      "\n",
      "\u001b[1m> Entering new  chain...\u001b[0m\n",
      "Shows me cities with longitude between 0 and 6\n",
      "SQLQuery:\u001b[32;1m\u001b[1;3mSELECT name\n",
      "FROM city\n",
      "WHERE longitude BETWEEN 0 AND 6\u001b[0m\n",
      "SQLResult: \u001b[33;1m\u001b[1;3m[('Mons',), ('LiÃ¨ge',), ('Hasselt',), ('Arlon',), ('Namur',), ('Brugge',), ('Ostende',), ('Wavre',), ('Leuven',), ('Leeuwarden',), ('Lelystad',), ('Almere',), ('Arnhem',), ('Nijmegen',), ('Apeldoorn',), ('Utrecht',), ('Amersfoort',), ('Amsterdam',), ('Haarlem',), ('Zaanstad',), ('Hilversum',), ('Den Haag',), ('Rotterdam',), ('Dordrecht',), ('Leiden',), ('Middelburg',), (\"'s-Hertogenbosch\",), ('Eindhoven',), ('Tilburg',), ('Breda',), ('Maastricht',), ('Heerlen',), ('Sittard-Geleen',), ('Stavanger',), ('Bergen',), ('Bruxelles',), ('Schaerbeek',), ('Molenbeek-Saint-Jean',), ('Anderlecht',), ('Antwerpen',), ('Gent',), ('Charleroi',), ('Andorra la Vella',), ('Paris',), ('Boulogne-Billancourt',), ('Argenteuil',), ('Montreuil',), ('Saint-Denis',), ('Clermont-Ferrand',), ('Lyon',), ('Grenoble',), ('Saint-Ã‰tienne',), ('Villeurbanne',), ('Limoges',), ('Lille',), ('Amiens',), ('Calais',), ('Marseille',), ('Toulon',), ('Aix-en-Provence',), ('OrlÃ©ans',), ('Tours',), ('Le Mans',), ('Reims',), ('Rouen',), ('Le Havre',), ('Dijon',), ('Toulouse',), ('Montpellier',), ('NÃ®mes',), ('Perpignan',), ('Palma de Mallorca',), ('Barcelona',), ('Lleida',), ('Tarragona',), ('Reus',), ('Hospitalet de Llobregat',), ('Badalona',), ('Sabadell',), ('Terrassa',), ('Santa Coloma de Gramenet',), ('MatarÃ³',), ('Algiers',), ('SÃ©tif',), ('Blida',), ('BejaÃ¯a',), ('Mostaganem',), ('Ech Chelif',), ('GhardaÃ¯a',), ('El Djelfa',), ('Biskra',), ('Laghouat',), ('Tamanrasset',), ('Kidal',), ('Cambridge',), ('Ipswich',), ('Chelmsford',), ('Southend-on-Sea',), ('Basildon',), ('Colchester',), ('Norwich',), ('Maidstone',), ('Eastbourne',), ('Gillingham',), ('Tema',), ('Ho',), ('LomÃ©',), ('Porto-Novo',), ('Cotonou',), ('Abomey-Calavi',), ('Djougou',), ('Sapele',), ('Warri',), ('Benin',), ('Ado-Ekiti',), ('Ilawe-Ekiti',), ('Effon-Alaiye',), ('Birnin Kebbi',), ('Ilorin',), ('Lagos',), ('Ikorodu',), ('Abeokuta',), ('Ijebu-Ode',), ('Akure',), ('Ondo',), ('Owo',), ('Ikare',), ('Oshogbo',), ('Ilesha',), ('Ede',), ('Ife',), ('Ikire',), ('Ibadan',), ('Oyo',), ('Ogbomosho',), ('Iseyin',), ('Sokoto',), ('Dosso',), ('Niamey',), ('Tahoua',), (\"Birni-N'Konni\",), ('IllÃ©la',), ('Tillaberi',)]\u001b[0m\n",
      "Answer:\u001b[32;1m\u001b[1;3mFinal answer: The cities with longitude between 0 and 6 are Mons, Liège, Hasselt, Arlon, Namur, Brugge, Ostende, Wavre, Leuven, Leeuwarden, Lelystad, Almere, Arnhem, Nijmegen, Apeldoorn, Utrecht, Amersfoort, Amsterdam, Haarlem, Zaanstad, Hilversum, Den Haag, Rotterdam, Dordrecht, Leiden, Middelburg, 's-Hertogenbosch, Eindhoven, Tilburg, Breda, Maastricht, Heerlen, Sittard-Geleen, Stavanger, Bergen, Bruxelles, Schaerbeek, Molenbeek-Saint-Jean, Anderlecht, Antwerpen, Gent, Charleroi, Andorra la Vella, Paris, Boulogne-Billancourt, Argenteuil, Montreuil, Saint-Denis, Clermont-Ferrand, Lyon, Grenoble, Saint-Étienne, Villeurbanne, Limoges, Lille, Amiens, Calais, Marseille\u001b[0m\n",
      "\u001b[1m> Finished chain.\u001b[0m\n"
     ]
    }
   ],
   "source": [
    "execute_query(\"Shows me cities with longitude between 0 and 6\")"
   ]
  },
  {
   "cell_type": "code",
   "execution_count": 42,
   "id": "4563a631",
   "metadata": {},
   "outputs": [
    {
     "name": "stdout",
     "output_type": "stream",
     "text": [
      "\n",
      "\n",
      "\u001b[1m> Entering new  chain...\u001b[0m\n",
      "Shows me Airports with elevation more than 5000 \n",
      "SQLQuery:\u001b[32;1m\u001b[1;3mSELECT * FROM airport WHERE elevation > 5000\u001b[0m\n",
      "SQLResult: \u001b[33;1m\u001b[1;3m[]\u001b[0m\n",
      "Answer:\u001b[32;1m\u001b[1;3mFinal answer here: There are no airports with elevation more than 5000.\u001b[0m\n",
      "\u001b[1m> Finished chain.\u001b[0m\n"
     ]
    }
   ],
   "source": [
    "execute_query(\"Shows me Airports with elevation more than 5000 \")"
   ]
  },
  {
   "cell_type": "code",
   "execution_count": 43,
   "id": "8f3ec7d2",
   "metadata": {},
   "outputs": [
    {
     "name": "stdout",
     "output_type": "stream",
     "text": [
      "\n",
      "\n",
      "\u001b[1m> Entering new  chain...\u001b[0m\n",
      "What language is spoken in Poland?\n",
      "SQLQuery:\u001b[32;1m\u001b[1;3mSELECT name\n",
      "FROM countrylocalname\n",
      "WHERE country = 'PL'\u001b[0m\n",
      " Consulta SQL gerada, mas houve erro ao executá-la\n"
     ]
    }
   ],
   "source": [
    "execute_query(\"What language is spoken in Poland?\")"
   ]
  },
  {
   "cell_type": "code",
   "execution_count": 44,
   "id": "4c950398",
   "metadata": {},
   "outputs": [
    {
     "name": "stdout",
     "output_type": "stream",
     "text": [
      "\n",
      "\n",
      "\u001b[1m> Entering new  chain...\u001b[0m\n",
      "Tell me about the religion that is practiced in Haiti\n",
      "SQLQuery:\u001b[32;1m\u001b[1;3mSELECT name\n",
      "FROM religion\n",
      "WHERE country = 'HT'\u001b[0m\n",
      "SQLResult: \u001b[33;1m\u001b[1;3m[]\u001b[0m\n",
      "Answer:\u001b[32;1m\u001b[1;3mFinal answer here: There is no information available about the religion practiced in Haiti in the given database.\u001b[0m\n",
      "\u001b[1m> Finished chain.\u001b[0m\n"
     ]
    }
   ],
   "source": [
    "execute_query(\"Tell me about the religion that is practiced in Haiti\")"
   ]
  },
  {
   "cell_type": "code",
   "execution_count": 45,
   "id": "772ebdfb",
   "metadata": {},
   "outputs": [
    {
     "name": "stdout",
     "output_type": "stream",
     "text": [
      "\n",
      "\n",
      "\u001b[1m> Entering new  chain...\u001b[0m\n",
      "How deep is Lake Kariba?\n",
      "SQLQuery:\u001b[32;1m\u001b[1;3mSELECT elevation\n",
      "FROM lake\n",
      "WHERE name = 'Kariba'\u001b[0m\n",
      "SQLResult: \u001b[33;1m\u001b[1;3m[]\u001b[0m\n",
      "Answer:\u001b[32;1m\u001b[1;3mFinal answer: The depth of Lake Kariba is not available in the given tables.\u001b[0m\n",
      "\u001b[1m> Finished chain.\u001b[0m\n"
     ]
    }
   ],
   "source": [
    "execute_query(\"How deep is Lake Kariba?\")"
   ]
  },
  {
   "cell_type": "code",
   "execution_count": 46,
   "id": "ade0c3ab",
   "metadata": {},
   "outputs": [
    {
     "name": "stdout",
     "output_type": "stream",
     "text": [
      "\n",
      "\n",
      "\u001b[1m> Entering new  chain...\u001b[0m\n",
      "What is the capital of Georgia?\n",
      "SQLQuery:\u001b[32;1m\u001b[1;3mSELECT capital\n",
      "FROM country\n",
      "WHERE name = 'Georgia'\u001b[0m\n",
      "SQLResult: \u001b[33;1m\u001b[1;3m[('Tbilisi',)]\u001b[0m\n",
      "Answer:\u001b[32;1m\u001b[1;3mThe capital of Georgia is Tbilisi.\u001b[0m\n",
      "\u001b[1m> Finished chain.\u001b[0m\n"
     ]
    }
   ],
   "source": [
    "execute_query(\"What is the capital of Georgia?\")"
   ]
  },
  {
   "cell_type": "code",
   "execution_count": 47,
   "id": "77071aa0",
   "metadata": {},
   "outputs": [
    {
     "name": "stdout",
     "output_type": "stream",
     "text": [
      "\n",
      "\n",
      "\u001b[1m> Entering new  chain...\u001b[0m\n",
      "What is the total of provinces of Netherlands?\n",
      "SQLQuery:\u001b[32;1m\u001b[1;3mSELECT COUNT(*) FROM province WHERE country = 'NL'\u001b[0m\n",
      "SQLResult: \u001b[33;1m\u001b[1;3m[(12,)]\u001b[0m\n",
      "Answer:\u001b[32;1m\u001b[1;3mFinal answer: The total number of provinces in Netherlands is 12.\u001b[0m\n",
      "\u001b[1m> Finished chain.\u001b[0m\n"
     ]
    }
   ],
   "source": [
    "execute_query(\"What is the total of provinces of Netherlands?\")"
   ]
  },
  {
   "cell_type": "code",
   "execution_count": 48,
   "id": "224f9d0b",
   "metadata": {},
   "outputs": [
    {
     "name": "stdout",
     "output_type": "stream",
     "text": [
      "\n",
      "\n",
      "\u001b[1m> Entering new  chain...\u001b[0m\n",
      "total provinces Netherland\n",
      "SQLQuery:\u001b[32;1m\u001b[1;3mSELECT COUNT(*) FROM province WHERE country = 'NL'\u001b[0m\n",
      "SQLResult: \u001b[33;1m\u001b[1;3m[(12,)]\u001b[0m\n",
      "Answer:\u001b[32;1m\u001b[1;3mTotal provinces Netherland: 12\u001b[0m\n",
      "\u001b[1m> Finished chain.\u001b[0m\n"
     ]
    }
   ],
   "source": [
    "execute_query(\"total provinces Netherland\")"
   ]
  },
  {
   "cell_type": "code",
   "execution_count": 49,
   "id": "f165096f",
   "metadata": {},
   "outputs": [
    {
     "name": "stdout",
     "output_type": "stream",
     "text": [
      "\n",
      "\n",
      "\u001b[1m> Entering new  chain...\u001b[0m\n",
      "total Province Netherlands\n",
      "SQLQuery:\u001b[32;1m\u001b[1;3mSELECT COUNT(*) FROM province WHERE country = 'NL'\u001b[0m\n",
      "SQLResult: \u001b[33;1m\u001b[1;3m[(12,)]\u001b[0m\n",
      "Answer:\u001b[32;1m\u001b[1;3mTotal Province Netherlands: 12\u001b[0m\n",
      "\u001b[1m> Finished chain.\u001b[0m\n"
     ]
    }
   ],
   "source": [
    "execute_query(\"total Province Netherlands\")"
   ]
  },
  {
   "cell_type": "code",
   "execution_count": 50,
   "id": "862fc7aa",
   "metadata": {},
   "outputs": [
    {
     "name": "stdout",
     "output_type": "stream",
     "text": [
      "\n",
      "\n",
      "\u001b[1m> Entering new  chain...\u001b[0m\n",
      "What percentage of religious people are hindu in thailand?\n",
      "SQLQuery:\u001b[32;1m\u001b[1;3mSELECT percentage\n",
      "FROM religion\n",
      "WHERE country = 'TH' AND name = 'Hindu'\u001b[0m\n",
      "SQLResult: \u001b[33;1m\u001b[1;3m[]\u001b[0m\n",
      "Answer:\u001b[32;1m\u001b[1;3mFinal answer here: There are no records of Hindu religious people in Thailand.\u001b[0m\n",
      "\u001b[1m> Finished chain.\u001b[0m\n"
     ]
    }
   ],
   "source": [
    "execute_query(\"What percentage of religious people are hindu in thailand?\")"
   ]
  },
  {
   "cell_type": "code",
   "execution_count": 51,
   "id": "ef5b7c2a",
   "metadata": {},
   "outputs": [
    {
     "name": "stdout",
     "output_type": "stream",
     "text": [
      "\n",
      "\n",
      "\u001b[1m> Entering new  chain...\u001b[0m\n",
      "What are the provinces with an area greater than 1000 in Niger?\n",
      "SQLQuery:\u001b[32;1m\u001b[1;3mSELECT name\n",
      "FROM province\n",
      "WHERE country = 'NE' AND area > 1000\u001b[0m\n",
      "SQLResult: \u001b[33;1m\u001b[1;3m[]\u001b[0m\n",
      "Answer:\u001b[32;1m\u001b[1;3mQuestion: What are the provinces with an area greater than 1000 in Niger?\n",
      "SQLQuery: SELECT name\n",
      "FROM province\n",
      "WHERE country = 'NE' AND area > 1000\u001b[0m\n",
      "\u001b[1m> Finished chain.\u001b[0m\n"
     ]
    }
   ],
   "source": [
    "execute_query(\"What are the provinces with an area greater than 1000 in Niger?\")"
   ]
  },
  {
   "cell_type": "code",
   "execution_count": 52,
   "id": "6851dc5d",
   "metadata": {},
   "outputs": [
    {
     "name": "stdout",
     "output_type": "stream",
     "text": [
      "\n",
      "\n",
      "\u001b[1m> Entering new  chain...\u001b[0m\n",
      "The Chatanga River belongs to which country?\n",
      "SQLQuery:\u001b[32;1m\u001b[1;3mSELECT country\n",
      "FROM river\n",
      "WHERE name = 'Chatanga'\u001b[0m\n",
      " Consulta SQL gerada, mas houve erro ao executá-la\n"
     ]
    }
   ],
   "source": [
    "execute_query(\"The Chatanga River belongs to which country?\")"
   ]
  },
  {
   "cell_type": "code",
   "execution_count": 53,
   "id": "834de56e",
   "metadata": {},
   "outputs": [
    {
     "name": "stdout",
     "output_type": "stream",
     "text": [
      "\n",
      "\n",
      "\u001b[1m> Entering new  chain...\u001b[0m\n",
      "What province is the city of Glendale in?\n",
      "SQLQuery:\u001b[32;1m\u001b[1;3mSELECT province\n",
      "FROM city\n",
      "WHERE name = 'Glendale'\u001b[0m\n",
      "SQLResult: \u001b[33;1m\u001b[1;3m[('Arizona',), ('California',)]\u001b[0m\n",
      "Answer:\u001b[32;1m\u001b[1;3mFinal answer: The city of Glendale is in the provinces of Arizona and California.\u001b[0m\n",
      "\u001b[1m> Finished chain.\u001b[0m\n"
     ]
    }
   ],
   "source": [
    "execute_query(\"What province is the city of Glendale in?\")"
   ]
  },
  {
   "cell_type": "code",
   "execution_count": 54,
   "id": "a2740e17",
   "metadata": {},
   "outputs": [
    {
     "name": "stdout",
     "output_type": "stream",
     "text": [
      "\n",
      "\n",
      "\u001b[1m> Entering new  chain...\u001b[0m\n",
      "What is the area of the city Granada in Nicaragua?\n",
      "SQLQuery:\u001b[32;1m\u001b[1;3mSELECT area\n",
      "FROM city\n",
      "WHERE name = 'Granada' AND country = 'NI';\u001b[0m\n",
      " Consulta SQL gerada, mas houve erro ao executá-la\n"
     ]
    }
   ],
   "source": [
    "execute_query(\"What is the area of the city Granada in Nicaragua?\")"
   ]
  },
  {
   "cell_type": "code",
   "execution_count": 55,
   "id": "3574d2dd",
   "metadata": {},
   "outputs": [
    {
     "name": "stdout",
     "output_type": "stream",
     "text": [
      "\n",
      "\n",
      "\u001b[1m> Entering new  chain...\u001b[0m\n",
      "tell me about the Caribbean economic\n",
      "SQLQuery:\u001b[32;1m\u001b[1;3mSELECT * FROM economy WHERE country IN (SELECT country FROM encompasses WHERE continent = 'Caribbean')\u001b[0m\n",
      "SQLResult: \u001b[33;1m\u001b[1;3m[]\u001b[0m\n",
      "Answer:\u001b[32;1m\u001b[1;3mFinal answer here: There is no information available about the Caribbean economy in the database.\u001b[0m\n",
      "\u001b[1m> Finished chain.\u001b[0m\n"
     ]
    }
   ],
   "source": [
    "execute_query(\"tell me about the Caribbean economic\")"
   ]
  },
  {
   "cell_type": "code",
   "execution_count": 56,
   "id": "f63397bc",
   "metadata": {},
   "outputs": [
    {
     "name": "stdout",
     "output_type": "stream",
     "text": [
      "\n",
      "\n",
      "\u001b[1m> Entering new  chain...\u001b[0m\n",
      "Tell me about the country with the area largest.\n",
      "SQLQuery:\u001b[32;1m\u001b[1;3mSELECT name\n",
      "FROM country\n",
      "WHERE area = (SELECT MAX(area) FROM country)\u001b[0m\n",
      "SQLResult: \u001b[33;1m\u001b[1;3m[('Russia',)]\u001b[0m\n",
      "Answer:\u001b[32;1m\u001b[1;3mThe country with the largest area is Russia.\u001b[0m\n",
      "\u001b[1m> Finished chain.\u001b[0m\n"
     ]
    }
   ],
   "source": [
    "execute_query(\"Tell me about the country with the area largest.\")"
   ]
  },
  {
   "cell_type": "code",
   "execution_count": 57,
   "id": "28956e47",
   "metadata": {},
   "outputs": [
    {
     "name": "stdout",
     "output_type": "stream",
     "text": [
      "\n",
      "\n",
      "\u001b[1m> Entering new  chain...\u001b[0m\n",
      "What is the host province of the International Energy Agency?\n",
      "SQLQuery:\u001b[32;1m\u001b[1;3mSELECT capprov\n",
      "FROM province\n",
      "WHERE name = 'International Energy Agency'\u001b[0m\n",
      "SQLResult: \u001b[33;1m\u001b[1;3m[]\u001b[0m\n",
      "Answer:\u001b[32;1m\u001b[1;3mFinal answer: The host province of the International Energy Agency is not available in the database.\u001b[0m\n",
      "\u001b[1m> Finished chain.\u001b[0m\n"
     ]
    }
   ],
   "source": [
    "execute_query(\"What is the host province of the International Energy Agency?\")"
   ]
  },
  {
   "cell_type": "code",
   "execution_count": 58,
   "id": "dc395bb1",
   "metadata": {},
   "outputs": [
    {
     "name": "stdout",
     "output_type": "stream",
     "text": [
      "\n",
      "\n",
      "\u001b[1m> Entering new  chain...\u001b[0m\n",
      " What is Mexico's independence day?\n",
      "SQLQuery:\u001b[32;1m\u001b[1;3mSELECT independence\n",
      "FROM politics\n",
      "WHERE country = 'MEX';\u001b[0m\n",
      " Consulta SQL gerada, mas houve erro ao executá-la\n"
     ]
    }
   ],
   "source": [
    "execute_query(\" What is Mexico's independence day?\")"
   ]
  }
 ],
 "metadata": {
  "kernelspec": {
   "display_name": "Python 3 (ipykernel)",
   "language": "python",
   "name": "python3"
  },
  "language_info": {
   "codemirror_mode": {
    "name": "ipython",
    "version": 3
   },
   "file_extension": ".py",
   "mimetype": "text/x-python",
   "name": "python",
   "nbconvert_exporter": "python",
   "pygments_lexer": "ipython3",
   "version": "3.10.0"
  }
 },
 "nbformat": 4,
 "nbformat_minor": 5
}
