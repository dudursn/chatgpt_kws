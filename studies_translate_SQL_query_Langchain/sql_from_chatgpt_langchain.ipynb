{
 "cells": [
  {
   "cell_type": "code",
   "execution_count": 11,
   "id": "897fd8fd-9d78-412c-9d90-229a0dccc9f9",
   "metadata": {
    "tags": []
   },
   "outputs": [
    {
     "data": {
      "text/plain": [
       "True"
      ]
     },
     "execution_count": 11,
     "metadata": {},
     "output_type": "execute_result"
    }
   ],
   "source": [
    "from langchain.sql_database import SQLDatabase\n",
    "from langchain.chat_models import ChatOpenAI\n",
    "from langchain import SQLDatabaseChain\n",
    "from urllib.parse import quote  \n",
    "from sqlalchemy import create_engine, select, Table, MetaData, Column, String\n",
    "from dotenv import load_dotenv\n",
    "import os\n",
    "\n",
    "load_dotenv()"
   ]
  },
  {
   "cell_type": "markdown",
   "id": "7c0d099f",
   "metadata": {},
   "source": [
    "# Generating SQL query equivalent to query in natural language through ChatGPT with the help of Langchain\n",
    "\n",
    "langchain automates the process of creating a prompt for a database schema. To answer queries against an SQL database, the langchain uses the SQLDatabaseChain, whose main task is to provide GPT with information from custom databases."
   ]
  },
  {
   "cell_type": "markdown",
   "id": "d3dceba9",
   "metadata": {},
   "source": [
    "### Conectando ao Oracle Database\n",
    "\n",
    "https://analytix.nl/post/querying-complex-database-schemas-with-gpt-and-langchain/\n",
    "https://python.langchain.com/docs/modules/chains/popular/sqlite\n",
    "https://python.langchain.com/docs/modules/agents/toolkits/sql_database\n"
   ]
  },
  {
   "cell_type": "code",
   "execution_count": 13,
   "id": "bfed0447-0ae7-40bf-8884-4f48ce7981e6",
   "metadata": {
    "tags": []
   },
   "outputs": [
    {
     "name": "stdout",
     "output_type": "stream",
     "text": [
      "oracle+oracledb://mondial_sql:mondial_sql@(DESCRIPTION=(ADDRESS=(PROTOCOL=TCP)(HOST=beatriz.tecgraf.puc-rio.br)(PORT=1521))(CONNECT_DATA=(SERVICE_NAME=orcl.tecgraf.puc-rio.br)))\n"
     ]
    }
   ],
   "source": [
    "username = str(os.getenv('DB_USER_NAME'))\n",
    "passwd = str(os.getenv('DB_PASS'))\n",
    "hostname = str(os.getenv('DB_HOST'))\n",
    "port = str(os.getenv('DB_PORT'))\n",
    "database = str(os.getenv('DB_NAME'))\n",
    "sqldriver = str(os.getenv('SQL_DRIVER'))\n",
    "servicename = str(os.getenv('SERVICE_NAME'))\n",
    "\n",
    "\n",
    "# dsn = \"\"\"(DESCRIPTION=(ADDRESS=(PROTOCOL=TCP)(HOST={hostname})\n",
    "#     (PORT={port}))(CONNECT_DATA=(SERVER=DEDICATED)(SERVICE_NAME={servicename})))\"\"\"\n",
    "    \n",
    "import cx_Oracle\n",
    "dsnStr = cx_Oracle.makedsn(host = hostname, port = port, service_name = servicename).replace(\"SID\", \"SERVICE_NAME\")\n",
    "    \n",
    "uri = \"{}://{}:{}@{}\".format(sqldriver, username, quote(passwd), dsnStr)\n",
    "print(uri)\n",
    "db = SQLDatabase.from_uri(uri)"
   ]
  },
  {
   "cell_type": "markdown",
   "id": "b6584a19",
   "metadata": {},
   "source": [
    "Testando a conexão"
   ]
  },
  {
   "cell_type": "code",
   "execution_count": 3,
   "id": "01106c13",
   "metadata": {},
   "outputs": [
    {
     "name": "stderr",
     "output_type": "stream",
     "text": [
      "c:\\Users\\wendyzv\\AppData\\Local\\Programs\\Python\\Python310\\lib\\site-packages\\langchain\\sql_database.py:279: UserWarning: This method is deprecated - please use `get_usable_table_names`.\n",
      "  warnings.warn(\n"
     ]
    },
    {
     "data": {
      "text/plain": [
       "['airport',\n",
       " 'borders',\n",
       " 'city',\n",
       " 'citylocalname',\n",
       " 'cityothername',\n",
       " 'citypops',\n",
       " 'continent',\n",
       " 'country',\n",
       " 'countrylocalname',\n",
       " 'countryothername',\n",
       " 'countrypops',\n",
       " 'desert',\n",
       " 'dr$i_mondial_tmdc_test$i',\n",
       " 'dr$i_mondial_tmdc_test$k',\n",
       " 'dr$i_mondial_tmdc_test$n',\n",
       " 'dr$i_mondial_tmdc_test$r',\n",
       " 'dr$i_mondial_tmdc_test$u',\n",
       " 'dr$i_mondial_tmdp_test$i',\n",
       " 'dr$i_mondial_tmdp_test$k',\n",
       " 'dr$i_mondial_tmdp_test$n',\n",
       " 'dr$i_mondial_tmdp_test$r',\n",
       " 'dr$i_mondial_tmdp_test$u',\n",
       " 'dr$i_mondial_tpv_test$i',\n",
       " 'dr$i_mondial_tpv_test$k',\n",
       " 'dr$i_mondial_tpv_test$n',\n",
       " 'dr$i_mondial_tpv_test$r',\n",
       " 'dr$i_mondial_tpv_test$u',\n",
       " 'dr$idx_ctx_00d49b9c00d8b7c23$i',\n",
       " 'dr$idx_ctx_00d49b9c00d8b7c23$k',\n",
       " 'dr$idx_ctx_00d49b9c00d8b7c23$n',\n",
       " 'dr$idx_ctx_00d49b9c00d8b7c23$r',\n",
       " 'dr$idx_ctx_00d49b9c00d8b7c23$u',\n",
       " 'dr$idx_ctx_011be7ab6d6a4a465$i',\n",
       " 'dr$idx_ctx_011be7ab6d6a4a465$k',\n",
       " 'dr$idx_ctx_011be7ab6d6a4a465$n',\n",
       " 'dr$idx_ctx_011be7ab6d6a4a465$r',\n",
       " 'dr$idx_ctx_011be7ab6d6a4a465$u',\n",
       " 'dr$idx_ctx_0dea24ec14ddda69e$i',\n",
       " 'dr$idx_ctx_0dea24ec14ddda69e$k',\n",
       " 'dr$idx_ctx_0dea24ec14ddda69e$n',\n",
       " 'dr$idx_ctx_0dea24ec14ddda69e$r',\n",
       " 'dr$idx_ctx_0dea24ec14ddda69e$u',\n",
       " 'dr$idx_ctx_16de3e45ae84da61e$i',\n",
       " 'dr$idx_ctx_16de3e45ae84da61e$k',\n",
       " 'dr$idx_ctx_16de3e45ae84da61e$n',\n",
       " 'dr$idx_ctx_16de3e45ae84da61e$r',\n",
       " 'dr$idx_ctx_16de3e45ae84da61e$u',\n",
       " 'dr$idx_ctx_2a559a3e91ab5d965$i',\n",
       " 'dr$idx_ctx_2a559a3e91ab5d965$k',\n",
       " 'dr$idx_ctx_2a559a3e91ab5d965$n',\n",
       " 'dr$idx_ctx_2a559a3e91ab5d965$r',\n",
       " 'dr$idx_ctx_2a559a3e91ab5d965$u',\n",
       " 'dr$idx_ctx_2eeb2cb726d535942$i',\n",
       " 'dr$idx_ctx_2eeb2cb726d535942$k',\n",
       " 'dr$idx_ctx_2eeb2cb726d535942$n',\n",
       " 'dr$idx_ctx_2eeb2cb726d535942$r',\n",
       " 'dr$idx_ctx_2eeb2cb726d535942$u',\n",
       " 'dr$idx_ctx_306eb6de01f8c7434$i',\n",
       " 'dr$idx_ctx_306eb6de01f8c7434$k',\n",
       " 'dr$idx_ctx_306eb6de01f8c7434$n',\n",
       " 'dr$idx_ctx_306eb6de01f8c7434$r',\n",
       " 'dr$idx_ctx_306eb6de01f8c7434$u',\n",
       " 'dr$idx_ctx_3485bc6623f0f4747$i',\n",
       " 'dr$idx_ctx_3485bc6623f0f4747$k',\n",
       " 'dr$idx_ctx_3485bc6623f0f4747$n',\n",
       " 'dr$idx_ctx_3485bc6623f0f4747$r',\n",
       " 'dr$idx_ctx_3485bc6623f0f4747$u',\n",
       " 'dr$idx_ctx_34a7c8fd5189c2da7$i',\n",
       " 'dr$idx_ctx_34a7c8fd5189c2da7$k',\n",
       " 'dr$idx_ctx_34a7c8fd5189c2da7$n',\n",
       " 'dr$idx_ctx_34a7c8fd5189c2da7$r',\n",
       " 'dr$idx_ctx_34a7c8fd5189c2da7$u',\n",
       " 'dr$idx_ctx_3df65f0889da6f2e2$i',\n",
       " 'dr$idx_ctx_3df65f0889da6f2e2$k',\n",
       " 'dr$idx_ctx_3df65f0889da6f2e2$n',\n",
       " 'dr$idx_ctx_3df65f0889da6f2e2$r',\n",
       " 'dr$idx_ctx_3df65f0889da6f2e2$u',\n",
       " 'dr$idx_ctx_42f66382a61321909$i',\n",
       " 'dr$idx_ctx_42f66382a61321909$k',\n",
       " 'dr$idx_ctx_42f66382a61321909$n',\n",
       " 'dr$idx_ctx_42f66382a61321909$r',\n",
       " 'dr$idx_ctx_42f66382a61321909$u',\n",
       " 'dr$idx_ctx_473edc653a1ab3203$i',\n",
       " 'dr$idx_ctx_473edc653a1ab3203$k',\n",
       " 'dr$idx_ctx_473edc653a1ab3203$n',\n",
       " 'dr$idx_ctx_473edc653a1ab3203$r',\n",
       " 'dr$idx_ctx_473edc653a1ab3203$u',\n",
       " 'dr$idx_ctx_517870205954235ac$i',\n",
       " 'dr$idx_ctx_517870205954235ac$k',\n",
       " 'dr$idx_ctx_517870205954235ac$n',\n",
       " 'dr$idx_ctx_517870205954235ac$r',\n",
       " 'dr$idx_ctx_517870205954235ac$u',\n",
       " 'dr$idx_ctx_552f852ebb54f3aa8$i',\n",
       " 'dr$idx_ctx_552f852ebb54f3aa8$k',\n",
       " 'dr$idx_ctx_552f852ebb54f3aa8$n',\n",
       " 'dr$idx_ctx_552f852ebb54f3aa8$r',\n",
       " 'dr$idx_ctx_552f852ebb54f3aa8$u',\n",
       " 'dr$idx_ctx_61acd2295cf6f7538$i',\n",
       " 'dr$idx_ctx_61acd2295cf6f7538$k',\n",
       " 'dr$idx_ctx_61acd2295cf6f7538$n',\n",
       " 'dr$idx_ctx_61acd2295cf6f7538$r',\n",
       " 'dr$idx_ctx_61acd2295cf6f7538$u',\n",
       " 'dr$idx_ctx_63c649fc0ad8d2845$i',\n",
       " 'dr$idx_ctx_63c649fc0ad8d2845$k',\n",
       " 'dr$idx_ctx_63c649fc0ad8d2845$n',\n",
       " 'dr$idx_ctx_63c649fc0ad8d2845$r',\n",
       " 'dr$idx_ctx_63c649fc0ad8d2845$u',\n",
       " 'dr$idx_ctx_6743aaeb10890870c$i',\n",
       " 'dr$idx_ctx_6743aaeb10890870c$k',\n",
       " 'dr$idx_ctx_6743aaeb10890870c$n',\n",
       " 'dr$idx_ctx_6743aaeb10890870c$r',\n",
       " 'dr$idx_ctx_6743aaeb10890870c$u',\n",
       " 'dr$idx_ctx_71a2614c4461d71b1$i',\n",
       " 'dr$idx_ctx_71a2614c4461d71b1$k',\n",
       " 'dr$idx_ctx_71a2614c4461d71b1$n',\n",
       " 'dr$idx_ctx_71a2614c4461d71b1$r',\n",
       " 'dr$idx_ctx_71a2614c4461d71b1$u',\n",
       " 'dr$idx_ctx_7a85a26004f2d8d36$i',\n",
       " 'dr$idx_ctx_7a85a26004f2d8d36$k',\n",
       " 'dr$idx_ctx_7a85a26004f2d8d36$n',\n",
       " 'dr$idx_ctx_7a85a26004f2d8d36$r',\n",
       " 'dr$idx_ctx_7a85a26004f2d8d36$u',\n",
       " 'dr$idx_ctx_8e614645364f2c024$i',\n",
       " 'dr$idx_ctx_8e614645364f2c024$k',\n",
       " 'dr$idx_ctx_8e614645364f2c024$n',\n",
       " 'dr$idx_ctx_8e614645364f2c024$r',\n",
       " 'dr$idx_ctx_8e614645364f2c024$u',\n",
       " 'dr$idx_ctx_92a036ecb8679e570$i',\n",
       " 'dr$idx_ctx_92a036ecb8679e570$k',\n",
       " 'dr$idx_ctx_92a036ecb8679e570$n',\n",
       " 'dr$idx_ctx_92a036ecb8679e570$r',\n",
       " 'dr$idx_ctx_92a036ecb8679e570$u',\n",
       " 'dr$idx_ctx_a4555f60391389747$i',\n",
       " 'dr$idx_ctx_a4555f60391389747$k',\n",
       " 'dr$idx_ctx_a4555f60391389747$n',\n",
       " 'dr$idx_ctx_a4555f60391389747$r',\n",
       " 'dr$idx_ctx_a4555f60391389747$u',\n",
       " 'dr$idx_ctx_abcaec9523ffddbfb$i',\n",
       " 'dr$idx_ctx_abcaec9523ffddbfb$k',\n",
       " 'dr$idx_ctx_abcaec9523ffddbfb$n',\n",
       " 'dr$idx_ctx_abcaec9523ffddbfb$r',\n",
       " 'dr$idx_ctx_abcaec9523ffddbfb$u',\n",
       " 'dr$idx_ctx_ae3209f7ca8808255$i',\n",
       " 'dr$idx_ctx_ae3209f7ca8808255$k',\n",
       " 'dr$idx_ctx_ae3209f7ca8808255$n',\n",
       " 'dr$idx_ctx_ae3209f7ca8808255$r',\n",
       " 'dr$idx_ctx_ae3209f7ca8808255$u',\n",
       " 'dr$idx_ctx_b7d5ad8e07d2c056d$i',\n",
       " 'dr$idx_ctx_b7d5ad8e07d2c056d$k',\n",
       " 'dr$idx_ctx_b7d5ad8e07d2c056d$n',\n",
       " 'dr$idx_ctx_b7d5ad8e07d2c056d$r',\n",
       " 'dr$idx_ctx_b7d5ad8e07d2c056d$u',\n",
       " 'dr$idx_ctx_bc42eb74b61c92ffd$i',\n",
       " 'dr$idx_ctx_bc42eb74b61c92ffd$k',\n",
       " 'dr$idx_ctx_bc42eb74b61c92ffd$n',\n",
       " 'dr$idx_ctx_bc42eb74b61c92ffd$r',\n",
       " 'dr$idx_ctx_bc42eb74b61c92ffd$u',\n",
       " 'dr$idx_ctx_cbf46eae7a6a2ec38$i',\n",
       " 'dr$idx_ctx_cbf46eae7a6a2ec38$k',\n",
       " 'dr$idx_ctx_cbf46eae7a6a2ec38$n',\n",
       " 'dr$idx_ctx_cbf46eae7a6a2ec38$r',\n",
       " 'dr$idx_ctx_cbf46eae7a6a2ec38$u',\n",
       " 'dr$idx_ctx_cce80a81faeb83e70$i',\n",
       " 'dr$idx_ctx_cce80a81faeb83e70$k',\n",
       " 'dr$idx_ctx_cce80a81faeb83e70$n',\n",
       " 'dr$idx_ctx_cce80a81faeb83e70$r',\n",
       " 'dr$idx_ctx_cce80a81faeb83e70$u',\n",
       " 'dr$idx_ctx_cfc1a7c55a3d49799$i',\n",
       " 'dr$idx_ctx_cfc1a7c55a3d49799$k',\n",
       " 'dr$idx_ctx_cfc1a7c55a3d49799$n',\n",
       " 'dr$idx_ctx_cfc1a7c55a3d49799$r',\n",
       " 'dr$idx_ctx_cfc1a7c55a3d49799$u',\n",
       " 'dr$idx_ctx_d523b7949dc621e85$i',\n",
       " 'dr$idx_ctx_d523b7949dc621e85$k',\n",
       " 'dr$idx_ctx_d523b7949dc621e85$n',\n",
       " 'dr$idx_ctx_d523b7949dc621e85$r',\n",
       " 'dr$idx_ctx_d523b7949dc621e85$u',\n",
       " 'dr$idx_ctx_de87c06551a333119$i',\n",
       " 'dr$idx_ctx_de87c06551a333119$k',\n",
       " 'dr$idx_ctx_de87c06551a333119$n',\n",
       " 'dr$idx_ctx_de87c06551a333119$r',\n",
       " 'dr$idx_ctx_de87c06551a333119$u',\n",
       " 'dr$idx_ctx_e5f9ea73d2060cc06$i',\n",
       " 'dr$idx_ctx_e5f9ea73d2060cc06$k',\n",
       " 'dr$idx_ctx_e5f9ea73d2060cc06$n',\n",
       " 'dr$idx_ctx_e5f9ea73d2060cc06$r',\n",
       " 'dr$idx_ctx_e5f9ea73d2060cc06$u',\n",
       " 'dr$idx_ctx_f07f212d2749b3dc7$i',\n",
       " 'dr$idx_ctx_f07f212d2749b3dc7$k',\n",
       " 'dr$idx_ctx_f07f212d2749b3dc7$n',\n",
       " 'dr$idx_ctx_f07f212d2749b3dc7$r',\n",
       " 'dr$idx_ctx_f07f212d2749b3dc7$u',\n",
       " 'dr$idx_ctx_fad1477a6e3ef9913$i',\n",
       " 'dr$idx_ctx_fad1477a6e3ef9913$k',\n",
       " 'dr$idx_ctx_fad1477a6e3ef9913$n',\n",
       " 'dr$idx_ctx_fad1477a6e3ef9913$r',\n",
       " 'dr$idx_ctx_fad1477a6e3ef9913$u',\n",
       " 'economy',\n",
       " 'encompasses',\n",
       " 'ethnicgroup',\n",
       " 'geo_desert',\n",
       " 'geo_estuary',\n",
       " 'geo_island',\n",
       " 'geo_lake',\n",
       " 'geo_mountain',\n",
       " 'geo_river',\n",
       " 'geo_sea',\n",
       " 'geo_source',\n",
       " 'island',\n",
       " 'islandin',\n",
       " 'ismember',\n",
       " 'lake',\n",
       " 'lakeonisland',\n",
       " 'language',\n",
       " 'located',\n",
       " 'locatedon',\n",
       " 'mdrt_3d0a5$',\n",
       " 'mdxt_434ca$',\n",
       " 'mergeswith',\n",
       " 'mondial_action_log',\n",
       " 'mondial_airport',\n",
       " 'mondial_borders',\n",
       " 'mondial_city',\n",
       " 'mondial_cityothername',\n",
       " 'mondial_citypops',\n",
       " 'mondial_continent',\n",
       " 'mondial_country',\n",
       " 'mondial_countrypops',\n",
       " 'mondial_desert',\n",
       " 'mondial_economy',\n",
       " 'mondial_encompasses',\n",
       " 'mondial_ethnicgroup',\n",
       " 'mondial_geo_desert',\n",
       " 'mondial_geo_mountain',\n",
       " 'mondial_island',\n",
       " 'mondial_islandin',\n",
       " 'mondial_ismember',\n",
       " 'mondial_lake',\n",
       " 'mondial_language',\n",
       " 'mondial_located',\n",
       " 'mondial_locatedon',\n",
       " 'mondial_log',\n",
       " 'mondial_mergeswith',\n",
       " 'mondial_mountain',\n",
       " 'mondial_mountainonisland',\n",
       " 'mondial_organization',\n",
       " 'mondial_politics',\n",
       " 'mondial_province',\n",
       " 'mondial_provinceothername',\n",
       " 'mondial_provpops',\n",
       " 'mondial_religion',\n",
       " 'mondial_river',\n",
       " 'mondial_riverthrough',\n",
       " 'mondial_sea',\n",
       " 'mondial_search_log',\n",
       " 'mondial_tgeom',\n",
       " 'mondial_tmcmap',\n",
       " 'mondial_tmdc',\n",
       " 'mondial_tmdc_test',\n",
       " 'mondial_tmdcmap_test',\n",
       " 'mondial_tmdco',\n",
       " 'mondial_tmdej',\n",
       " 'mondial_tmdej_test',\n",
       " 'mondial_tmdg',\n",
       " 'mondial_tmdp',\n",
       " 'mondial_tmdp_test',\n",
       " 'mondial_tmdpmap_test',\n",
       " 'mondial_tmjmap',\n",
       " 'mondial_tmjmap_test',\n",
       " 'mondial_tmpmap',\n",
       " 'mondial_tpv',\n",
       " 'mondial_tpv_test',\n",
       " 'mountain',\n",
       " 'mountainonisland',\n",
       " 'organization',\n",
       " 'politics',\n",
       " 'population',\n",
       " 'province',\n",
       " 'provincelocalname',\n",
       " 'provinceothername',\n",
       " 'provpops',\n",
       " 'religion',\n",
       " 'river',\n",
       " 'riveronisland',\n",
       " 'riverthrough',\n",
       " 'sea',\n",
       " 'sublanguage']"
      ]
     },
     "execution_count": 3,
     "metadata": {},
     "output_type": "execute_result"
    }
   ],
   "source": [
    "db.get_table_names()"
   ]
  },
  {
   "cell_type": "markdown",
   "id": "7700d45e",
   "metadata": {},
   "source": [
    "Após importar e rodar localmente, gerou erros,\n",
    "- o SQLAlchemy não sabia que tipo era GEOCOORD\n",
    "\n",
    "- o número de tokens enviados ao modelo referente a informações do banco de dados foi maior que o limite máximo de tokens(4097).\n"
   ]
  },
  {
   "cell_type": "markdown",
   "id": "a8e08feb",
   "metadata": {},
   "source": [
    "Então a próxima abordagem foi diminuir o tamanho da base de dados, adicionando \n",
    "2 linhas de exemplos para cada tabela"
   ]
  },
  {
   "cell_type": "code",
   "execution_count": 4,
   "id": "c2bae8c0",
   "metadata": {},
   "outputs": [
    {
     "data": {
      "text/plain": [
       "['airport',\n",
       " 'borders',\n",
       " 'city',\n",
       " 'citylocalname',\n",
       " 'cityothername',\n",
       " 'citypops',\n",
       " 'continent',\n",
       " 'country',\n",
       " 'countrylocalname',\n",
       " 'countryothername',\n",
       " 'countrypops',\n",
       " 'economy',\n",
       " 'encompasses',\n",
       " 'ethnicgroup',\n",
       " 'organization',\n",
       " 'politics',\n",
       " 'population',\n",
       " 'province',\n",
       " 'provincelocalname',\n",
       " 'provinceothername',\n",
       " 'provpops',\n",
       " 'religion']"
      ]
     },
     "execution_count": 4,
     "metadata": {},
     "output_type": "execute_result"
    }
   ],
   "source": [
    "include_tables = [\"airport\", \"borders\", \"city\", \"citylocalname\", \"cityothername\", \"citypops\", \"continent\", \"country\", \n",
    "                  \"countrylocalname\", \"countryothername\", \"countrypops\", \"economy\", \"encompasses\", \"ethnicgroup\", \"organization\", \n",
    "                  \"politics\", \"population\", \"province\", \"provincelocalname\", \"provinceothername\", \"provpops\", \"religion\"]\n",
    "\n",
    "db = SQLDatabase.from_uri(uri, include_tables=include_tables, sample_rows_in_table_info=2)\n",
    "\n",
    "db.get_table_names()"
   ]
  },
  {
   "cell_type": "markdown",
   "id": "2ab7c8f0",
   "metadata": {},
   "source": [
    "Verificando o prompt que o langchain passa para o GPT"
   ]
  },
  {
   "cell_type": "code",
   "execution_count": 5,
   "id": "7b4d8429",
   "metadata": {},
   "outputs": [
    {
     "name": "stdout",
     "output_type": "stream",
     "text": [
      "\n",
      "CREATE TABLE airport (\n",
      "\tiatacode VARCHAR(3 CHAR) NOT NULL, \n",
      "\tname VARCHAR(100 CHAR), \n",
      "\tcountry VARCHAR(4 CHAR), \n",
      "\tcity VARCHAR(50 CHAR), \n",
      "\tprovince VARCHAR(50 CHAR), \n",
      "\tisland VARCHAR(50 CHAR), \n",
      "\tlatitude NUMBER, \n",
      "\tlongitude NUMBER, \n",
      "\televation NUMBER, \n",
      "\tgmtoffset NUMBER, \n",
      "\tCONSTRAINT sys_c00114043 PRIMARY KEY (iatacode), \n",
      "\tCONSTRAINT airplat CHECK ((Latitude >= -90) AND (Latitude <= 90)), \n",
      "\tCONSTRAINT airplon CHECK ((Longitude >= -180) AND (Longitude <= 180))\n",
      ")\n",
      "\n",
      "/*\n",
      "2 rows from airport table:\n",
      "iatacode\tname\tcountry\tcity\tprovince\tisland\tlatitude\tlongitude\televation\tgmtoffset\n",
      "KMG\tWujiaba\tCN\tKunming\tYunnan\tNone\t24.992364\t102.743536\t1895.0\t8.0\n",
      "TSN\tBinhai\tCN\tTianjin\tTianjin\tNone\t39.124353\t117.346183\t3.0\t8.0\n",
      "*/\n",
      "\n",
      "\n",
      "CREATE TABLE borders (\n",
      "\tcountry1 VARCHAR(4 CHAR) NOT NULL, \n",
      "\tcountry2 VARCHAR(4 CHAR) NOT NULL, \n",
      "\tlength NUMBER, \n",
      "\tCONSTRAINT borderkey PRIMARY KEY (country1, country2), \n",
      "\tCONSTRAINT sys_c00113990 CHECK (Length > 0)\n",
      ")\n",
      "\n",
      "/*\n",
      "2 rows from borders table:\n",
      "country1\tcountry2\tlength\n",
      "AL\tGR\t282.0\n",
      "AL\tMK\t151.0\n",
      "*/\n",
      "\n",
      "\n",
      "CREATE TABLE city (\n",
      "\tname VARCHAR(50 CHAR) NOT NULL, \n",
      "\tcountry VARCHAR(4 CHAR) NOT NULL, \n",
      "\tprovince VARCHAR(50 CHAR) NOT NULL, \n",
      "\tpopulation NUMBER, \n",
      "\tlatitude NUMBER, \n",
      "\tlongitude NUMBER, \n",
      "\televation NUMBER, \n",
      "\tCONSTRAINT citykey PRIMARY KEY (name, country, province), \n",
      "\tCONSTRAINT citylat CHECK ((Latitude >= -90) AND (Latitude <= 90)), \n",
      "\tCONSTRAINT citylon CHECK ((Longitude >= -180) AND (Longitude <= 180)), \n",
      "\tCONSTRAINT citypop CHECK (Population >= 0)\n",
      ")\n",
      "\n",
      "/*\n",
      "2 rows from city table:\n",
      "name\tcountry\tprovince\tpopulation\tlatitude\tlongitude\televation\n",
      "TÃ¡ranto\tI\tPuglia\t200154.0\t40.47\t17.23\t15.0\n",
      "Potenza\tI\tBasilicata\t66777.0\t40.63\t15.8\t819.0\n",
      "*/\n",
      "\n",
      "\n",
      "CREATE TABLE citylocalname (\n",
      "\tcity VARCHAR(50 CHAR) NOT NULL, \n",
      "\tcountry VARCHAR(4 CHAR) NOT NULL, \n",
      "\tprovince VARCHAR(50 CHAR) NOT NULL, \n",
      "\tlocalname VARCHAR(300 CHAR), \n",
      "\tCONSTRAINT citylocalnamekey PRIMARY KEY (country, province, city)\n",
      ")\n",
      "\n",
      "/*\n",
      "2 rows from citylocalname table:\n",
      "city\tcountry\tprovince\tlocalname\n",
      "Ningbo\tCN\tZhejiang\tå®¿æ³¢å¸‚\n",
      "Wenzhou\tCN\tZhejiang\tæ¸©å·žå¸‚\n",
      "*/\n",
      "\n",
      "\n",
      "CREATE TABLE cityothername (\n",
      "\tcity VARCHAR(50 CHAR) NOT NULL, \n",
      "\tcountry VARCHAR(4 CHAR) NOT NULL, \n",
      "\tprovince VARCHAR(50 CHAR) NOT NULL, \n",
      "\tothername VARCHAR(50 CHAR) NOT NULL, \n",
      "\tCONSTRAINT cityothernamekey PRIMARY KEY (country, province, city, othername)\n",
      ")\n",
      "\n",
      "/*\n",
      "2 rows from cityothername table:\n",
      "city\tcountry\tprovince\tothername\n",
      "Wien\tA\tWien\tVienna\n",
      "Tirana\tAL\tAlbania\tTirane\n",
      "*/\n",
      "\n",
      "\n",
      "CREATE TABLE citypops (\n",
      "\tcity VARCHAR(50 CHAR) NOT NULL, \n",
      "\tcountry VARCHAR(4 CHAR) NOT NULL, \n",
      "\tprovince VARCHAR(50 CHAR) NOT NULL, \n",
      "\tyear NUMBER NOT NULL, \n",
      "\tpopulation NUMBER, \n",
      "\tCONSTRAINT citypopkey PRIMARY KEY (country, province, city, year), \n",
      "\tCONSTRAINT citypopspop CHECK (Population >= 0), \n",
      "\tCONSTRAINT citypopsyear CHECK (Year >= 0)\n",
      ")\n",
      "\n",
      "/*\n",
      "2 rows from citypops table:\n",
      "city\tcountry\tprovince\tyear\tpopulation\n",
      "Jerez de la Frontera\tE\tAndalucÃ­a\t2001.0\t183273.0\n",
      "Jerez de la Frontera\tE\tAndalucÃ­a\t2011.0\t211784.0\n",
      "*/\n",
      "\n",
      "\n",
      "CREATE TABLE continent (\n",
      "\tname VARCHAR(20 CHAR) NOT NULL, \n",
      "\tarea NUMBER(10, 0), \n",
      "\tCONSTRAINT continentkey PRIMARY KEY (name)\n",
      ")\n",
      "\n",
      "/*\n",
      "2 rows from continent table:\n",
      "name\tarea\n",
      "Europe\t10523000\n",
      "Asia\t44614500\n",
      "*/\n",
      "\n",
      "\n",
      "CREATE TABLE country (\n",
      "\tname VARCHAR(50 CHAR) NOT NULL, \n",
      "\tcode VARCHAR(4 CHAR) NOT NULL, \n",
      "\tcapital VARCHAR(50 CHAR), \n",
      "\tprovince VARCHAR(50 CHAR), \n",
      "\tarea NUMBER, \n",
      "\tpopulation NUMBER, \n",
      "\tCONSTRAINT countrykey PRIMARY KEY (code), \n",
      "\tCONSTRAINT countryarea CHECK (Area >= 0), \n",
      "\tCONSTRAINT countrypop CHECK (Population >= 0)\n",
      ")\n",
      "\n",
      "/*\n",
      "2 rows from country table:\n",
      "name\tcode\tcapital\tprovince\tarea\tpopulation\n",
      "Albania\tAL\tTirana\tAlbania\t28750.0\t2821977.0\n",
      "Greece\tGR\tAthina\tAttikis\t131940.0\t10816286.0\n",
      "*/\n",
      "\n",
      "\n",
      "CREATE TABLE countrylocalname (\n",
      "\tcountry VARCHAR(4 CHAR) NOT NULL, \n",
      "\tlocalname VARCHAR(300 CHAR), \n",
      "\tCONSTRAINT countrylocalnamekey PRIMARY KEY (country)\n",
      ")\n",
      "\n",
      "/*\n",
      "2 rows from countrylocalname table:\n",
      "country\tlocalname\n",
      "AL\tShqipÃ«ri\n",
      "GR\tÎ•Î»Î»Î·Î½Î¹ÎºÎ® Î”Î·Î¼Î¿ÎºÏ¿Î±Ï„Î¯Î±\n",
      "*/\n",
      "\n",
      "\n",
      "CREATE TABLE countryothername (\n",
      "\tcountry VARCHAR(4 CHAR) NOT NULL, \n",
      "\tothername VARCHAR(50 CHAR) NOT NULL, \n",
      "\tCONSTRAINT countryothernamekey PRIMARY KEY (country, othername)\n",
      ")\n",
      "\n",
      "/*\n",
      "2 rows from countryothername table:\n",
      "country\tothername\n",
      "CZ\tCzechia\n",
      "MYA\tBurma\n",
      "*/\n",
      "\n",
      "\n",
      "CREATE TABLE countrypops (\n",
      "\tcountry VARCHAR(4 CHAR) NOT NULL, \n",
      "\tyear NUMBER NOT NULL, \n",
      "\tpopulation NUMBER, \n",
      "\tCONSTRAINT countrypopskey PRIMARY KEY (country, year), \n",
      "\tCONSTRAINT countrypopspop CHECK (Population >= 0), \n",
      "\tCONSTRAINT countrypopsyear CHECK (Year >= 0)\n",
      ")\n",
      "\n",
      "/*\n",
      "2 rows from countrypops table:\n",
      "country\tyear\tpopulation\n",
      "BHT\t1960.0\t224155.0\n",
      "BHT\t1970.0\t291555.0\n",
      "*/\n",
      "\n",
      "\n",
      "CREATE TABLE economy (\n",
      "\tcountry VARCHAR(4 CHAR) NOT NULL, \n",
      "\tgdp NUMBER, \n",
      "\tagriculture NUMBER, \n",
      "\tservice NUMBER, \n",
      "\tindustry NUMBER, \n",
      "\tinflation NUMBER, \n",
      "\tunemployment NUMBER, \n",
      "\tCONSTRAINT economykey PRIMARY KEY (country), \n",
      "\tCONSTRAINT economygdp CHECK (GDP >= 0)\n",
      ")\n",
      "\n",
      "/*\n",
      "2 rows from economy table:\n",
      "country\tgdp\tagriculture\tservice\tindustry\tinflation\tunemployment\n",
      "AL\t12800.0\t19.5\t68.5\t12.0\t1.7\t16.9\n",
      "GR\t243300.0\t3.5\t80.5\t16.0\t-0.8\t27.9\n",
      "*/\n",
      "\n",
      "\n",
      "CREATE TABLE encompasses (\n",
      "\tcountry VARCHAR(4 CHAR) NOT NULL, \n",
      "\tcontinent VARCHAR(20 CHAR) NOT NULL, \n",
      "\tpercentage NUMBER, \n",
      "\tCONSTRAINT encompasseskey PRIMARY KEY (country, continent), \n",
      "\tCONSTRAINT sys_c00113992 CHECK ((Percentage > 0) AND (Percentage <= 100))\n",
      ")\n",
      "\n",
      "/*\n",
      "2 rows from encompasses table:\n",
      "country\tcontinent\tpercentage\n",
      "AL\tEurope\t100.0\n",
      "GR\tEurope\t100.0\n",
      "*/\n",
      "\n",
      "\n",
      "CREATE TABLE ethnicgroup (\n",
      "\tcountry VARCHAR(4 CHAR) NOT NULL, \n",
      "\tname VARCHAR(50 CHAR) NOT NULL, \n",
      "\tpercentage NUMBER, \n",
      "\tCONSTRAINT ethnickey PRIMARY KEY (name, country), \n",
      "\tCONSTRAINT ethnicpercent CHECK ((Percentage > 0) AND (Percentage <= 100))\n",
      ")\n",
      "\n",
      "/*\n",
      "2 rows from ethnicgroup table:\n",
      "country\tname\tpercentage\n",
      "WF\tPolynesian\t99.0\n",
      "FJI\tMelanesian-Polynesian\t58.0\n",
      "*/\n",
      "\n",
      "\n",
      "CREATE TABLE organization (\n",
      "\tabbreviation VARCHAR(12 CHAR) NOT NULL, \n",
      "\tname VARCHAR(100 CHAR) NOT NULL, \n",
      "\tcity VARCHAR(50 CHAR), \n",
      "\tcountry VARCHAR(4 CHAR), \n",
      "\tprovince VARCHAR(50 CHAR), \n",
      "\testablished DATE, \n",
      "\tCONSTRAINT orgkey PRIMARY KEY (abbreviation)\n",
      ")\n",
      "\n",
      "/*\n",
      "2 rows from organization table:\n",
      "abbreviation\tname\tcity\tcountry\tprovince\testablished\n",
      "AfDB\tAfrican Development Bank Group\tAbidjan\tCI\tAbidjan\t1964-09-09 00:00:00\n",
      "AU\tAfrican Union\tAddis Ababa\tETH\tAddis Ababa\t1963-05-25 00:00:00\n",
      "*/\n",
      "\n",
      "\n",
      "CREATE TABLE politics (\n",
      "\tcountry VARCHAR(4 CHAR) NOT NULL, \n",
      "\tindependence DATE, \n",
      "\twasdependent VARCHAR(50 CHAR), \n",
      "\tdependent VARCHAR(4 CHAR), \n",
      "\tgovernment VARCHAR(120 CHAR), \n",
      "\tCONSTRAINT politicskey PRIMARY KEY (country)\n",
      ")\n",
      "\n",
      "/*\n",
      "2 rows from politics table:\n",
      "country\tindependence\twasdependent\tdependent\tgovernment\n",
      "AL\t1912-11-28 00:00:00\tOttoman Empire\tNone\tparliamentary democracy\n",
      "GR\t1829-01-01 00:00:00\tOttoman Empire\tNone\tparliamentary republic\n",
      "*/\n",
      "\n",
      "\n",
      "CREATE TABLE population (\n",
      "\tcountry VARCHAR(4 CHAR) NOT NULL, \n",
      "\tpopulation_growth NUMBER, \n",
      "\tinfant_mortality NUMBER, \n",
      "\tCONSTRAINT popkey PRIMARY KEY (country)\n",
      ")\n",
      "\n",
      "/*\n",
      "2 rows from population table:\n",
      "country\tpopulation_growth\tinfant_mortality\n",
      "AL\t0.3\t13.19\n",
      "GR\t0.01\t4.78\n",
      "*/\n",
      "\n",
      "\n",
      "CREATE TABLE province (\n",
      "\tname VARCHAR(50 CHAR) NOT NULL, \n",
      "\tcountry VARCHAR(4 CHAR) NOT NULL, \n",
      "\tpopulation NUMBER, \n",
      "\tarea NUMBER, \n",
      "\tcapital VARCHAR(50 CHAR), \n",
      "\tcapprov VARCHAR(50 CHAR), \n",
      "\tCONSTRAINT prkey PRIMARY KEY (name, country), \n",
      "\tCONSTRAINT prar CHECK (Area >= 0), \n",
      "\tCONSTRAINT prpop CHECK (Population >= 0)\n",
      ")\n",
      "\n",
      "/*\n",
      "2 rows from province table:\n",
      "name\tcountry\tpopulation\tarea\tcapital\tcapprov\n",
      "Primorskiy\tR\t1938516.0\t165900.0\tVladivostok\tPrimorskiy\n",
      "Khabarovskiy\tR\t1339912.0\t752600.0\tKhabarovsk\tKhabarovskiy\n",
      "*/\n",
      "\n",
      "\n",
      "CREATE TABLE provincelocalname (\n",
      "\tprovince VARCHAR(50 CHAR) NOT NULL, \n",
      "\tcountry VARCHAR(4 CHAR) NOT NULL, \n",
      "\tlocalname VARCHAR(300 CHAR), \n",
      "\tCONSTRAINT provlocalnamekey PRIMARY KEY (country, province)\n",
      ")\n",
      "\n",
      "/*\n",
      "2 rows from provincelocalname table:\n",
      "province\tcountry\tlocalname\n",
      "Anatolikis Makedonias kai Thrakis\tGR\tÎ‘Î½Î±Ï„Î¿Î»Î¹ÎºÎ®Ï‚ ÎœÎ±ÎºÎµÎ´Î¿Î½Î¯Î±Ï‚ ÎºÎ±Î¹ Î˜Ï¿Î¬ÎºÎ·Ï‚\n",
      "Attikis\tGR\tÎ‘Ï„Ï„Î¹ÎºÎ®Ï‚\n",
      "*/\n",
      "\n",
      "\n",
      "CREATE TABLE provinceothername (\n",
      "\tprovince VARCHAR(50 CHAR) NOT NULL, \n",
      "\tcountry VARCHAR(4 CHAR) NOT NULL, \n",
      "\tothername VARCHAR(50 CHAR) NOT NULL, \n",
      "\tCONSTRAINT provothernamekey PRIMARY KEY (country, province, othername)\n",
      ")\n",
      "\n",
      "/*\n",
      "2 rows from provinceothername table:\n",
      "province\tcountry\tothername\n",
      "LiÃ¨ge\tB\tLuik\n",
      "Kongo Central\tCGO\tBas-Congo\n",
      "*/\n",
      "\n",
      "\n",
      "CREATE TABLE provpops (\n",
      "\tprovince VARCHAR(50 CHAR) NOT NULL, \n",
      "\tcountry VARCHAR(4 CHAR) NOT NULL, \n",
      "\tyear NUMBER NOT NULL, \n",
      "\tpopulation NUMBER, \n",
      "\tCONSTRAINT provpopkey PRIMARY KEY (country, province, year), \n",
      "\tCONSTRAINT provpopspop CHECK (Population >= 0), \n",
      "\tCONSTRAINT provpopsyear CHECK (Year >= 0)\n",
      ")\n",
      "\n",
      "/*\n",
      "2 rows from provpops table:\n",
      "province\tcountry\tyear\tpopulation\n",
      "Uri\tCH\t2009.0\t35335.0\n",
      "Uri\tCH\t2013.0\t35865.0\n",
      "*/\n",
      "\n",
      "\n",
      "CREATE TABLE religion (\n",
      "\tcountry VARCHAR(4 CHAR) NOT NULL, \n",
      "\tname VARCHAR(50 CHAR) NOT NULL, \n",
      "\tpercentage NUMBER, \n",
      "\tCONSTRAINT religionkey PRIMARY KEY (name, country), \n",
      "\tCONSTRAINT religionpercent CHECK ((Percentage > 0) AND (Percentage <= 100))\n",
      ")\n",
      "\n",
      "/*\n",
      "2 rows from religion table:\n",
      "country\tname\tpercentage\n",
      "EAK\tHindu\t0.7\n",
      "EAK\tQuaker\t0.2\n",
      "*/\n"
     ]
    }
   ],
   "source": [
    "print(db.table_info)\n",
    "f = open(\"prompt_generated_by_langchain.txt\", \"w\")\n",
    "f.write(db.table_info)\n",
    "f.close()\n"
   ]
  },
  {
   "cell_type": "code",
   "execution_count": 6,
   "id": "7c5c9694-4c5d-4d91-a6e3-190df2d91bd3",
   "metadata": {
    "tags": []
   },
   "outputs": [
    {
     "name": "stderr",
     "output_type": "stream",
     "text": [
      "c:\\Users\\wendyzv\\AppData\\Local\\Programs\\Python\\Python310\\lib\\site-packages\\langchain\\chains\\sql_database\\base.py:63: UserWarning: Directly instantiating an SQLDatabaseChain with an llm is deprecated. Please instantiate with llm_chain argument or using the from_llm class method.\n",
      "  warnings.warn(\n"
     ]
    }
   ],
   "source": [
    "db_chain = SQLDatabaseChain(llm=ChatOpenAI(temperature=0, model_name='gpt-3.5-turbo'), database=db, verbose=True)"
   ]
  },
  {
   "cell_type": "code",
   "execution_count": 7,
   "id": "9dafe6f2",
   "metadata": {},
   "outputs": [],
   "source": [
    "def execute_query(query):\n",
    "    try:\n",
    "        db_chain.run(query)\n",
    "    except:\n",
    "        print(\"\\n Consulta SQL gerada, mas houve erro ao executá-la\")"
   ]
  },
  {
   "cell_type": "code",
   "execution_count": 8,
   "id": "8b5c3d1e-6e7d-4203-bb7e-8fda50974e07",
   "metadata": {
    "tags": []
   },
   "outputs": [
    {
     "name": "stdout",
     "output_type": "stream",
     "text": [
      "\n",
      "\n",
      "\u001b[1m> Entering new  chain...\u001b[0m\n",
      "Country limit 10\n",
      "SQLQuery:\u001b[32;1m\u001b[1;3mSELECT \"name\"\n",
      "FROM country\n",
      "FETCH FIRST 10 ROWS ONLY;\u001b[0m\n",
      " Consulta SQL gerada, mas houve erro ao executá-la\n"
     ]
    }
   ],
   "source": [
    "execute_query(\"Country limit 10\")"
   ]
  },
  {
   "cell_type": "code",
   "execution_count": 9,
   "id": "b4b7d076",
   "metadata": {},
   "outputs": [
    {
     "name": "stdout",
     "output_type": "stream",
     "text": [
      "\n",
      "\n",
      "\u001b[1m> Entering new  chain...\u001b[0m\n",
      "Country with largest area\n",
      "SQLQuery:\u001b[32;1m\u001b[1;3mSELECT \"name\" \n",
      "FROM country \n",
      "ORDER BY area DESC \n",
      "FETCH FIRST 1 ROWS ONLY;\u001b[0m\n",
      " Consulta SQL gerada, mas houve erro ao executá-la\n"
     ]
    }
   ],
   "source": [
    "execute_query(\"Country with largest area\")"
   ]
  },
  {
   "cell_type": "code",
   "execution_count": 10,
   "id": "58ee1244",
   "metadata": {},
   "outputs": [
    {
     "name": "stdout",
     "output_type": "stream",
     "text": [
      "\n",
      "\n",
      "\u001b[1m> Entering new  chain...\u001b[0m\n",
      "What province is the city of Bandar Seri Begawan in?\n",
      "SQLQuery:\u001b[32;1m\u001b[1;3mSELECT province\n",
      "FROM city\n",
      "WHERE name = 'Bandar Seri Begawan';\u001b[0m\n",
      " Consulta SQL gerada, mas houve erro ao executá-la\n"
     ]
    }
   ],
   "source": [
    "execute_query(\"What province is the city of Bandar Seri Begawan in?\")"
   ]
  },
  {
   "cell_type": "code",
   "execution_count": 11,
   "id": "fefba00e",
   "metadata": {},
   "outputs": [
    {
     "name": "stdout",
     "output_type": "stream",
     "text": [
      "\n",
      "\n",
      "\u001b[1m> Entering new  chain...\u001b[0m\n",
      "What is relationship between India and Mauritius Island?\n",
      "SQLQuery:\u001b[32;1m\u001b[1;3mSELECT a.country, b.country, a.island\n",
      "FROM airport a\n",
      "JOIN airport b ON a.island = b.island\n",
      "WHERE a.country = 'IN' AND b.country = 'MU'\u001b[0m\n",
      "SQLResult: \u001b[33;1m\u001b[1;3m[]\u001b[0m\n",
      "Answer:\u001b[32;1m\u001b[1;3mThere is no relationship between India and Mauritius Island in terms of airports.\u001b[0m\n",
      "\u001b[1m> Finished chain.\u001b[0m\n"
     ]
    }
   ],
   "source": [
    "execute_query(\"What is relationship between India and Mauritius Island?\")\n"
   ]
  },
  {
   "cell_type": "code",
   "execution_count": 12,
   "id": "bbb010de",
   "metadata": {},
   "outputs": [
    {
     "name": "stdout",
     "output_type": "stream",
     "text": [
      "\n",
      "\n",
      "\u001b[1m> Entering new  chain...\u001b[0m\n",
      "What percentage of religious people are hindu in India?\n",
      "SQLQuery:\u001b[32;1m\u001b[1;3mSELECT percentage\n",
      "FROM religion\n",
      "WHERE country = 'IN' AND name = 'Hindu'\u001b[0m\n",
      "SQLResult: \u001b[33;1m\u001b[1;3m[]\u001b[0m\n",
      "Answer:\u001b[32;1m\u001b[1;3mFinal answer here: There are no records in the religion table for the country 'IN' and the religion 'Hindu'.\u001b[0m\n",
      "\u001b[1m> Finished chain.\u001b[0m\n"
     ]
    }
   ],
   "source": [
    "execute_query(\"What percentage of religious people are hindu in India?\")"
   ]
  },
  {
   "cell_type": "code",
   "execution_count": 13,
   "id": "45905ecc",
   "metadata": {},
   "outputs": [
    {
     "name": "stdout",
     "output_type": "stream",
     "text": [
      "\n",
      "\n",
      "\u001b[1m> Entering new  chain...\u001b[0m\n",
      "Tell me five brazilians cities\n",
      "SQLQuery:\u001b[32;1m\u001b[1;3mSELECT \"name\" \n",
      "FROM city \n",
      "WHERE country = 'BR' \n",
      "FETCH FIRST 5 ROWS ONLY;\u001b[0m\n",
      " Consulta SQL gerada, mas houve erro ao executá-la\n"
     ]
    }
   ],
   "source": [
    "execute_query(\"Tell me five brazilians cities\")"
   ]
  },
  {
   "cell_type": "code",
   "execution_count": 14,
   "id": "be77c607",
   "metadata": {},
   "outputs": [
    {
     "name": "stdout",
     "output_type": "stream",
     "text": [
      "\n",
      "\n",
      "\u001b[1m> Entering new  chain...\u001b[0m\n",
      "tell me percentage of religious by religion in india\n",
      "SQLQuery:\u001b[32;1m\u001b[1;3mSELECT r.name, r.percentage\n",
      "FROM religion r\n",
      "WHERE r.country = 'IND'\u001b[0m\n",
      "SQLResult: \u001b[33;1m\u001b[1;3m[('Hindu', Decimal('79.8')), ('Muslim', Decimal('14.2')), ('Catholic', Decimal('1.5')), ('Protestant', Decimal('0.6')), ('Christian Orthodox', Decimal('0.4')), ('Sikh', Decimal('1.7')), ('Buddhist', Decimal('0.7')), ('Jains', Decimal('0.4')), ('Sarnaism', Decimal('0.7'))]\u001b[0m\n",
      "Answer:\u001b[32;1m\u001b[1;3mThe percentage of religious by religion in India is as follows:\n",
      "- Hindu: 79.8%\n",
      "- Muslim: 14.2%\n",
      "- Catholic: 1.5%\n",
      "- Protestant: 0.6%\n",
      "- Christian Orthodox: 0.4%\n",
      "- Sikh: 1.7%\n",
      "- Buddhist: 0.7%\n",
      "- Jains: 0.4%\n",
      "- Sarnaism: 0.7%\u001b[0m\n",
      "\u001b[1m> Finished chain.\u001b[0m\n"
     ]
    }
   ],
   "source": [
    "\n",
    "execute_query(\"tell me percentage of religious by religion in india\")"
   ]
  },
  {
   "cell_type": "code",
   "execution_count": 15,
   "id": "ac1751c7",
   "metadata": {},
   "outputs": [
    {
     "name": "stdout",
     "output_type": "stream",
     "text": [
      "\n",
      "\n",
      "\u001b[1m> Entering new  chain...\u001b[0m\n",
      "tell me total percentage of religious people who are Hindu by continent\n",
      "SQLQuery:\u001b[32;1m\u001b[1;3mSELECT c.name, SUM(r.percentage) AS total_percentage\n",
      "FROM continent c\n",
      "JOIN encompasses e ON c.name = e.continent\n",
      "JOIN country co ON e.country = co.code\n",
      "JOIN religion r ON co.code = r.country\n",
      "WHERE r.name = 'Hindu'\n",
      "GROUP BY c.name\u001b[0m\n",
      "SQLResult: \u001b[33;1m\u001b[1;3m[('Asia', Decimal('261.5')), ('Europe', Decimal('6.6')), ('Australia/Oceania', Decimal('33.4')), ('Africa', Decimal('59.7')), ('South America', Decimal('47.1')), ('North America', Decimal('33.4'))]\u001b[0m\n",
      "Answer:\u001b[32;1m\u001b[1;3mThe total percentage of religious people who are Hindu by continent is as follows:\n",
      "- Asia: 261.5%\n",
      "- Europe: 6.6%\n",
      "- Australia/Oceania: 33.4%\n",
      "- Africa: 59.7%\n",
      "- South America: 47.1%\n",
      "- North America: 33.4%\u001b[0m\n",
      "\u001b[1m> Finished chain.\u001b[0m\n"
     ]
    }
   ],
   "source": [
    "execute_query(\"tell me total percentage of religious people who are Hindu by continent\")"
   ]
  },
  {
   "cell_type": "code",
   "execution_count": 16,
   "id": "97296166",
   "metadata": {},
   "outputs": [
    {
     "name": "stdout",
     "output_type": "stream",
     "text": [
      "\n",
      "\n",
      "\u001b[1m> Entering new  chain...\u001b[0m\n",
      "tell me airports with elevation more than 1000\n",
      "SQLQuery:\u001b[32;1m\u001b[1;3mSELECT \"iatacode\", \"name\", \"elevation\" \n",
      "FROM airport \n",
      "WHERE \"elevation\" > 1000\n",
      "ORDER BY \"elevation\" DESC\n",
      "FETCH FIRST 5 ROWS ONLY;\u001b[0m\n",
      " Consulta SQL gerada, mas houve erro ao executá-la\n"
     ]
    }
   ],
   "source": [
    "#Essa consulta funcionou no software cliente do oracle, mas não funcionou aqui\n",
    "execute_query(\"tell me airports with elevation more than 1000\")"
   ]
  },
  {
   "cell_type": "markdown",
   "id": "69ad71f4",
   "metadata": {},
   "source": [
    "## Conclusões \n",
    "\n",
    "Tive problemas com tipos de colunas customizadas do banco, no caso o Geocoord, pois o SqlAlchemy não o reconhece. Pode ser contornado nesse [link](https://docs.sqlalchemy.org/en/20/core/custom_types.html#sqlalchemy.types.UserDefinedType), mas não consegui implementar. \n",
    "\n",
    "Então importei o banco para o local e alterei as colunas com tipo Geocoord para Varchar(50) e assim, consegui contrornar. Ao criar o SQLDatabaseChain e executar uma consulta tive erro pois o prompt gerado pelo langchain passava  do limite máximo de tokens. \n",
    "\n",
    "Em sua documentação, o langchain oferece a possibilidade de incluir e excluir quais tabelas queremos. Então, retornei e fiz a comunicação com o banco \"mondial_sql\" do servidor e fiz as consultas. Gerava o SQL, mas dava DatabaseError e não retornava os resultados. E para verificar e validar se o SQL gerado trazia resultados, a consulta gerada pelo GPT era passada diretamente em um software cliente SGBD  para ser executada.\n",
    "\n",
    "Algumas consultas SQL geradas estavam retornando as colunas com aspas e dava erro na execução da consulta, tanto aqui quanto no software cliente.\n",
    "```\n",
    "SELECT \"name\" \n",
    "FROM country \n",
    "ORDER BY area DESC \n",
    "FETCH FIRST 1 ROWS ONLY;\n",
    "```\n",
    "Quando removi elas, a consulta foi executada corretamente no software cliente.\n",
    "\n",
    "As consultas SQL geradas que não possuiam aspas em algumas das colunas executavam normalmente no software cliente, mas aqui estava dando erro.\n",
    "\n",
    "Nessa consulta \"What is relationship between India and Mauritius Island?\" o sql gerado buscou uma relação entre esses dois lugares pela coluna island da tabela airport (na abordagem passando o prompt foi por Borders). Mas não houve resultados.\n",
    "\n",
    "Interessante, que nessa consulta \"tell me total percentage of religious people who are Hindu by continent\" trouxe resultados corretos onde envolvia 3 joins e agregação. O danke não respondeu correto para as seguintes palavras chaves:\n",
    "- \"percentage total hindu continent\" \"total percentage hindu continent\"\n",
    "- \"percentage sum hindu continent\" \"sum total hindu continent\""
   ]
  },
  {
   "cell_type": "markdown",
   "id": "7453d378",
   "metadata": {},
   "source": [
    "Testes"
   ]
  },
  {
   "cell_type": "code",
   "execution_count": 24,
   "id": "ba5a392f",
   "metadata": {},
   "outputs": [
    {
     "name": "stdout",
     "output_type": "stream",
     "text": [
      "\n",
      "\n",
      "\u001b[1m> Entering new  chain...\u001b[0m\n",
      "What are the provinces with an area greater than 1000?\n",
      "SQLQuery:\u001b[32;1m\u001b[1;3mSELECT \"name\" \n",
      "FROM province \n",
      "WHERE \"area\" > 1000\u001b[0m\n",
      " Consulta SQL gerada, mas houve erro ao executá-la\n"
     ]
    }
   ],
   "source": [
    "execute_query(\"What are the provinces with an area greater than 1000?\")"
   ]
  },
  {
   "cell_type": "code",
   "execution_count": 23,
   "id": "ec8c0cf3",
   "metadata": {},
   "outputs": [
    {
     "name": "stdout",
     "output_type": "stream",
     "text": [
      "\n",
      "\n",
      "\u001b[1m> Entering new  chain...\u001b[0m\n",
      "What are the provinces with an area more than 1000?\n",
      "SQLQuery:\u001b[32;1m\u001b[1;3mSELECT \"name\" \n",
      "FROM province \n",
      "WHERE \"area\" > 1000\u001b[0m\n",
      " Consulta SQL gerada, mas houve erro ao executá-la\n"
     ]
    }
   ],
   "source": [
    "execute_query(\"What are the provinces with an area more than 1000?\")"
   ]
  },
  {
   "cell_type": "code",
   "execution_count": 15,
   "id": "4352ab43",
   "metadata": {},
   "outputs": [
    {
     "name": "stdout",
     "output_type": "stream",
     "text": [
      "\n",
      "\n",
      "\u001b[1m> Entering new  chain...\u001b[0m\n",
      "Tell me about cities of Cuba\n",
      "SQLQuery:\u001b[32;1m\u001b[1;3mSELECT name, country, province, population, latitude, longitude, elevation\n",
      "FROM city\n",
      "WHERE country = 'CU'\u001b[0m\n",
      "SQLResult: \u001b[33;1m\u001b[1;3m[]\u001b[0m\n",
      "Answer:\u001b[32;1m\u001b[1;3mThere are no cities in Cuba in the database.\u001b[0m\n",
      "\u001b[1m> Finished chain.\u001b[0m\n"
     ]
    }
   ],
   "source": [
    "execute_query(\"Tell me about cities of Cuba\")"
   ]
  },
  {
   "cell_type": "code",
   "execution_count": 16,
   "id": "051f7c38",
   "metadata": {},
   "outputs": [
    {
     "name": "stdout",
     "output_type": "stream",
     "text": [
      "\n",
      "\n",
      "\u001b[1m> Entering new  chain...\u001b[0m\n",
      "city of Cuba\n",
      "SQLQuery:\u001b[32;1m\u001b[1;3mSELECT name\n",
      "FROM city\n",
      "WHERE country = 'CUB'\u001b[0m\n",
      "SQLResult: \u001b[33;1m\u001b[1;3m[]\u001b[0m\n",
      "Answer:\u001b[32;1m\u001b[1;3mFinal answer: There are no cities in Cuba in the database.\u001b[0m\n",
      "\u001b[1m> Finished chain.\u001b[0m\n"
     ]
    }
   ],
   "source": [
    "execute_query(\"city of Cuba\")"
   ]
  },
  {
   "cell_type": "code",
   "execution_count": 25,
   "id": "4d5cfd85",
   "metadata": {},
   "outputs": [
    {
     "name": "stdout",
     "output_type": "stream",
     "text": [
      "\n",
      "\n",
      "\u001b[1m> Entering new  chain...\u001b[0m\n",
      "Say me about the total of city of cuba?\n",
      "SQLQuery:\u001b[32;1m\u001b[1;3mSELECT COUNT(*) AS total_cities\n",
      "FROM city\n",
      "WHERE country = 'CUB';\u001b[0m\n",
      " Consulta SQL gerada, mas houve erro ao executá-la\n"
     ]
    }
   ],
   "source": [
    "execute_query(\"Say me about the total of city of cuba?\")"
   ]
  },
  {
   "cell_type": "code",
   "execution_count": 26,
   "id": "f7b6eabb",
   "metadata": {},
   "outputs": [
    {
     "name": "stdout",
     "output_type": "stream",
     "text": [
      "\n",
      "\n",
      "\u001b[1m> Entering new  chain...\u001b[0m\n",
      "Say me about the total of Cities of cuba?\n",
      "SQLQuery:\u001b[32;1m\u001b[1;3mSELECT COUNT(*) AS total_cities\n",
      "FROM city\n",
      "WHERE country = 'CUB';\u001b[0m\n",
      " Consulta SQL gerada, mas houve erro ao executá-la\n"
     ]
    }
   ],
   "source": [
    "execute_query(\"Say me about the total of Cities of cuba?\")"
   ]
  },
  {
   "cell_type": "code",
   "execution_count": 27,
   "id": "7c1ce580",
   "metadata": {},
   "outputs": [
    {
     "name": "stdout",
     "output_type": "stream",
     "text": [
      "\n",
      "\n",
      "\u001b[1m> Entering new  chain...\u001b[0m\n",
      "Say me about the total of cities of cuba?\n",
      "SQLQuery:\u001b[32;1m\u001b[1;3mSELECT COUNT(*) AS total_cities\n",
      "FROM city\n",
      "WHERE country = 'CUB';\u001b[0m\n",
      " Consulta SQL gerada, mas houve erro ao executá-la\n"
     ]
    }
   ],
   "source": [
    "execute_query(\"Say me about the total of cities of cuba?\")"
   ]
  },
  {
   "cell_type": "code",
   "execution_count": 20,
   "id": "b0abca94",
   "metadata": {},
   "outputs": [
    {
     "name": "stdout",
     "output_type": "stream",
     "text": [
      "\n",
      "\n",
      "\u001b[1m> Entering new  chain...\u001b[0m\n",
      "Tell me the largest area.\n",
      "SQLQuery:\u001b[32;1m\u001b[1;3mSELECT MAX(area) AS largest_area\n",
      "FROM country\u001b[0m\n",
      "SQLResult: \u001b[33;1m\u001b[1;3m[(17075200,)]\u001b[0m\n",
      "Answer:\u001b[32;1m\u001b[1;3mThe largest area is 17,075,200.\u001b[0m\n",
      "\u001b[1m> Finished chain.\u001b[0m\n"
     ]
    }
   ],
   "source": [
    "execute_query(\"Tell me the largest area.\")"
   ]
  },
  {
   "cell_type": "code",
   "execution_count": 28,
   "id": "9238bc83",
   "metadata": {},
   "outputs": [
    {
     "name": "stdout",
     "output_type": "stream",
     "text": [
      "\n",
      "\n",
      "\u001b[1m> Entering new  chain...\u001b[0m\n",
      "Areas different from 100\n",
      "SQLQuery:\u001b[32;1m\u001b[1;3mSELECT name, area\n",
      "FROM country\n",
      "WHERE area <> 100\n",
      "ORDER BY area DESC\n",
      "FETCH FIRST 5 ROWS ONLY;\u001b[0m\n",
      " Consulta SQL gerada, mas houve erro ao executá-la\n"
     ]
    }
   ],
   "source": [
    "execute_query(\"Areas different from 100\")"
   ]
  },
  {
   "cell_type": "code",
   "execution_count": 39,
   "id": "e5f1f068",
   "metadata": {},
   "outputs": [
    {
     "name": "stdout",
     "output_type": "stream",
     "text": [
      "\n",
      "\n",
      "\u001b[1m> Entering new  chain...\u001b[0m\n",
      "Shows me cities with longitude between 0 and 6\n",
      "SQLQuery:\u001b[32;1m\u001b[1;3mSELECT \"name\", \"country\", \"province\", \"latitude\", \"longitude\"\n",
      "FROM city\n",
      "WHERE \"longitude\" BETWEEN 0 AND 6\u001b[0m\n",
      " Consulta SQL gerada, mas houve erro ao executá-la\n"
     ]
    }
   ],
   "source": [
    "execute_query(\"Shows me cities with longitude between 0 and 6\")"
   ]
  },
  {
   "cell_type": "code",
   "execution_count": 30,
   "id": "f5f5e568",
   "metadata": {},
   "outputs": [
    {
     "name": "stdout",
     "output_type": "stream",
     "text": [
      "\n",
      "\n",
      "\u001b[1m> Entering new  chain...\u001b[0m\n",
      "Shows me Airports with elevation more than 5000\n",
      "SQLQuery:\u001b[32;1m\u001b[1;3mSELECT \"iatacode\", \"name\", \"elevation\"\n",
      "FROM airport\n",
      "WHERE \"elevation\" > 5000\u001b[0m\n",
      " Consulta SQL gerada, mas houve erro ao executá-la\n"
     ]
    }
   ],
   "source": [
    "execute_query(\"Shows me Airports with elevation more than 5000\")"
   ]
  },
  {
   "cell_type": "code",
   "execution_count": 31,
   "id": "da184f48",
   "metadata": {},
   "outputs": [
    {
     "name": "stdout",
     "output_type": "stream",
     "text": [
      "\n",
      "\n",
      "\u001b[1m> Entering new  chain...\u001b[0m\n",
      "What language is spoken in Poland?\n",
      "SQLQuery:\u001b[32;1m\u001b[1;3mSELECT localname\n",
      "FROM countrylocalname\n",
      "WHERE country = 'PL'\u001b[0m\n",
      "SQLResult: \u001b[33;1m\u001b[1;3m[('Rzeczpospolita Polska',)]\u001b[0m\n",
      "Answer:\u001b[32;1m\u001b[1;3mThe language spoken in Poland is \"Rzeczpospolita Polska\".\u001b[0m\n",
      "\u001b[1m> Finished chain.\u001b[0m\n"
     ]
    }
   ],
   "source": [
    "execute_query(\"What language is spoken in Poland?\")"
   ]
  },
  {
   "cell_type": "code",
   "execution_count": 32,
   "id": "d72e027a",
   "metadata": {},
   "outputs": [
    {
     "name": "stdout",
     "output_type": "stream",
     "text": [
      "\n",
      "\n",
      "\u001b[1m> Entering new  chain...\u001b[0m\n",
      "Tell me about the religion that is practiced in Haiti\n",
      "SQLQuery:\u001b[32;1m\u001b[1;3mSELECT name\n",
      "FROM religion\n",
      "WHERE country = 'HT'\u001b[0m\n",
      "SQLResult: \u001b[33;1m\u001b[1;3m[]\u001b[0m\n",
      "Answer:\u001b[32;1m\u001b[1;3mFinal answer here: There is no information available about the religion practiced in Haiti in the database.\u001b[0m\n",
      "\u001b[1m> Finished chain.\u001b[0m\n"
     ]
    }
   ],
   "source": [
    "execute_query(\"Tell me about the religion that is practiced in Haiti\")"
   ]
  },
  {
   "cell_type": "code",
   "execution_count": 33,
   "id": "2bc2c927",
   "metadata": {},
   "outputs": [
    {
     "name": "stdout",
     "output_type": "stream",
     "text": [
      "\n",
      "\n",
      "\u001b[1m> Entering new  chain...\u001b[0m\n",
      "How deep is Lake Kariba?\n",
      "SQLQuery:\u001b[32;1m\u001b[1;3mSELECT elevation\n",
      "FROM lake\n",
      "WHERE name = 'Kariba'\u001b[0m\n",
      "SQLResult: \u001b[33;1m\u001b[1;3m[]\u001b[0m\n",
      "Answer:\u001b[32;1m\u001b[1;3mThere is no data available for the elevation of Lake Kariba in the given tables.\u001b[0m\n",
      "\u001b[1m> Finished chain.\u001b[0m\n"
     ]
    }
   ],
   "source": [
    "execute_query(\"How deep is Lake Kariba?\")"
   ]
  },
  {
   "cell_type": "code",
   "execution_count": 34,
   "id": "bd9e3c0e",
   "metadata": {},
   "outputs": [
    {
     "name": "stdout",
     "output_type": "stream",
     "text": [
      "\n",
      "\n",
      "\u001b[1m> Entering new  chain...\u001b[0m\n",
      "What is the capital of Georgia?\n",
      "SQLQuery:\u001b[32;1m\u001b[1;3mSELECT capital\n",
      "FROM country\n",
      "WHERE name = 'Georgia'\u001b[0m\n",
      "SQLResult: \u001b[33;1m\u001b[1;3m[('Tbilisi',)]\u001b[0m\n",
      "Answer:\u001b[32;1m\u001b[1;3mTbilisi\u001b[0m\n",
      "\u001b[1m> Finished chain.\u001b[0m\n"
     ]
    }
   ],
   "source": [
    "execute_query(\"What is the capital of Georgia?\")"
   ]
  },
  {
   "cell_type": "code",
   "execution_count": 35,
   "id": "d3577c09",
   "metadata": {},
   "outputs": [
    {
     "name": "stdout",
     "output_type": "stream",
     "text": [
      "\n",
      "\n",
      "\u001b[1m> Entering new  chain...\u001b[0m\n",
      "What is the total of provinces of Netherlands?\n",
      "SQLQuery:\u001b[32;1m\u001b[1;3mSELECT COUNT(*) AS total_provinces\n",
      "FROM province\n",
      "WHERE country = 'NL'\u001b[0m\n",
      "SQLResult: \u001b[33;1m\u001b[1;3m[(12,)]\u001b[0m\n",
      "Answer:\u001b[32;1m\u001b[1;3mTotal provinces of Netherlands is 12.\u001b[0m\n",
      "\u001b[1m> Finished chain.\u001b[0m\n"
     ]
    }
   ],
   "source": [
    "execute_query(\"What is the total of provinces of Netherlands?\")"
   ]
  },
  {
   "cell_type": "code",
   "execution_count": 36,
   "id": "1dc7ee49",
   "metadata": {},
   "outputs": [
    {
     "name": "stdout",
     "output_type": "stream",
     "text": [
      "\n",
      "\n",
      "\u001b[1m> Entering new  chain...\u001b[0m\n",
      "total provinces Netherland\n",
      "SQLQuery:\u001b[32;1m\u001b[1;3mSELECT COUNT(*) AS total_provinces\n",
      "FROM province\n",
      "WHERE country = 'NL'\u001b[0m\n",
      "SQLResult: \u001b[33;1m\u001b[1;3m[(12,)]\u001b[0m\n",
      "Answer:\u001b[32;1m\u001b[1;3mTotal provinces in Netherlands is 12.\u001b[0m\n",
      "\u001b[1m> Finished chain.\u001b[0m\n"
     ]
    }
   ],
   "source": [
    "execute_query(\"total provinces Netherland\")"
   ]
  },
  {
   "cell_type": "code",
   "execution_count": 37,
   "id": "4c6e0e96",
   "metadata": {},
   "outputs": [
    {
     "name": "stdout",
     "output_type": "stream",
     "text": [
      "\n",
      "\n",
      "\u001b[1m> Entering new  chain...\u001b[0m\n",
      "total Province Netherlands\n",
      "SQLQuery:\u001b[32;1m\u001b[1;3mSELECT COUNT(*) AS total_provinces\n",
      "FROM province\n",
      "WHERE country = 'NL'\u001b[0m\n",
      "SQLResult: \u001b[33;1m\u001b[1;3m[(12,)]\u001b[0m\n",
      "Answer:\u001b[32;1m\u001b[1;3mTotal provinces in Netherlands: 12\u001b[0m\n",
      "\u001b[1m> Finished chain.\u001b[0m\n"
     ]
    }
   ],
   "source": [
    "execute_query(\"total Province Netherlands\")"
   ]
  },
  {
   "cell_type": "code",
   "execution_count": 38,
   "id": "c2c32a97",
   "metadata": {},
   "outputs": [
    {
     "name": "stdout",
     "output_type": "stream",
     "text": [
      "\n",
      "\n",
      "\u001b[1m> Entering new  chain...\u001b[0m\n",
      "What percentage of religious people are hindu in thailand?\n",
      "SQLQuery:\u001b[32;1m\u001b[1;3mSELECT percentage\n",
      "FROM religion\n",
      "WHERE country = 'TH' AND name = 'Hindu'\u001b[0m\n",
      "SQLResult: \u001b[33;1m\u001b[1;3m[]\u001b[0m\n",
      "Answer:\u001b[32;1m\u001b[1;3mFinal answer here: There are no records of Hindu religious people in Thailand.\u001b[0m\n",
      "\u001b[1m> Finished chain.\u001b[0m\n"
     ]
    }
   ],
   "source": [
    "execute_query(\"What percentage of religious people are hindu in thailand?\")"
   ]
  },
  {
   "cell_type": "code",
   "execution_count": 40,
   "id": "4de31d06",
   "metadata": {},
   "outputs": [
    {
     "name": "stdout",
     "output_type": "stream",
     "text": [
      "\n",
      "\n",
      "\u001b[1m> Entering new  chain...\u001b[0m\n",
      "What are the provinces with an area greater than 1000 in Niger?\n",
      "SQLQuery:\u001b[32;1m\u001b[1;3mSELECT name\n",
      "FROM province\n",
      "WHERE country = 'NE' AND area > 1000\u001b[0m\n",
      "SQLResult: \u001b[33;1m\u001b[1;3m[]\u001b[0m\n",
      "Answer:\u001b[32;1m\u001b[1;3mThere are no provinces with an area greater than 1000 in Niger.\u001b[0m\n",
      "\u001b[1m> Finished chain.\u001b[0m\n"
     ]
    }
   ],
   "source": [
    "execute_query(\"What are the provinces with an area greater than 1000 in Niger?\")"
   ]
  },
  {
   "cell_type": "code",
   "execution_count": 53,
   "id": "c057baf2",
   "metadata": {},
   "outputs": [
    {
     "name": "stdout",
     "output_type": "stream",
     "text": [
      "\n",
      "\n",
      "\u001b[1m> Entering new  chain...\u001b[0m\n",
      "The Chatanga River belongs to which country?\n",
      "SQLQuery:\u001b[32;1m\u001b[1;3mSELECT country\n",
      "FROM borders\n",
      "WHERE country2 = 'Chatanga'\u001b[0m\n",
      " Consulta SQL gerada, mas houve erro ao executá-la\n"
     ]
    }
   ],
   "source": [
    "execute_query(\"The Chatanga River belongs to which country?\")"
   ]
  },
  {
   "cell_type": "code",
   "execution_count": 43,
   "id": "d2d27354",
   "metadata": {},
   "outputs": [
    {
     "name": "stdout",
     "output_type": "stream",
     "text": [
      "\n",
      "\n",
      "\u001b[1m> Entering new  chain...\u001b[0m\n",
      "What province is the city of Glendale in?\n",
      "SQLQuery:\u001b[32;1m\u001b[1;3mSELECT province\n",
      "FROM city\n",
      "WHERE name = 'Glendale'\u001b[0m\n",
      "SQLResult: \u001b[33;1m\u001b[1;3m[('Arizona',), ('California',)]\u001b[0m\n",
      "Answer:\u001b[32;1m\u001b[1;3mThe city of Glendale is in the provinces of Arizona and California.\u001b[0m\n",
      "\u001b[1m> Finished chain.\u001b[0m\n"
     ]
    }
   ],
   "source": [
    "execute_query(\"What province is the city of Glendale in?\")"
   ]
  },
  {
   "cell_type": "code",
   "execution_count": 54,
   "id": "c90f100f",
   "metadata": {},
   "outputs": [
    {
     "name": "stdout",
     "output_type": "stream",
     "text": [
      "\n",
      "\n",
      "\u001b[1m> Entering new  chain...\u001b[0m\n",
      "What is the area of the city Granada in Nicaragua?\n",
      "SQLQuery:\u001b[32;1m\u001b[1;3mSELECT area\n",
      "FROM city\n",
      "WHERE name = 'Granada' AND country = 'NI';\u001b[0m\n",
      " Consulta SQL gerada, mas houve erro ao executá-la\n"
     ]
    }
   ],
   "source": [
    "execute_query(\"What is the area of the city Granada in Nicaragua?\")"
   ]
  },
  {
   "cell_type": "code",
   "execution_count": 45,
   "id": "eca2971d",
   "metadata": {},
   "outputs": [
    {
     "name": "stdout",
     "output_type": "stream",
     "text": [
      "\n",
      "\n",
      "\u001b[1m> Entering new  chain...\u001b[0m\n",
      "tell me about the Caribbean economic\n",
      "SQLQuery:\u001b[32;1m\u001b[1;3mSELECT *\n",
      "FROM economy\n",
      "WHERE country IN (\n",
      "    SELECT country\n",
      "    FROM encompasses\n",
      "    WHERE continent = 'Caribbean'\n",
      ")\u001b[0m\n",
      "SQLResult: \u001b[33;1m\u001b[1;3m[]\u001b[0m\n",
      "Answer:\u001b[32;1m\u001b[1;3mThere is no information available about the Caribbean economy in the database.\u001b[0m\n",
      "\u001b[1m> Finished chain.\u001b[0m\n"
     ]
    }
   ],
   "source": [
    "execute_query(\"tell me about the Caribbean economic\")"
   ]
  },
  {
   "cell_type": "code",
   "execution_count": 55,
   "id": "ff395c65",
   "metadata": {},
   "outputs": [
    {
     "name": "stdout",
     "output_type": "stream",
     "text": [
      "\n",
      "\n",
      "\u001b[1m> Entering new  chain...\u001b[0m\n",
      "Tell me about the country with the area largest.\n",
      "SQLQuery:\u001b[32;1m\u001b[1;3mSELECT name, area\n",
      "FROM country\n",
      "ORDER BY area DESC\n",
      "FETCH FIRST 1 ROWS ONLY;\u001b[0m\n",
      " Consulta SQL gerada, mas houve erro ao executá-la\n"
     ]
    }
   ],
   "source": [
    "execute_query(\"Tell me about the country with the area largest.\")"
   ]
  },
  {
   "cell_type": "code",
   "execution_count": 50,
   "id": "36cb218a",
   "metadata": {},
   "outputs": [
    {
     "name": "stdout",
     "output_type": "stream",
     "text": [
      "\n",
      "\n",
      "\u001b[1m> Entering new  chain...\u001b[0m\n",
      "What is the host province of the International Energy Agency?\n",
      "SQLQuery:\u001b[32;1m\u001b[1;3mSELECT province\n",
      "FROM organization\n",
      "WHERE name = 'International Energy Agency'\u001b[0m\n",
      "SQLResult: \u001b[33;1m\u001b[1;3m[('ÃŽle-de-France',)]\u001b[0m\n",
      "Answer:\u001b[32;1m\u001b[1;3mÃŽle-de-France\u001b[0m\n",
      "\u001b[1m> Finished chain.\u001b[0m\n"
     ]
    }
   ],
   "source": [
    "execute_query(\"What is the host province of the International Energy Agency?\")"
   ]
  },
  {
   "cell_type": "code",
   "execution_count": 56,
   "id": "bdd2aff9",
   "metadata": {},
   "outputs": [
    {
     "name": "stdout",
     "output_type": "stream",
     "text": [
      "\n",
      "\n",
      "\u001b[1m> Entering new  chain...\u001b[0m\n",
      " What is Mexico's independence day?\n",
      "SQLQuery:\u001b[32;1m\u001b[1;3mSELECT independence\n",
      "FROM politics\n",
      "WHERE country = 'MEX';\u001b[0m\n",
      " Consulta SQL gerada, mas houve erro ao executá-la\n"
     ]
    }
   ],
   "source": [
    "execute_query(\" What is Mexico's independence day?\")"
   ]
  }
 ],
 "metadata": {
  "kernelspec": {
   "display_name": "Python 3 (ipykernel)",
   "language": "python",
   "name": "python3"
  },
  "language_info": {
   "codemirror_mode": {
    "name": "ipython",
    "version": 3
   },
   "file_extension": ".py",
   "mimetype": "text/x-python",
   "name": "python",
   "nbconvert_exporter": "python",
   "pygments_lexer": "ipython3",
   "version": "3.10.0"
  }
 },
 "nbformat": 4,
 "nbformat_minor": 5
}
